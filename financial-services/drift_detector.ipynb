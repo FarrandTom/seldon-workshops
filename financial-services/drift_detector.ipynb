{
 "cells": [
  {
   "cell_type": "markdown",
   "id": "575a6fe2",
   "metadata": {},
   "source": [
    "# Drift Detection\n",
    "We will use KS drift"
   ]
  },
  {
   "cell_type": "code",
   "execution_count": 8,
   "id": "f63b2d62",
   "metadata": {},
   "outputs": [
    {
     "data": {
      "text/plain": [
       "<seaborn.axisgrid.FacetGrid at 0x7f72ec384130>"
      ]
     },
     "execution_count": 8,
     "metadata": {},
     "output_type": "execute_result"
    },
    {
     "data": {
      "image/png": "[encoded data removed]",
      "text/plain": [
       "<Figure size 360x360 with 1 Axes>"
      ]
     },
     "metadata": {
      "needs_background": "light"
     },
     "output_type": "display_data"
    }
   ],
   "source": [
    "sns.displot(X['amount'])"
   ]
  },
  {
   "cell_type": "code",
   "execution_count": 26,
   "id": "cd56bc36",
   "metadata": {},
   "outputs": [
    {
     "data": {
      "text/plain": [
       "<seaborn.axisgrid.FacetGrid at 0x7f71ec9361c0>"
      ]
     },
     "execution_count": 26,
     "metadata": {},
     "output_type": "execute_result"
    },
    {
     "data": {
      "image/png": "[encoded data removed]",
      "text/plain": [
       "<Figure size 360x360 with 1 Axes>"
      ]
     },
     "metadata": {
      "needs_background": "light"
     },
     "output_type": "display_data"
    }
   ],
   "source": [
    "sns.displot(X['errorBalanceOrig'])"
   ]
  },
  {
   "cell_type": "code",
   "execution_count": 28,
   "id": "b05c6542",
   "metadata": {
    "scrolled": true
   },
   "outputs": [
    {
     "name": "stdout",
     "output_type": "stream",
     "text": [
      "Collecting alibi-detect\n",
      "  Downloading alibi_detect-0.5.1-py3-none-any.whl (160 kB)\n",
      "\u001b[K     |████████████████████████████████| 160 kB 2.5 MB/s eta 0:00:01\n",
      "\u001b[?25hRequirement already satisfied: numpy<2.0.0,>=1.16.2 in /home/tom/miniconda3/envs/seldon-workshops-financial-services/lib/python3.8/site-packages (from alibi-detect) (1.19.2)\n",
      "Requirement already satisfied: matplotlib<4.0.0,>=3.0.0 in /home/tom/miniconda3/envs/seldon-workshops-financial-services/lib/python3.8/site-packages (from alibi-detect) (3.3.4)\n",
      "Collecting transformers<5.0.0,>=2.10.0\n",
      "  Downloading transformers-4.5.0-py3-none-any.whl (2.1 MB)\n",
      "\u001b[K     |████████████████████████████████| 2.1 MB 11.8 MB/s eta 0:00:01     |██████████████▌                 | 972 kB 11.8 MB/s eta 0:00:01\n",
      "\u001b[?25hCollecting dask[array]<2022.0.0,>=2.0.0\n",
      "  Downloading dask-2021.4.0-py3-none-any.whl (941 kB)\n",
      "\u001b[K     |████████████████████████████████| 941 kB 11.6 MB/s eta 0:00:01\n",
      "\u001b[?25hRequirement already satisfied: scikit-learn<0.25.0,>=0.20.2 in /home/tom/miniconda3/envs/seldon-workshops-financial-services/lib/python3.8/site-packages (from alibi-detect) (0.24.1)\n",
      "Collecting opencv-python<5.0.0,>=3.2.0\n",
      "  Downloading opencv_python-4.5.1.48-cp38-cp38-manylinux2014_x86_64.whl (50.4 MB)\n",
      "\u001b[K     |████████████████████████████████| 50.4 MB 14.0 MB/s eta 0:00:01\n",
      "\u001b[?25hCollecting tensorflow-probability<0.13.0,>=0.8.0\n",
      "  Using cached tensorflow_probability-0.12.1-py2.py3-none-any.whl (4.8 MB)\n",
      "Requirement already satisfied: scipy<2.0.0,>=1.3.0 in /home/tom/miniconda3/envs/seldon-workshops-financial-services/lib/python3.8/site-packages (from alibi-detect) (1.6.2)\n",
      "Requirement already satisfied: Pillow<9.0.0,>=5.4.1 in /home/tom/miniconda3/envs/seldon-workshops-financial-services/lib/python3.8/site-packages (from alibi-detect) (8.2.0)\n",
      "Requirement already satisfied: tensorflow<2.5.0,>=2.0.0 in /home/tom/miniconda3/envs/seldon-workshops-financial-services/lib/python3.8/site-packages (from alibi-detect) (2.4.1)\n",
      "Requirement already satisfied: pandas<2.0.0,>=0.23.3 in /home/tom/miniconda3/envs/seldon-workshops-financial-services/lib/python3.8/site-packages (from alibi-detect) (1.2.3)\n",
      "Requirement already satisfied: scikit-image!=0.17.1,<0.19,>=0.14.2 in /home/tom/miniconda3/envs/seldon-workshops-financial-services/lib/python3.8/site-packages (from alibi-detect) (0.18.1)\n",
      "Collecting pyyaml\n",
      "  Downloading PyYAML-5.4.1-cp38-cp38-manylinux1_x86_64.whl (662 kB)\n",
      "\u001b[K     |████████████████████████████████| 662 kB 11.9 MB/s eta 0:00:01\n",
      "\u001b[?25hCollecting cloudpickle>=1.1.1\n",
      "  Using cached cloudpickle-1.6.0-py3-none-any.whl (23 kB)\n",
      "Collecting toolz>=0.8.2\n",
      "  Using cached toolz-0.11.1-py3-none-any.whl (55 kB)\n",
      "Collecting fsspec>=0.6.0\n",
      "  Downloading fsspec-0.9.0-py3-none-any.whl (107 kB)\n",
      "\u001b[K     |████████████████████████████████| 107 kB 27.1 MB/s eta 0:00:01\n",
      "\u001b[?25hCollecting partd>=0.3.10\n",
      "  Downloading partd-1.2.0-py3-none-any.whl (19 kB)\n",
      "Requirement already satisfied: pyparsing!=2.0.4,!=2.1.2,!=2.1.6,>=2.0.3 in /home/tom/miniconda3/envs/seldon-workshops-financial-services/lib/python3.8/site-packages (from matplotlib<4.0.0,>=3.0.0->alibi-detect) (2.4.7)\n",
      "Requirement already satisfied: kiwisolver>=1.0.1 in /home/tom/miniconda3/envs/seldon-workshops-financial-services/lib/python3.8/site-packages (from matplotlib<4.0.0,>=3.0.0->alibi-detect) (1.3.1)\n",
      "Requirement already satisfied: python-dateutil>=2.1 in /home/tom/miniconda3/envs/seldon-workshops-financial-services/lib/python3.8/site-packages (from matplotlib<4.0.0,>=3.0.0->alibi-detect) (2.8.1)\n",
      "Requirement already satisfied: cycler>=0.10 in /home/tom/miniconda3/envs/seldon-workshops-financial-services/lib/python3.8/site-packages (from matplotlib<4.0.0,>=3.0.0->alibi-detect) (0.10.0)\n",
      "Requirement already satisfied: six in /home/tom/miniconda3/envs/seldon-workshops-financial-services/lib/python3.8/site-packages (from cycler>=0.10->matplotlib<4.0.0,>=3.0.0->alibi-detect) (1.15.0)\n",
      "Requirement already satisfied: pytz>=2017.3 in /home/tom/miniconda3/envs/seldon-workshops-financial-services/lib/python3.8/site-packages (from pandas<2.0.0,>=0.23.3->alibi-detect) (2021.1)\n",
      "Collecting locket\n",
      "  Downloading locket-0.2.1-py2.py3-none-any.whl (4.1 kB)\n",
      "Requirement already satisfied: tifffile>=2019.7.26 in /home/tom/miniconda3/envs/seldon-workshops-financial-services/lib/python3.8/site-packages (from scikit-image!=0.17.1,<0.19,>=0.14.2->alibi-detect) (2021.3.31)\n",
      "Requirement already satisfied: networkx>=2.0 in /home/tom/miniconda3/envs/seldon-workshops-financial-services/lib/python3.8/site-packages (from scikit-image!=0.17.1,<0.19,>=0.14.2->alibi-detect) (2.5.1)\n",
      "Requirement already satisfied: imageio>=2.3.0 in /home/tom/miniconda3/envs/seldon-workshops-financial-services/lib/python3.8/site-packages (from scikit-image!=0.17.1,<0.19,>=0.14.2->alibi-detect) (2.9.0)\n",
      "Requirement already satisfied: PyWavelets>=1.1.1 in /home/tom/miniconda3/envs/seldon-workshops-financial-services/lib/python3.8/site-packages (from scikit-image!=0.17.1,<0.19,>=0.14.2->alibi-detect) (1.1.1)\n",
      "Requirement already satisfied: decorator<5,>=4.3 in /home/tom/miniconda3/envs/seldon-workshops-financial-services/lib/python3.8/site-packages (from networkx>=2.0->scikit-image!=0.17.1,<0.19,>=0.14.2->alibi-detect) (4.4.2)\n",
      "Requirement already satisfied: threadpoolctl>=2.0.0 in /home/tom/miniconda3/envs/seldon-workshops-financial-services/lib/python3.8/site-packages (from scikit-learn<0.25.0,>=0.20.2->alibi-detect) (2.1.0)\n",
      "Requirement already satisfied: joblib>=0.11 in /home/tom/miniconda3/envs/seldon-workshops-financial-services/lib/python3.8/site-packages (from scikit-learn<0.25.0,>=0.20.2->alibi-detect) (1.0.1)\n",
      "Requirement already satisfied: flatbuffers~=1.12.0 in /home/tom/miniconda3/envs/seldon-workshops-financial-services/lib/python3.8/site-packages (from tensorflow<2.5.0,>=2.0.0->alibi-detect) (1.12)\n",
      "Requirement already satisfied: wrapt~=1.12.1 in /home/tom/miniconda3/envs/seldon-workshops-financial-services/lib/python3.8/site-packages (from tensorflow<2.5.0,>=2.0.0->alibi-detect) (1.12.1)\n",
      "Requirement already satisfied: tensorboard~=2.4 in /home/tom/miniconda3/envs/seldon-workshops-financial-services/lib/python3.8/site-packages (from tensorflow<2.5.0,>=2.0.0->alibi-detect) (2.4.1)\n",
      "Requirement already satisfied: google-pasta~=0.2 in /home/tom/miniconda3/envs/seldon-workshops-financial-services/lib/python3.8/site-packages (from tensorflow<2.5.0,>=2.0.0->alibi-detect) (0.2.0)\n",
      "Requirement already satisfied: protobuf>=3.9.2 in /home/tom/miniconda3/envs/seldon-workshops-financial-services/lib/python3.8/site-packages (from tensorflow<2.5.0,>=2.0.0->alibi-detect) (3.15.7)\n",
      "Requirement already satisfied: opt-einsum~=3.3.0 in /home/tom/miniconda3/envs/seldon-workshops-financial-services/lib/python3.8/site-packages (from tensorflow<2.5.0,>=2.0.0->alibi-detect) (3.3.0)\n",
      "Requirement already satisfied: typing-extensions~=3.7.4 in /home/tom/miniconda3/envs/seldon-workshops-financial-services/lib/python3.8/site-packages (from tensorflow<2.5.0,>=2.0.0->alibi-detect) (3.7.4.3)\n",
      "Requirement already satisfied: tensorflow-estimator<2.5.0,>=2.4.0 in /home/tom/miniconda3/envs/seldon-workshops-financial-services/lib/python3.8/site-packages (from tensorflow<2.5.0,>=2.0.0->alibi-detect) (2.4.0)\n",
      "Requirement already satisfied: wheel~=0.35 in /home/tom/miniconda3/envs/seldon-workshops-financial-services/lib/python3.8/site-packages (from tensorflow<2.5.0,>=2.0.0->alibi-detect) (0.36.2)\n",
      "Requirement already satisfied: absl-py~=0.10 in /home/tom/miniconda3/envs/seldon-workshops-financial-services/lib/python3.8/site-packages (from tensorflow<2.5.0,>=2.0.0->alibi-detect) (0.12.0)\n",
      "Requirement already satisfied: astunparse~=1.6.3 in /home/tom/miniconda3/envs/seldon-workshops-financial-services/lib/python3.8/site-packages (from tensorflow<2.5.0,>=2.0.0->alibi-detect) (1.6.3)\n",
      "Requirement already satisfied: h5py~=2.10.0 in /home/tom/miniconda3/envs/seldon-workshops-financial-services/lib/python3.8/site-packages (from tensorflow<2.5.0,>=2.0.0->alibi-detect) (2.10.0)\n",
      "Requirement already satisfied: termcolor~=1.1.0 in /home/tom/miniconda3/envs/seldon-workshops-financial-services/lib/python3.8/site-packages (from tensorflow<2.5.0,>=2.0.0->alibi-detect) (1.1.0)\n",
      "Requirement already satisfied: keras-preprocessing~=1.1.2 in /home/tom/miniconda3/envs/seldon-workshops-financial-services/lib/python3.8/site-packages (from tensorflow<2.5.0,>=2.0.0->alibi-detect) (1.1.2)\n",
      "Requirement already satisfied: gast==0.3.3 in /home/tom/miniconda3/envs/seldon-workshops-financial-services/lib/python3.8/site-packages (from tensorflow<2.5.0,>=2.0.0->alibi-detect) (0.3.3)\n",
      "Requirement already satisfied: grpcio~=1.32.0 in /home/tom/miniconda3/envs/seldon-workshops-financial-services/lib/python3.8/site-packages (from tensorflow<2.5.0,>=2.0.0->alibi-detect) (1.32.0)\n"
     ]
    },
    {
     "name": "stdout",
     "output_type": "stream",
     "text": [
      "Requirement already satisfied: markdown>=2.6.8 in /home/tom/miniconda3/envs/seldon-workshops-financial-services/lib/python3.8/site-packages (from tensorboard~=2.4->tensorflow<2.5.0,>=2.0.0->alibi-detect) (3.3.4)\n",
      "Requirement already satisfied: setuptools>=41.0.0 in /home/tom/miniconda3/envs/seldon-workshops-financial-services/lib/python3.8/site-packages (from tensorboard~=2.4->tensorflow<2.5.0,>=2.0.0->alibi-detect) (52.0.0.post20210125)\n",
      "Requirement already satisfied: google-auth<2,>=1.6.3 in /home/tom/miniconda3/envs/seldon-workshops-financial-services/lib/python3.8/site-packages (from tensorboard~=2.4->tensorflow<2.5.0,>=2.0.0->alibi-detect) (1.28.0)\n",
      "Requirement already satisfied: tensorboard-plugin-wit>=1.6.0 in /home/tom/miniconda3/envs/seldon-workshops-financial-services/lib/python3.8/site-packages (from tensorboard~=2.4->tensorflow<2.5.0,>=2.0.0->alibi-detect) (1.8.0)\n",
      "Requirement already satisfied: werkzeug>=0.11.15 in /home/tom/miniconda3/envs/seldon-workshops-financial-services/lib/python3.8/site-packages (from tensorboard~=2.4->tensorflow<2.5.0,>=2.0.0->alibi-detect) (1.0.1)\n",
      "Requirement already satisfied: requests<3,>=2.21.0 in /home/tom/miniconda3/envs/seldon-workshops-financial-services/lib/python3.8/site-packages (from tensorboard~=2.4->tensorflow<2.5.0,>=2.0.0->alibi-detect) (2.25.1)\n",
      "Requirement already satisfied: google-auth-oauthlib<0.5,>=0.4.1 in /home/tom/miniconda3/envs/seldon-workshops-financial-services/lib/python3.8/site-packages (from tensorboard~=2.4->tensorflow<2.5.0,>=2.0.0->alibi-detect) (0.4.4)\n",
      "Requirement already satisfied: pyasn1-modules>=0.2.1 in /home/tom/miniconda3/envs/seldon-workshops-financial-services/lib/python3.8/site-packages (from google-auth<2,>=1.6.3->tensorboard~=2.4->tensorflow<2.5.0,>=2.0.0->alibi-detect) (0.2.8)\n",
      "Requirement already satisfied: cachetools<5.0,>=2.0.0 in /home/tom/miniconda3/envs/seldon-workshops-financial-services/lib/python3.8/site-packages (from google-auth<2,>=1.6.3->tensorboard~=2.4->tensorflow<2.5.0,>=2.0.0->alibi-detect) (4.2.1)\n",
      "Requirement already satisfied: rsa<5,>=3.1.4 in /home/tom/miniconda3/envs/seldon-workshops-financial-services/lib/python3.8/site-packages (from google-auth<2,>=1.6.3->tensorboard~=2.4->tensorflow<2.5.0,>=2.0.0->alibi-detect) (4.7.2)\n",
      "Requirement already satisfied: requests-oauthlib>=0.7.0 in /home/tom/miniconda3/envs/seldon-workshops-financial-services/lib/python3.8/site-packages (from google-auth-oauthlib<0.5,>=0.4.1->tensorboard~=2.4->tensorflow<2.5.0,>=2.0.0->alibi-detect) (1.3.0)\n",
      "Requirement already satisfied: pyasn1<0.5.0,>=0.4.6 in /home/tom/miniconda3/envs/seldon-workshops-financial-services/lib/python3.8/site-packages (from pyasn1-modules>=0.2.1->google-auth<2,>=1.6.3->tensorboard~=2.4->tensorflow<2.5.0,>=2.0.0->alibi-detect) (0.4.8)\n",
      "Requirement already satisfied: urllib3<1.27,>=1.21.1 in /home/tom/miniconda3/envs/seldon-workshops-financial-services/lib/python3.8/site-packages (from requests<3,>=2.21.0->tensorboard~=2.4->tensorflow<2.5.0,>=2.0.0->alibi-detect) (1.26.4)\n",
      "Requirement already satisfied: certifi>=2017.4.17 in /home/tom/miniconda3/envs/seldon-workshops-financial-services/lib/python3.8/site-packages (from requests<3,>=2.21.0->tensorboard~=2.4->tensorflow<2.5.0,>=2.0.0->alibi-detect) (2020.12.5)\n",
      "Requirement already satisfied: chardet<5,>=3.0.2 in /home/tom/miniconda3/envs/seldon-workshops-financial-services/lib/python3.8/site-packages (from requests<3,>=2.21.0->tensorboard~=2.4->tensorflow<2.5.0,>=2.0.0->alibi-detect) (4.0.0)\n",
      "Requirement already satisfied: idna<3,>=2.5 in /home/tom/miniconda3/envs/seldon-workshops-financial-services/lib/python3.8/site-packages (from requests<3,>=2.21.0->tensorboard~=2.4->tensorflow<2.5.0,>=2.0.0->alibi-detect) (2.10)\n",
      "Requirement already satisfied: oauthlib>=3.0.0 in /home/tom/miniconda3/envs/seldon-workshops-financial-services/lib/python3.8/site-packages (from requests-oauthlib>=0.7.0->google-auth-oauthlib<0.5,>=0.4.1->tensorboard~=2.4->tensorflow<2.5.0,>=2.0.0->alibi-detect) (3.1.0)\n",
      "Collecting dm-tree\n",
      "  Downloading dm_tree-0.1.5-cp38-cp38-manylinux2014_x86_64.whl (91 kB)\n",
      "\u001b[K     |████████████████████████████████| 91 kB 12.3 MB/s eta 0:00:01\n",
      "\u001b[?25hCollecting sacremoses\n",
      "  Downloading sacremoses-0.0.44.tar.gz (862 kB)\n",
      "\u001b[K     |████████████████████████████████| 862 kB 29.5 MB/s eta 0:00:01\n",
      "\u001b[?25hCollecting regex!=2019.12.17\n",
      "  Downloading regex-2021.4.4-cp38-cp38-manylinux2014_x86_64.whl (733 kB)\n",
      "\u001b[K     |████████████████████████████████| 733 kB 1.9 MB/s eta 0:00:01\n",
      "\u001b[?25hCollecting tokenizers<0.11,>=0.10.1\n",
      "  Downloading tokenizers-0.10.2-cp38-cp38-manylinux2010_x86_64.whl (3.3 MB)\n",
      "\u001b[K     |████████████████████████████████| 3.3 MB 28.5 MB/s eta 0:00:01\n",
      "\u001b[?25hRequirement already satisfied: tqdm>=4.27 in /home/tom/miniconda3/envs/seldon-workshops-financial-services/lib/python3.8/site-packages (from transformers<5.0.0,>=2.10.0->alibi-detect) (4.60.0)\n",
      "Requirement already satisfied: packaging in /home/tom/miniconda3/envs/seldon-workshops-financial-services/lib/python3.8/site-packages (from transformers<5.0.0,>=2.10.0->alibi-detect) (20.9)\n",
      "Collecting filelock\n",
      "  Using cached filelock-3.0.12-py3-none-any.whl (7.6 kB)\n",
      "Requirement already satisfied: click in /home/tom/miniconda3/envs/seldon-workshops-financial-services/lib/python3.8/site-packages (from sacremoses->transformers<5.0.0,>=2.10.0->alibi-detect) (7.1.2)\n",
      "Building wheels for collected packages: sacremoses\n",
      "  Building wheel for sacremoses (setup.py) ... \u001b[?25ldone\n",
      "\u001b[?25h  Created wheel for sacremoses: filename=sacremoses-0.0.44-py3-none-any.whl size=886084 sha256=6b0f36e99aa82f722a3f95995d00c0dd91621b7f4180f9f93b61391f0fd94860\n",
      "  Stored in directory: /home/tom/.cache/pip/wheels/d6/17/75/f2ed13c472c4cecc14f003401bb45efadca64cc589d4bf3103\n",
      "Successfully built sacremoses\n",
      "Installing collected packages: toolz, locket, regex, pyyaml, partd, fsspec, cloudpickle, tokenizers, sacremoses, filelock, dm-tree, dask, transformers, tensorflow-probability, opencv-python, alibi-detect\n",
      "Successfully installed alibi-detect-0.5.1 cloudpickle-1.6.0 dask-2021.4.0 dm-tree-0.1.5 filelock-3.0.12 fsspec-0.9.0 locket-0.2.1 opencv-python-4.5.1.48 partd-1.2.0 pyyaml-5.4.1 regex-2021.4.4 sacremoses-0.0.44 tensorflow-probability-0.12.1 tokenizers-0.10.2 toolz-0.11.1 transformers-4.5.0\n"
     ]
    }
   ],
   "source": [
    "!pip install alibi-detect"
   ]
  },
  {
   "cell_type": "code",
   "execution_count": 44,
   "id": "075e409d",
   "metadata": {},
   "outputs": [],
   "source": [
    "from alibi_detect.cd import KSDrift\n",
    "from alibi_detect.utils.saving import save_detector, load_detector\n",
    "\n",
    "trainX_array = trainX.to_numpy()\n",
    "testX_array = testX.to_numpy()\n",
    "trainY_array = trainY.to_numpy()\n",
    "testY_array = testY.to_numpy()\n",
    "\n",
    "def random_sample(X: np.ndarray, y: np.ndarray, proba_zero: float, n: int):\n",
    "    if len(y.shape) == 1:\n",
    "        idx_0 = np.where(y == 0)[0]\n",
    "        idx_1 = np.where(y == 1)[0]\n",
    "    else:\n",
    "        idx_0 = np.where(y[:, 0] == 1)[0]\n",
    "        idx_1 = np.where(y[:, 1] == 1)[0]\n",
    "    n_0, n_1 = int(n * proba_zero), int(n * (1 - proba_zero))\n",
    "    idx_0_out = np.random.choice(idx_0, n_0, replace=False)\n",
    "    idx_1_out = np.random.choice(idx_1, n_1, replace=False)\n",
    "    X_out = np.concatenate([X[idx_0_out], X[idx_1_out]])\n",
    "    y_out = np.concatenate([y[idx_0_out], y[idx_1_out]])\n",
    "    return X_out, y_out\n",
    "\n",
    "cd = KSDrift(\n",
    "    p_val=.10,\n",
    "    X_ref=trainX_array,            # reference data to test against\n",
    "    preprocess_X_ref=False\n",
    ")"
   ]
  },
  {
   "cell_type": "code",
   "execution_count": 52,
   "id": "6adfb6d0",
   "metadata": {},
   "outputs": [],
   "source": [
    "X_sample = random_sample(testX_array, testY_array, proba_zero=.5, n=1000)[0]"
   ]
  },
  {
   "cell_type": "code",
   "execution_count": 53,
   "id": "09d52922",
   "metadata": {},
   "outputs": [
    {
     "data": {
      "text/plain": [
       "array([[ 1.89000000e+02,  1.00000000e+00,  3.12559600e+04, ...,\n",
       "         2.26035320e+05,  3.12559600e+04, -2.91038305e-11],\n",
       "       [ 2.37000000e+02,  0.00000000e+00,  3.51681570e+05, ...,\n",
       "         5.32399860e+05,  3.31371570e+05,  0.00000000e+00],\n",
       "       [ 4.03000000e+02,  1.00000000e+00,  2.96815000e+04, ...,\n",
       "         3.52848690e+05,  2.96815000e+04,  0.00000000e+00],\n",
       "       ...,\n",
       "       [ 1.74000000e+02,  1.00000000e+00,  1.88872200e+04, ...,\n",
       "         1.88872200e+04,  0.00000000e+00,  0.00000000e+00],\n",
       "       [ 3.61000000e+02,  1.00000000e+00,  1.74201206e+06, ...,\n",
       "         1.81289367e+06,  0.00000000e+00,  2.32830644e-10],\n",
       "       [ 4.00000000e+01,  1.00000000e+00,  6.18877244e+06, ...,\n",
       "         1.24428366e+07,  0.00000000e+00, -1.97267430e+05]])"
      ]
     },
     "execution_count": 53,
     "metadata": {},
     "output_type": "execute_result"
    }
   ],
   "source": [
    "X_sample"
   ]
  },
  {
   "cell_type": "code",
   "execution_count": 54,
   "id": "b020990b",
   "metadata": {},
   "outputs": [
    {
     "name": "stdout",
     "output_type": "stream",
     "text": [
      "Drift? Yes!\n",
      "p-value: [2.7123981e-35 7.5072457e-22 2.9568718e-27 0.0000000e+00 0.0000000e+00\n",
      " 0.0000000e+00 0.0000000e+00 0.0000000e+00 0.0000000e+00]\n"
     ]
    }
   ],
   "source": [
    "preds_h0 = cd.predict(X_sample, return_p_val=True)\n",
    "labels = ['No!', 'Yes!']\n",
    "print('Drift? {}'.format(labels[preds_h0['data']['is_drift']]))\n",
    "print('p-value: {}'.format(preds_h0['data']['p_val']))"
   ]
  },
  {
   "cell_type": "code",
   "execution_count": 49,
   "id": "4cc4ce71",
   "metadata": {
    "scrolled": true
   },
   "outputs": [
    {
     "data": {
      "text/plain": [
       "array([[<AxesSubplot:title={'center':'step'}>,\n",
       "        <AxesSubplot:title={'center':'type'}>,\n",
       "        <AxesSubplot:title={'center':'amount'}>],\n",
       "       [<AxesSubplot:title={'center':'oldBalanceOrig'}>,\n",
       "        <AxesSubplot:title={'center':'newBalanceOrig'}>,\n",
       "        <AxesSubplot:title={'center':'oldBalanceDest'}>],\n",
       "       [<AxesSubplot:title={'center':'newBalanceDest'}>,\n",
       "        <AxesSubplot:title={'center':'errorBalanceOrig'}>,\n",
       "        <AxesSubplot:title={'center':'errorBalanceDest'}>]], dtype=object)"
      ]
     },
     "execution_count": 49,
     "metadata": {},
     "output_type": "execute_result"
    },
    {
     "data": {
      "image/png": "[encoded data removed]",
      "text/plain": [
       "<Figure size 1008x648 with 9 Axes>"
      ]
     },
     "metadata": {
      "needs_background": "light"
     },
     "output_type": "display_data"
    }
   ],
   "source": [
    "X.hist(figsize=(14, 9))"
   ]
  },
  {
   "cell_type": "code",
   "execution_count": null,
   "id": "13839085",
   "metadata": {},
   "outputs": [],
   "source": []
  }
 ],
 "metadata": {
  "kernelspec": {
   "display_name": "Python 3",
   "language": "python",
   "name": "python3"
  },
  "language_info": {
   "codemirror_mode": {
    "name": "ipython",
    "version": 3
   },
   "file_extension": ".py",
   "mimetype": "text/x-python",
   "name": "python",
   "nbconvert_exporter": "python",
   "pygments_lexer": "ipython3",
   "version": "3.8.2"
  }
 },
 "nbformat": 4,
 "nbformat_minor": 5
}
