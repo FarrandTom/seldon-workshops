{
 "cells": [
  {
   "cell_type": "code",
   "execution_count": 1,
   "id": "entire-production",
   "metadata": {},
   "outputs": [],
   "source": [
    "# Train a neural network to predict the solubility of molecules.  First load the data.\n",
    "import deepchem as dc\n",
    "tasks, datasets, transformers = dc.molnet.load_delaney(featurizer='GraphConv')\n",
    "train_dataset, valid_dataset, test_dataset = datasets"
   ]
  },
  {
   "cell_type": "code",
   "execution_count": 2,
   "id": "trying-breeding",
   "metadata": {},
   "outputs": [
    {
     "name": "stderr",
     "output_type": "stream",
     "text": [
      "/home/tom/miniconda3/envs/seldon-workshops-life-sciences/lib/python3.6/site-packages/tensorflow/python/framework/indexed_slices.py:433: UserWarning: Converting sparse IndexedSlices to a dense Tensor of unknown shape. This may consume a large amount of memory.\n",
      "  \"Converting sparse IndexedSlices to a dense Tensor of unknown shape. \"\n"
     ]
    }
   ],
   "source": [
    "# Create and train the model.\n",
    "\n",
    "model = dc.models.GraphConvModel(n_tasks=1, mode='regression', dropout=0.2)\n",
    "model.fit(train_dataset, nb_epoch=100)\n",
    "model.save_checkpoint(model_dir=\"./ckpt-model\")"
   ]
  },
  {
   "cell_type": "code",
   "execution_count": 3,
   "id": "separated-study",
   "metadata": {},
   "outputs": [],
   "source": [
    "model.restore(model_dir=\"./ckpt-model\")"
   ]
  },
  {
   "cell_type": "code",
   "execution_count": 4,
   "id": "ongoing-bachelor",
   "metadata": {},
   "outputs": [
    {
     "name": "stdout",
     "output_type": "stream",
     "text": [
      "Training set score\n",
      "{'pearson_r2_score': 0.9193097602421073}\n",
      "Test set score\n",
      "{'pearson_r2_score': 0.6520786464744863}\n",
      "\n",
      "Molecule: COC(C)(C)CCCC(C)CC=CC(C)=CC(=O)OC(C)C\n",
      "Predicted solubility: [-0.57873654]\n",
      "\n",
      "Molecule: CCOC(=O)CC\n",
      "Predicted solubility: [1.8087548]\n",
      "\n",
      "Molecule: CSc1nc(NC(C)C)nc(NC(C)C)n1\n",
      "Predicted solubility: [0.13224794]\n",
      "\n",
      "Molecule: CC(C#C)N(C)C(=O)Nc1ccc(Cl)cc1\n",
      "Predicted solubility: [-0.01401384]\n",
      "\n",
      "Molecule: Cc1cc2ccccc2cc1C\n",
      "Predicted solubility: [-0.73792726]\n"
     ]
    }
   ],
   "source": [
    "# Evaluate it.\n",
    "\n",
    "metric = dc.metrics.Metric(dc.metrics.pearson_r2_score)\n",
    "print(\"Training set score\")\n",
    "print(model.evaluate(train_dataset, [metric], transformers))\n",
    "print(\"Test set score\")\n",
    "print(model.evaluate(test_dataset, [metric], transformers))\n",
    "\n",
    "# Use it to predict the solubility of some molecules.\n",
    "\n",
    "smiles = ['COC(C)(C)CCCC(C)CC=CC(C)=CC(=O)OC(C)C',\n",
    "          'CCOC(=O)CC',\n",
    "          'CSc1nc(NC(C)C)nc(NC(C)C)n1',\n",
    "          'CC(C#C)N(C)C(=O)Nc1ccc(Cl)cc1',\n",
    "          'Cc1cc2ccccc2cc1C']\n",
    "from rdkit import Chem\n",
    "mols = [Chem.MolFromSmiles(s) for s in smiles]\n",
    "featurizer = dc.feat.ConvMolFeaturizer()\n",
    "x = featurizer.featurize(mols)\n",
    "predicted_solubility = model.predict_on_batch(x)\n",
    "for m,s in zip(smiles, predicted_solubility):\n",
    "    print()\n",
    "    print('Molecule:', m)\n",
    "    print('Predicted solubility:', s)"
   ]
  },
  {
   "cell_type": "code",
   "execution_count": 5,
   "id": "faced-relay",
   "metadata": {},
   "outputs": [
    {
     "data": {
      "text/plain": [
       "array([[1., 0., 0., ..., 0., 1., 0.],\n",
       "       [1., 0., 0., ..., 0., 1., 0.],\n",
       "       [1., 0., 0., ..., 0., 1., 0.],\n",
       "       ...,\n",
       "       [1., 0., 0., ..., 0., 0., 0.],\n",
       "       [1., 0., 0., ..., 0., 0., 0.],\n",
       "       [1., 0., 0., ..., 0., 0., 0.]])"
      ]
     },
     "execution_count": 5,
     "metadata": {},
     "output_type": "execute_result"
    }
   ],
   "source": [
    "x[0].get_atom_features()"
   ]
  },
  {
   "cell_type": "code",
   "execution_count": 6,
   "id": "missing-directive",
   "metadata": {},
   "outputs": [
    {
     "data": {
      "text/plain": [
       "(16, 75)"
      ]
     },
     "execution_count": 6,
     "metadata": {},
     "output_type": "execute_result"
    }
   ],
   "source": [
    "x[2].get_atom_features().shape"
   ]
  },
  {
   "cell_type": "code",
   "execution_count": 15,
   "id": "expressed-inclusion",
   "metadata": {},
   "outputs": [
    {
     "data": {
      "text/plain": [
       "(12, 75)"
      ]
     },
     "execution_count": 15,
     "metadata": {},
     "output_type": "execute_result"
    }
   ],
   "source": [
    "x[4].get_atom_features().shape"
   ]
  },
  {
   "cell_type": "code",
   "execution_count": 8,
   "id": "thrown-chemistry",
   "metadata": {
    "scrolled": true
   },
   "outputs": [
    {
     "data": {
      "text/plain": [
       "[[8],\n",
       " [21],\n",
       " [21],\n",
       " [17],\n",
       " [18],\n",
       " [19],\n",
       " [20],\n",
       " [20],\n",
       " [0, 21],\n",
       " [21, 10],\n",
       " [9, 11],\n",
       " [10, 17],\n",
       " [17, 13],\n",
       " [12, 14],\n",
       " [13, 18],\n",
       " [18, 19],\n",
       " [19, 20],\n",
       " [11, 3, 12],\n",
       " [14, 4, 15],\n",
       " [15, 5, 16],\n",
       " [16, 6, 7],\n",
       " [8, 1, 2, 9]]"
      ]
     },
     "execution_count": 8,
     "metadata": {},
     "output_type": "execute_result"
    }
   ],
   "source": [
    "x[0].get_adjacency_list()"
   ]
  },
  {
   "cell_type": "code",
   "execution_count": 9,
   "id": "german-saudi",
   "metadata": {},
   "outputs": [],
   "source": [
    "from alibi.explainers import AnchorText, IntegratedGradients"
   ]
  },
  {
   "cell_type": "code",
   "execution_count": 10,
   "id": "yellow-permit",
   "metadata": {
    "scrolled": true
   },
   "outputs": [
    {
     "ename": "AttributeError",
     "evalue": "'GraphConvModel' object has no attribute 'vocab'",
     "output_type": "error",
     "traceback": [
      "\u001b[0;31m---------------------------------------------------------------------------\u001b[0m",
      "\u001b[0;31mAttributeError\u001b[0m                            Traceback (most recent call last)",
      "\u001b[0;32m<ipython-input-10-2dbda60d7527>\u001b[0m in \u001b[0;36m<module>\u001b[0;34m\u001b[0m\n\u001b[1;32m      6\u001b[0m     \u001b[0;32mreturn\u001b[0m \u001b[0mpredicted_solubility\u001b[0m\u001b[0;34m\u001b[0m\u001b[0;34m\u001b[0m\u001b[0m\n\u001b[1;32m      7\u001b[0m \u001b[0;34m\u001b[0m\u001b[0m\n\u001b[0;32m----> 8\u001b[0;31m \u001b[0mexplainer\u001b[0m \u001b[0;34m=\u001b[0m \u001b[0mAnchorText\u001b[0m\u001b[0;34m(\u001b[0m\u001b[0mmodel\u001b[0m\u001b[0;34m,\u001b[0m \u001b[0mpredict_fn\u001b[0m\u001b[0;34m)\u001b[0m\u001b[0;34m\u001b[0m\u001b[0;34m\u001b[0m\u001b[0m\n\u001b[0m",
      "\u001b[0;32m~/miniconda3/envs/seldon-workshops-life-sciences/lib/python3.6/site-packages/alibi/explainers/anchor_text.py\u001b[0m in \u001b[0;36m__init__\u001b[0;34m(self, nlp, predictor, seed)\u001b[0m\n\u001b[1;32m    142\u001b[0m         \u001b[0mnp\u001b[0m\u001b[0;34m.\u001b[0m\u001b[0mrandom\u001b[0m\u001b[0;34m.\u001b[0m\u001b[0mseed\u001b[0m\u001b[0;34m(\u001b[0m\u001b[0mseed\u001b[0m\u001b[0;34m)\u001b[0m\u001b[0;34m\u001b[0m\u001b[0;34m\u001b[0m\u001b[0m\n\u001b[1;32m    143\u001b[0m \u001b[0;34m\u001b[0m\u001b[0m\n\u001b[0;32m--> 144\u001b[0;31m         \u001b[0mself\u001b[0m\u001b[0;34m.\u001b[0m\u001b[0mnlp\u001b[0m \u001b[0;34m=\u001b[0m \u001b[0m_load_spacy_lexeme_prob\u001b[0m\u001b[0;34m(\u001b[0m\u001b[0mnlp\u001b[0m\u001b[0;34m)\u001b[0m\u001b[0;34m\u001b[0m\u001b[0;34m\u001b[0m\u001b[0m\n\u001b[0m\u001b[1;32m    145\u001b[0m \u001b[0;34m\u001b[0m\u001b[0m\n\u001b[1;32m    146\u001b[0m         \u001b[0;31m# check if predictor returns predicted class or prediction probabilities for each class\u001b[0m\u001b[0;34m\u001b[0m\u001b[0;34m\u001b[0m\u001b[0;34m\u001b[0m\u001b[0m\n",
      "\u001b[0;32m~/miniconda3/envs/seldon-workshops-life-sciences/lib/python3.6/site-packages/alibi/explainers/anchor_text.py\u001b[0m in \u001b[0;36m_load_spacy_lexeme_prob\u001b[0;34m(nlp)\u001b[0m\n\u001b[1;32m     44\u001b[0m         \u001b[0;31m# in spacy 3.x we need to manually add the tables\u001b[0m\u001b[0;34m\u001b[0m\u001b[0;34m\u001b[0m\u001b[0;34m\u001b[0m\u001b[0m\n\u001b[1;32m     45\u001b[0m         \u001b[0;31m# https://github.com/explosion/spaCy/discussions/6388#discussioncomment-331096\u001b[0m\u001b[0;34m\u001b[0m\u001b[0;34m\u001b[0m\u001b[0;34m\u001b[0m\u001b[0m\n\u001b[0;32m---> 46\u001b[0;31m         \u001b[0;32mif\u001b[0m \u001b[0;34m'lexeme_prob'\u001b[0m \u001b[0;32mnot\u001b[0m \u001b[0;32min\u001b[0m \u001b[0mnlp\u001b[0m\u001b[0;34m.\u001b[0m\u001b[0mvocab\u001b[0m\u001b[0;34m.\u001b[0m\u001b[0mlookups\u001b[0m\u001b[0;34m.\u001b[0m\u001b[0mtables\u001b[0m\u001b[0;34m:\u001b[0m\u001b[0;34m\u001b[0m\u001b[0;34m\u001b[0m\u001b[0m\n\u001b[0m\u001b[1;32m     47\u001b[0m             \u001b[0;32mfrom\u001b[0m \u001b[0mspacy\u001b[0m\u001b[0;34m.\u001b[0m\u001b[0mlookups\u001b[0m \u001b[0;32mimport\u001b[0m \u001b[0mload_lookups\u001b[0m\u001b[0;34m\u001b[0m\u001b[0;34m\u001b[0m\u001b[0m\n\u001b[1;32m     48\u001b[0m             \u001b[0mlookups\u001b[0m \u001b[0;34m=\u001b[0m \u001b[0mload_lookups\u001b[0m\u001b[0;34m(\u001b[0m\u001b[0mnlp\u001b[0m\u001b[0;34m.\u001b[0m\u001b[0mlang\u001b[0m\u001b[0;34m,\u001b[0m \u001b[0;34m[\u001b[0m\u001b[0;34m'lexeme_prob'\u001b[0m\u001b[0;34m]\u001b[0m\u001b[0;34m)\u001b[0m\u001b[0;34m\u001b[0m\u001b[0;34m\u001b[0m\u001b[0m\n",
      "\u001b[0;31mAttributeError\u001b[0m: 'GraphConvModel' object has no attribute 'vocab'"
     ]
    }
   ],
   "source": [
    "def predict_fn(smiles):\n",
    "    mols = [Chem.MolFromSmiles(s) for s in smiles]\n",
    "    featurizer = dc.feat.ConvMolFeaturizer()\n",
    "    x = featurizer.featurize(mols)\n",
    "    predicted_solubility = model.predict_on_batch(x)\n",
    "    return predicted_solubility\n",
    "    \n",
    "explainer = AnchorText(model, predict_fn)"
   ]
  },
  {
   "cell_type": "code",
   "execution_count": 30,
   "id": "japanese-bullet",
   "metadata": {},
   "outputs": [
    {
     "ename": "AttributeError",
     "evalue": "'GraphConvModel' object has no attribute 'input'",
     "output_type": "error",
     "traceback": [
      "\u001b[0;31m---------------------------------------------------------------------------\u001b[0m",
      "\u001b[0;31mAttributeError\u001b[0m                            Traceback (most recent call last)",
      "\u001b[0;32m<ipython-input-30-ec88c243bb94>\u001b[0m in \u001b[0;36m<module>\u001b[0;34m\u001b[0m\n\u001b[1;32m      2\u001b[0m                           \u001b[0mlayer\u001b[0m\u001b[0;34m=\u001b[0m\u001b[0;32mNone\u001b[0m\u001b[0;34m,\u001b[0m\u001b[0;34m\u001b[0m\u001b[0;34m\u001b[0m\u001b[0m\n\u001b[1;32m      3\u001b[0m                           \u001b[0mmethod\u001b[0m\u001b[0;34m=\u001b[0m\u001b[0;34m\"gausslegendre\"\u001b[0m\u001b[0;34m,\u001b[0m\u001b[0;34m\u001b[0m\u001b[0;34m\u001b[0m\u001b[0m\n\u001b[0;32m----> 4\u001b[0;31m                           n_steps=50)\n\u001b[0m",
      "\u001b[0;32m~/miniconda3/envs/seldon-workshops-life-sciences/lib/python3.6/site-packages/alibi/explainers/integrated_gradients.py\u001b[0m in \u001b[0;36m__init__\u001b[0;34m(self, model, layer, method, n_steps, internal_batch_size)\u001b[0m\n\u001b[1;32m    423\u001b[0m         \u001b[0mself\u001b[0m\u001b[0;34m.\u001b[0m\u001b[0mmodel\u001b[0m \u001b[0;34m=\u001b[0m \u001b[0mmodel\u001b[0m\u001b[0;34m\u001b[0m\u001b[0;34m\u001b[0m\u001b[0m\n\u001b[1;32m    424\u001b[0m         \u001b[0mself\u001b[0m\u001b[0;34m.\u001b[0m\u001b[0mlayer\u001b[0m \u001b[0;34m=\u001b[0m \u001b[0mlayer\u001b[0m\u001b[0;34m\u001b[0m\u001b[0;34m\u001b[0m\u001b[0m\n\u001b[0;32m--> 425\u001b[0;31m         \u001b[0;32mif\u001b[0m \u001b[0;32mnot\u001b[0m \u001b[0misinstance\u001b[0m\u001b[0;34m(\u001b[0m\u001b[0mself\u001b[0m\u001b[0;34m.\u001b[0m\u001b[0mmodel\u001b[0m\u001b[0;34m.\u001b[0m\u001b[0minput\u001b[0m\u001b[0;34m,\u001b[0m \u001b[0mlist\u001b[0m\u001b[0;34m)\u001b[0m\u001b[0;34m:\u001b[0m\u001b[0;34m\u001b[0m\u001b[0;34m\u001b[0m\u001b[0m\n\u001b[0m\u001b[1;32m    426\u001b[0m             \u001b[0mself\u001b[0m\u001b[0;34m.\u001b[0m\u001b[0minputs\u001b[0m \u001b[0;34m=\u001b[0m \u001b[0;34m[\u001b[0m\u001b[0mself\u001b[0m\u001b[0;34m.\u001b[0m\u001b[0mmodel\u001b[0m\u001b[0;34m.\u001b[0m\u001b[0minput\u001b[0m\u001b[0;34m]\u001b[0m\u001b[0;34m\u001b[0m\u001b[0;34m\u001b[0m\u001b[0m\n\u001b[1;32m    427\u001b[0m         \u001b[0;32melse\u001b[0m\u001b[0;34m:\u001b[0m\u001b[0;34m\u001b[0m\u001b[0;34m\u001b[0m\u001b[0m\n",
      "\u001b[0;31mAttributeError\u001b[0m: 'GraphConvModel' object has no attribute 'input'"
     ]
    }
   ],
   "source": [
    "ig  = IntegratedGradients(model,\n",
    "                          layer=None,\n",
    "                          method=\"gausslegendre\",\n",
    "                          n_steps=50,\n",
    "                          internal_batch_size=100)"
   ]
  },
  {
   "cell_type": "code",
   "execution_count": 29,
   "id": "applicable-occupation",
   "metadata": {},
   "outputs": [],
   "source": [
    "?? dc.models.GraphConvModel"
   ]
  },
  {
   "cell_type": "code",
   "execution_count": null,
   "id": "alleged-natural",
   "metadata": {},
   "outputs": [],
   "source": []
  }
 ],
 "metadata": {
  "kernelspec": {
   "display_name": "Python 3",
   "language": "python",
   "name": "python3"
  },
  "language_info": {
   "codemirror_mode": {
    "name": "ipython",
    "version": 3
   },
   "file_extension": ".py",
   "mimetype": "text/x-python",
   "name": "python",
   "nbconvert_exporter": "python",
   "pygments_lexer": "ipython3",
   "version": "3.6.12"
  }
 },
 "nbformat": 4,
 "nbformat_minor": 5
}
