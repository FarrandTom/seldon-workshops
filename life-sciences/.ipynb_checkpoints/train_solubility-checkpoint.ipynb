{
 "cells": [
  {
   "cell_type": "code",
   "execution_count": 1,
   "id": "entire-production",
   "metadata": {},
   "outputs": [],
   "source": [
    "# Train a neural network to predict the solubility of molecules.  First load the data.\n",
    "import deepchem as dc\n",
    "tasks, datasets, transformers = dc.molnet.load_delaney(featurizer='GraphConv')\n",
    "train_dataset, valid_dataset, test_dataset = datasets"
   ]
  },
  {
   "cell_type": "code",
   "execution_count": 2,
   "id": "trying-breeding",
   "metadata": {},
   "outputs": [
    {
     "name": "stderr",
     "output_type": "stream",
     "text": [
      "/home/tom/miniconda3/envs/seldon-workshops-life-sciences/lib/python3.6/site-packages/tensorflow/python/framework/indexed_slices.py:433: UserWarning: Converting sparse IndexedSlices to a dense Tensor of unknown shape. This may consume a large amount of memory.\n",
      "  \"Converting sparse IndexedSlices to a dense Tensor of unknown shape. \"\n"
     ]
    }
   ],
   "source": [
    "# Create and train the model.\n",
    "\n",
    "model = dc.models.GraphConvModel(n_tasks=1, mode='regression', dropout=0.2)\n",
    "model.fit(train_dataset, nb_epoch=100)\n",
    "model.save_checkpoint(model_dir=\"./ckpt-model\")"
   ]
  },
  {
   "cell_type": "code",
   "execution_count": 3,
   "id": "separated-study",
   "metadata": {},
   "outputs": [],
   "source": [
    "model.restore(model_dir=\"./ckpt-model\")"
   ]
  },
  {
   "cell_type": "code",
   "execution_count": 4,
   "id": "ongoing-bachelor",
   "metadata": {},
   "outputs": [
    {
     "name": "stdout",
     "output_type": "stream",
     "text": [
      "Training set score\n",
      "{'pearson_r2_score': 0.9226493215632613}\n",
      "Test set score\n",
      "{'pearson_r2_score': 0.6740086406102646}\n",
      "\n",
      "Molecule: COC(C)(C)CCCC(C)CC=CC(C)=CC(=O)OC(C)C\n",
      "Predicted solubility: [-0.72743404]\n",
      "\n",
      "Molecule: CCOC(=O)CC\n",
      "Predicted solubility: [1.5699606]\n",
      "\n",
      "Molecule: CSc1nc(NC(C)C)nc(NC(C)C)n1\n",
      "Predicted solubility: [0.43237466]\n",
      "\n",
      "Molecule: CC(C#C)N(C)C(=O)Nc1ccc(Cl)cc1\n",
      "Predicted solubility: [0.01973453]\n",
      "\n",
      "Molecule: Cc1cc2ccccc2cc1C\n",
      "Predicted solubility: [-0.8913856]\n"
     ]
    }
   ],
   "source": [
    "# Evaluate it.\n",
    "\n",
    "metric = dc.metrics.Metric(dc.metrics.pearson_r2_score)\n",
    "print(\"Training set score\")\n",
    "print(model.evaluate(train_dataset, [metric], transformers))\n",
    "print(\"Test set score\")\n",
    "print(model.evaluate(test_dataset, [metric], transformers))\n",
    "\n",
    "# Use it to predict the solubility of some molecules.\n",
    "\n",
    "smiles = ['COC(C)(C)CCCC(C)CC=CC(C)=CC(=O)OC(C)C',\n",
    "          'CCOC(=O)CC',\n",
    "          'CSc1nc(NC(C)C)nc(NC(C)C)n1',\n",
    "          'CC(C#C)N(C)C(=O)Nc1ccc(Cl)cc1',\n",
    "          'Cc1cc2ccccc2cc1C']\n",
    "from rdkit import Chem\n",
    "mols = [Chem.MolFromSmiles(s) for s in smiles]\n",
    "featurizer = dc.feat.ConvMolFeaturizer()\n",
    "x = featurizer.featurize(mols)\n",
    "predicted_solubility = model.predict_on_batch(x)\n",
    "for m,s in zip(smiles, predicted_solubility):\n",
    "    print()\n",
    "    print('Molecule:', m)\n",
    "    print('Predicted solubility:', s)"
   ]
  },
  {
   "cell_type": "code",
   "execution_count": 5,
   "id": "german-saudi",
   "metadata": {},
   "outputs": [],
   "source": [
    "?? Chem.MolFromSmiles"
   ]
  },
  {
   "cell_type": "code",
   "execution_count": null,
   "id": "yellow-permit",
   "metadata": {},
   "outputs": [],
   "source": []
  }
 ],
 "metadata": {
  "kernelspec": {
   "display_name": "Python 3",
   "language": "python",
   "name": "python3"
  },
  "language_info": {
   "codemirror_mode": {
    "name": "ipython",
    "version": 3
   },
   "file_extension": ".py",
   "mimetype": "text/x-python",
   "name": "python",
   "nbconvert_exporter": "python",
   "pygments_lexer": "ipython3",
   "version": "3.6.12"
  }
 },
 "nbformat": 4,
 "nbformat_minor": 5
}
