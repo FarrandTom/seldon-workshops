{
 "cells": [
  {
   "cell_type": "markdown",
   "metadata": {},
   "source": [
    "# Iris Classification\n",
    "This notebook gets you hands-on with Seldon Deploy, demonstrating how you can deploy, monitor, manage and explain machine learning models. \n",
    "\n",
    "In this notebook you will:\n",
    "\n",
    "* Explore the Iris dataset\n",
    "* Train several models on the dataset\n",
    "* Deploy trained models to Seldon\n",
    "* Train an anchor tabular explainer and update Seldon deployment with this explainer\n",
    "* Train an outlier detector (variational autoencoder) and update deployment\n",
    "* Train an drift detector (Kolmogorov-Smirnov detector) and update deployment\n",
    "\n",
    "For each of the machine learning components (the models themselves, explainer, outlier and drift detectors) the workflow is the same: \n",
    "1. Train algorithm\n",
    "2. Push trained artefact to Google Storage bucket\n",
    "3. Create deployment on Seldon Deploy via API"
   ]
  },
  {
   "cell_type": "markdown",
   "metadata": {},
   "source": [
    "### Import relevant packages"
   ]
  },
  {
   "cell_type": "code",
   "execution_count": null,
   "metadata": {},
   "outputs": [],
   "source": [
    "!pip install seldon-deploy-sdk\n",
    "!pip install alibi\n",
    "!pip install alibi-detect\n",
    "!pip install fsspec\n",
    "!pip install gcsfs\n",
    "!pip install dill"
   ]
  },
  {
   "cell_type": "code",
   "execution_count": 27,
   "metadata": {},
   "outputs": [],
   "source": [
    "from seldon_deploy_sdk import Configuration, ApiClient, SeldonDeploymentsApi, OutlierDetectorApi, DriftDetectorApi\n",
    "from seldon_deploy_sdk.auth import OIDCAuthenticator\n",
    "\n",
    "from sklearn.linear_model import LogisticRegression\n",
    "from sklearn.datasets import load_iris\n",
    "from sklearn.model_selection import train_test_split\n",
    "from sklearn.metrics import precision_score, recall_score, accuracy_score, f1_score, confusion_matrix\n",
    "\n",
    "import numpy as np\n",
    "import pandas as pd\n",
    "\n",
    "import xgboost as xgb\n",
    "\n",
    "from alibi.explainers import AnchorTabular\n",
    "\n",
    "from alibi_detect.od import Mahalanobis\n",
    "from alibi_detect.cd import KSDrift\n",
    "from alibi_detect.datasets import fetch_kdd\n",
    "from alibi_detect.utils.data import create_outlier_batch\n",
    "from alibi_detect.utils.mapping import ord2ohe\n",
    "from alibi_detect.utils.saving import save_detector, load_detector\n",
    "from alibi_detect.utils.visualize import plot_instance_score, plot_roc\n",
    "\n",
    "import dill\n",
    "import os\n",
    "import joblib\n",
    "\n",
    "import matplotlib.pyplot as plt\n",
    "import seaborn as sns"
   ]
  },
  {
   "cell_type": "markdown",
   "metadata": {},
   "source": [
    "### Loading the data\n",
    "Once you have all of the relevant packages you can now explore the dataset. "
   ]
  },
  {
   "cell_type": "code",
   "execution_count": 2,
   "metadata": {},
   "outputs": [],
   "source": [
    "dataset = load_iris()\n",
    "feature_names = dataset.feature_names\n",
    "class_names = list(dataset.target_names)\n",
    "\n",
    "X = dataset.data\n",
    "y = dataset.target"
   ]
  },
  {
   "cell_type": "markdown",
   "metadata": {},
   "source": [
    "Creating a train/test split of the data to ensure you have an unseen subset of the dataset with which to validate your model's performance. "
   ]
  },
  {
   "cell_type": "code",
   "execution_count": 3,
   "metadata": {},
   "outputs": [],
   "source": [
    "X_train, X_test, y_train, y_test = train_test_split(X, y, test_size=0.2, random_state=42)"
   ]
  },
  {
   "cell_type": "code",
   "execution_count": 6,
   "metadata": {},
   "outputs": [
    {
     "data": {
      "text/plain": [
       "array([4.6, 3.6, 1. , 0.2])"
      ]
     },
     "execution_count": 6,
     "metadata": {},
     "output_type": "execute_result"
    }
   ],
   "source": [
    "X_train[0]"
   ]
  },
  {
   "cell_type": "markdown",
   "metadata": {},
   "source": [
    "Inspecting a single instance (row) of your data, you can see that it is made up of four different numerical features:\n",
    "1. Sepal length\n",
    "2. Sepal width\n",
    "3. Petal length\n",
    "4. Petal width"
   ]
  },
  {
   "cell_type": "code",
   "execution_count": 10,
   "metadata": {},
   "outputs": [
    {
     "data": {
      "text/plain": [
       "array([0, 1, 2])"
      ]
     },
     "execution_count": 10,
     "metadata": {},
     "output_type": "execute_result"
    }
   ],
   "source": [
    "np.unique(y_train)"
   ]
  },
  {
   "cell_type": "markdown",
   "metadata": {},
   "source": [
    "Meanwhile, the labels (your y data) have three separate classes- each representing a different species of Iris:\n",
    "\n",
    "0. Iris setosa\n",
    "1. Iris virginica\n",
    "2. Iris versicolor\n",
    "\n",
    "I wouldn't worry about remembering those names..."
   ]
  },
  {
   "cell_type": "markdown",
   "metadata": {},
   "source": [
    "### Model training\n",
    "Next you will train two separate machine learning models on your dataset. This is representative of the iterative process of algorithm creation which Data Scientists go through during the experimentation process. \n",
    "\n",
    "The first model is a logistic regressor which we train using the `.fit()` method, and then evaluate using the `accuracy_score()` function. "
   ]
  },
  {
   "cell_type": "code",
   "execution_count": 19,
   "metadata": {},
   "outputs": [
    {
     "name": "stdout",
     "output_type": "stream",
     "text": [
      "1.0\n",
      "1.0\n",
      "1.0\n"
     ]
    }
   ],
   "source": [
    "lr = LogisticRegression(max_iter=4000)\n",
    "lr.fit(X_train, y_train)\n",
    "\n",
    "print(precision_score(y_test, lr.predict(X_test), average=\"macro\"))\n",
    "print(recall_score(y_test, lr.predict(X_test), average=\"macro\"))\n",
    "print(accuracy_score(y_test, lr.predict(X_test)))"
   ]
  },
  {
   "cell_type": "markdown",
   "metadata": {},
   "source": [
    "You'll notice that your model has perfect evaluation scores, this implies that the model is overfitted on the dataset. For the purposes of this workshop, you're not going to worry about this.\n",
    "\n",
    "----\n",
    "\n",
    "You can now train your second machine learning model- an XGBoost classifier. The first step is to convert the dataset into XGBoost's expected DMatrix data format. "
   ]
  },
  {
   "cell_type": "code",
   "execution_count": 23,
   "metadata": {},
   "outputs": [],
   "source": [
    "dtrain = xgb.DMatrix(X_train, label=y_train)\n",
    "dtest = xgb.DMatrix(X_test, label=y_test)"
   ]
  },
  {
   "cell_type": "markdown",
   "metadata": {},
   "source": [
    "Next, you will set the hyperparameters associated with the XGBoost algorithim. This is essentially telling the model how large to be (`max_depth`), how quickly to learn (`eta`), information about the task (`objective`) and  the number of classes (`num_class`). \n",
    "\n",
    "Finally, you set the `num_round` which tells XGBoost how many iterations over the dataset to perform. "
   ]
  },
  {
   "cell_type": "code",
   "execution_count": 24,
   "metadata": {},
   "outputs": [],
   "source": [
    "param = {\n",
    "    'max_depth': 3,\n",
    "    'eta': 0.3,\n",
    "    'objective': 'multi:softprob',\n",
    "    'num_class': 3} \n",
    "\n",
    "num_round = 20"
   ]
  },
  {
   "cell_type": "markdown",
   "metadata": {},
   "source": [
    "You can then train and score the classifier. "
   ]
  },
  {
   "cell_type": "code",
   "execution_count": 25,
   "metadata": {},
   "outputs": [
    {
     "name": "stdout",
     "output_type": "stream",
     "text": [
      "[09:12:05] WARNING: ../src/learner.cc:1095: Starting in XGBoost 1.3.0, the default evaluation metric used with the objective 'multi:softprob' was changed from 'merror' to 'mlogloss'. Explicitly set eval_metric if you'd like to restore the old behavior.\n",
      "1.0\n",
      "1.0\n",
      "1.0\n"
     ]
    }
   ],
   "source": [
    "bst = xgb.train(param, dtrain, num_round)\n",
    "preds = np.asarray([np.argmax(line) for line in bst.predict(dtest)])\n",
    "print(precision_score(y_test, preds, average=\"macro\"))\n",
    "print(recall_score(y_test, preds, average=\"macro\"))\n",
    "print(accuracy_score(y_test, preds))"
   ]
  },
  {
   "cell_type": "markdown",
   "metadata": {},
   "source": [
    "Again, you can see that the model has overfit on the dataset. However, you will now save both of the models ready for them to be deployed. \n",
    "\n",
    "The Scikit-Learn pre-packaged server expects the saved model artefact to be called `model.joblib`. Meanwhile, the XGBoost pre-packaged server expects your model to be called `model.bst` when it is uploaded to our storage bucket."
   ]
  },
  {
   "cell_type": "code",
   "execution_count": 28,
   "metadata": {},
   "outputs": [],
   "source": [
    "# Saving the logistic regressor\n",
    "joblib.dump(lr, 'model.joblib')\n",
    "\n",
    "# Saving the XGBoost classifier\n",
    "bst.save_model('model.bst')"
   ]
  },
  {
   "cell_type": "markdown",
   "metadata": {},
   "source": [
    "### Push model artefacts to GCP\n",
    "\n",
    "You will now push the saved model binaries to a GCP bucket, where they can be picked up by Seldon and deployed onto Kubernetes. \n",
    "\n",
    "Make sure to replace `<YOUR NAME>` with your name to prevent overwriting others artefacts. "
   ]
  },
  {
   "cell_type": "code",
   "execution_count": 30,
   "metadata": {},
   "outputs": [
    {
     "name": "stdout",
     "output_type": "stream",
     "text": [
      "Copying file://model.joblib [Content-Type=application/octet-stream]...\n",
      "/ [1 files][   1017 B/   1017 B]                                                \n",
      "Operation completed over 1 objects/1017.0 B.                                     \n",
      "Copying file://model.bst [Content-Type=application/octet-stream]...\n",
      "/ [1 files][ 23.5 KiB/ 23.5 KiB]                                                \n",
      "Operation completed over 1 objects/23.5 KiB.                                     \n"
     ]
    }
   ],
   "source": [
    "!gsutil cp model.joblib gs://tom-seldon-examples/ford-workshop/<YOUR NAME>/lr/model.joblib\n",
    "!gsutil cp model.bst gs://tom-seldon-examples/ford-workshop/<YOUR NAME>/xgb/model.bst"
   ]
  },
  {
   "cell_type": "markdown",
   "metadata": {},
   "source": [
    "### Model Deployment\n",
    "\n",
    "Deploying the model to a Seldon Deploy trial instance using the `seldon-deploy-sdk`. \n",
    "\n",
    "First, setting up the configuration and authentication required to access the cluster. "
   ]
  },
  {
   "cell_type": "code",
   "execution_count": 32,
   "metadata": {},
   "outputs": [],
   "source": [
    "SD_IP = \"139.59.203.129\"\n",
    "\n",
    "config = Configuration()\n",
    "config.host = f\"http://{SD_IP}/seldon-deploy/api/v1alpha1\"\n",
    "config.oidc_client_id = \"sd-api\"\n",
    "config.oidc_server = f\"http://{SD_IP}/auth/realms/deploy-realm\"\n",
    "\n",
    "def auth():\n",
    "    auth = OIDCAuthenticator(config)\n",
    "    config.access_token = auth.authenticate(\"admin@seldon.io\", \"12341234\")\n",
    "    api_client = ApiClient(config)\n",
    "    return api_client"
   ]
  },
  {
   "cell_type": "markdown",
   "metadata": {},
   "source": [
    "Now we have configured the IP correctly as well as setup our authentication function we can desrcibe the deployment we would like to create.\n",
    "\n",
    "You will need to fill in the DEPLOYMENT_NAME, NAMESPACE, and the MODEL_LOCATION, the rest of the deployment description has been templated for you.\n",
    "\n",
    "You will need to create a unique deployment name. A good example format would be \"YOUR NAME\" + \"MODEL\" so \"sgreaves-lr\" in my case (be careful not to use any upper-case letters or other characters like \"_\")."
   ]
  },
  {
   "cell_type": "code",
   "execution_count": 34,
   "metadata": {},
   "outputs": [],
   "source": [
    "YOUR_NAME = \"tom-farrand\"\n",
    "MODEL_NAME = \"lr\"\n",
    "\n",
    "DEPLOYMENT_NAME = f\"{YOUR_NAME}-{MODEL_NAME}\"\n",
    "MODEL_LOCATION = f\"gs://tom-seldon-examples/ford-workshop/{YOUR_NAME}/lr\""
   ]
  },
  {
   "cell_type": "code",
   "execution_count": 35,
   "metadata": {},
   "outputs": [],
   "source": [
    "NAMESPACE = \"test\"\n",
    "PREPACKAGED_SERVER = \"SKLEARN_SERVER\"\n",
    "\n",
    "CPU_REQUESTS = \"1\"\n",
    "MEMORY_REQUESTS = \"1Gi\"\n",
    "\n",
    "CPU_LIMITS = \"1\"\n",
    "MEMORY_LIMITS = \"1Gi\"\n",
    "\n",
    "mldeployment = {\n",
    "    \"kind\": \"SeldonDeployment\",\n",
    "    \"metadata\": {\n",
    "        \"name\": DEPLOYMENT_NAME,\n",
    "        \"namespace\": NAMESPACE,\n",
    "        \"labels\": {\n",
    "            \"fluentd\": \"true\"\n",
    "        }\n",
    "    },\n",
    "    \"apiVersion\": \"machinelearning.seldon.io/v1alpha2\",\n",
    "    \"spec\": {\n",
    "        \"name\": DEPLOYMENT_NAME,\n",
    "        \"annotations\": {\n",
    "            \"seldon.io/engine-seldon-log-messages-externally\": \"true\"\n",
    "        },\n",
    "        \"protocol\": \"seldon\",\n",
    "        \"transport\": \"rest\",\n",
    "        \"predictors\": [\n",
    "            {\n",
    "                \"componentSpecs\": [\n",
    "                    {\n",
    "                        \"spec\": {\n",
    "                            \"containers\": [\n",
    "                                {\n",
    "                                    \"name\": f\"{DEPLOYMENT_NAME}-container\",\n",
    "                                    \"resources\": {\n",
    "                                        \"requests\": {\n",
    "                                            \"cpu\": CPU_REQUESTS,\n",
    "                                            \"memory\": MEMORY_REQUESTS\n",
    "                                        },\n",
    "                                        \"limits\": {\n",
    "                                            \"cpu\": CPU_LIMITS,\n",
    "                                            \"memory\": MEMORY_LIMITS\n",
    "                                        }\n",
    "                                    }\n",
    "                                }\n",
    "                            ]\n",
    "                        }\n",
    "                    }\n",
    "                ],\n",
    "                \"name\": \"default\",\n",
    "                \"replicas\": 1,\n",
    "                \"traffic\": 100,\n",
    "                \"graph\": {\n",
    "                    \"implementation\": PREPACKAGED_SERVER,\n",
    "                    \"modelUri\": MODEL_LOCATION,\n",
    "                    \"name\": f\"{DEPLOYMENT_NAME}-container\",\n",
    "                    \"endpoint\": {\n",
    "                        \"type\": \"REST\"\n",
    "                    },\n",
    "                    \"parameters\": [],\n",
    "                    \"children\": [],\n",
    "                    \"logger\": {\n",
    "                        \"mode\": \"all\"\n",
    "                    }\n",
    "                }\n",
    "            }\n",
    "        ]\n",
    "    },\n",
    "    \"status\": {}\n",
    "}"
   ]
  },
  {
   "cell_type": "code",
   "execution_count": 36,
   "metadata": {
    "scrolled": true
   },
   "outputs": [
    {
     "data": {
      "text/plain": [
       "{'api_version': 'machinelearning.seldon.io/v1alpha2',\n",
       " 'kind': 'SeldonDeployment',\n",
       " 'metadata': {'annotations': None,\n",
       "              'cluster_name': None,\n",
       "              'creation_timestamp': None,\n",
       "              'deletion_grace_period_seconds': None,\n",
       "              'deletion_timestamp': None,\n",
       "              'finalizers': None,\n",
       "              'generate_name': None,\n",
       "              'generation': None,\n",
       "              'labels': {'fluentd': 'true'},\n",
       "              'managed_fields': None,\n",
       "              'name': 'tom-farrand-lr',\n",
       "              'namespace': 'test',\n",
       "              'owner_references': None,\n",
       "              'resource_version': None,\n",
       "              'self_link': None,\n",
       "              'uid': None},\n",
       " 'spec': {'annotations': {'seldon.io/engine-seldon-log-messages-externally': 'true'},\n",
       "          'name': 'tom-farrand-lr',\n",
       "          'oauth_key': None,\n",
       "          'oauth_secret': None,\n",
       "          'predictors': [{'annotations': None,\n",
       "                          'component_specs': [{'hpa_spec': None,\n",
       "                                               'keda_spec': None,\n",
       "                                               'metadata': {'annotations': None,\n",
       "                                                            'cluster_name': None,\n",
       "                                                            'creation_timestamp': '2021-05-17T10:15:15Z',\n",
       "                                                            'deletion_grace_period_seconds': None,\n",
       "                                                            'deletion_timestamp': None,\n",
       "                                                            'finalizers': None,\n",
       "                                                            'generate_name': None,\n",
       "                                                            'generation': None,\n",
       "                                                            'labels': None,\n",
       "                                                            'managed_fields': None,\n",
       "                                                            'name': None,\n",
       "                                                            'namespace': None,\n",
       "                                                            'owner_references': None,\n",
       "                                                            'resource_version': None,\n",
       "                                                            'self_link': None,\n",
       "                                                            'uid': None},\n",
       "                                               'pdb_spec': None,\n",
       "                                               'replicas': None,\n",
       "                                               'spec': {'active_deadline_seconds': None,\n",
       "                                                        'affinity': None,\n",
       "                                                        'automount_service_account_token': None,\n",
       "                                                        'containers': [{'args': None,\n",
       "                                                                        'command': None,\n",
       "                                                                        'env': None,\n",
       "                                                                        'env_from': None,\n",
       "                                                                        'image': None,\n",
       "                                                                        'image_pull_policy': None,\n",
       "                                                                        'lifecycle': None,\n",
       "                                                                        'liveness_probe': None,\n",
       "                                                                        'name': 'tom-farrand-lr-container',\n",
       "                                                                        'ports': None,\n",
       "                                                                        'readiness_probe': None,\n",
       "                                                                        'resources': {'limits': {'cpu': '1',\n",
       "                                                                                                 'memory': '1Gi'},\n",
       "                                                                                      'requests': {'cpu': '1',\n",
       "                                                                                                   'memory': '1Gi'}},\n",
       "                                                                        'security_context': None,\n",
       "                                                                        'startup_probe': None,\n",
       "                                                                        'stdin': None,\n",
       "                                                                        'stdin_once': None,\n",
       "                                                                        'termination_message_path': None,\n",
       "                                                                        'termination_message_policy': None,\n",
       "                                                                        'tty': None,\n",
       "                                                                        'volume_devices': None,\n",
       "                                                                        'volume_mounts': None,\n",
       "                                                                        'working_dir': None}],\n",
       "                                                        'dns_config': None,\n",
       "                                                        'dns_policy': None,\n",
       "                                                        'enable_service_links': None,\n",
       "                                                        'ephemeral_containers': None,\n",
       "                                                        'host_aliases': None,\n",
       "                                                        'host_ipc': None,\n",
       "                                                        'host_network': None,\n",
       "                                                        'host_pid': None,\n",
       "                                                        'hostname': None,\n",
       "                                                        'image_pull_secrets': None,\n",
       "                                                        'init_containers': None,\n",
       "                                                        'node_name': None,\n",
       "                                                        'node_selector': None,\n",
       "                                                        'overhead': None,\n",
       "                                                        'preemption_policy': None,\n",
       "                                                        'priority': None,\n",
       "                                                        'priority_class_name': None,\n",
       "                                                        'readiness_gates': None,\n",
       "                                                        'restart_policy': None,\n",
       "                                                        'runtime_class_name': None,\n",
       "                                                        'scheduler_name': None,\n",
       "                                                        'security_context': None,\n",
       "                                                        'service_account': None,\n",
       "                                                        'service_account_name': None,\n",
       "                                                        'set_hostname_as_fqdn': None,\n",
       "                                                        'share_process_namespace': None,\n",
       "                                                        'subdomain': None,\n",
       "                                                        'termination_grace_period_seconds': None,\n",
       "                                                        'tolerations': None,\n",
       "                                                        'topology_spread_constraints': None,\n",
       "                                                        'volumes': None}}],\n",
       "                          'engine_resources': {'limits': None,\n",
       "                                               'requests': None},\n",
       "                          'explainer': None,\n",
       "                          'graph': {'children': None,\n",
       "                                    'endpoint': {'service_host': None,\n",
       "                                                 'service_port': None,\n",
       "                                                 'type': 'REST'},\n",
       "                                    'env_secret_ref_name': None,\n",
       "                                    'implementation': 'SKLEARN_SERVER',\n",
       "                                    'logger': {'mode': 'all', 'url': None},\n",
       "                                    'methods': None,\n",
       "                                    'model_uri': 'gs://tom-seldon-examples/ford-workshop/tom-farrand/lr',\n",
       "                                    'name': 'tom-farrand-lr-container',\n",
       "                                    'parameters': None,\n",
       "                                    'service_account_name': None,\n",
       "                                    'type': None},\n",
       "                          'labels': None,\n",
       "                          'name': 'default',\n",
       "                          'replicas': 1,\n",
       "                          'shadow': None,\n",
       "                          'ssl': None,\n",
       "                          'svc_orch_spec': {'env': None,\n",
       "                                            'replicas': None,\n",
       "                                            'resources': None},\n",
       "                          'traffic': 100}],\n",
       "          'protocol': 'seldon',\n",
       "          'replicas': None,\n",
       "          'server_type': None,\n",
       "          'transport': 'rest'},\n",
       " 'status': {'address': None,\n",
       "            'deployment_status': None,\n",
       "            'description': None,\n",
       "            'replicas': None,\n",
       "            'service_status': None,\n",
       "            'state': None}}"
      ]
     },
     "execution_count": 36,
     "metadata": {},
     "output_type": "execute_result"
    }
   ],
   "source": [
    "deployment_api = SeldonDeploymentsApi(auth())\n",
    "deployment_api.create_seldon_deployment(namespace=NAMESPACE, mldeployment=mldeployment)"
   ]
  },
  {
   "cell_type": "markdown",
   "metadata": {},
   "source": [
    "Our model should now be running as a fully fledged microservice. You can now log into Seldon Deploy and test your deployment:\n",
    "\n",
    "* URL: http://139.59.203.129/seldon-deploy/\n",
    "* Username: admin@seldon.io\n",
    "* Password: 12341234\n",
    "\n",
    "You can now test your model with this request.\n",
    "```\n",
    "{\n",
    "    \"data\": {\n",
    "    \"names\": [\"Sepal length\",\"Sepal width\",\"Petal length\", \"Petal Width\"],\n",
    "    \"ndarray\": [\n",
    "        [6.8,  2.8,  4.8,  1.4]\n",
    "    ]\n",
    "    }\n",
    "}\n",
    "```\n",
    "\n",
    "Next, you will add a your XGBoost model as a canary and promote that to be the main predictor. "
   ]
  },
  {
   "cell_type": "markdown",
   "metadata": {},
   "source": [
    "# Adding a Model Explainer\n",
    "\n",
    "Next, we shall train an explainer to glean deeper insights into the decisions being made by our model. We will make use of the [Anchors algorithm](https://docs.seldon.io/projects/alibi/en/stable/methods/Anchors.html), which has a production grade implementation available using the Seldon Alibi Explain library.\n",
    "\n",
    "The algorithm provides model-agnostic (black box) and human interpretable explanations suitable for classification models applied to images, text and tabular data. The idea behind anchors is to explain the behaviour of complex models with high-precision rules called anchors. These anchors are locally sufficient conditions to ensure a certain prediction with a high degree of confidence. Anchor algorithms incorporate coverage, which is the region the explanation applies within and are optimised to maximize coverage.\n",
    "\n",
    "As an example of anchors for tabular data, if we want to predict whether a person makes less or more than £50,000 per year based on the person’s characteristics including age (continuous variable) and marital status (categorical variable), then the following would be a potential anchor: Hugo makes more than £50,000 because he is married and his age is between 35 and 45 years.\n",
    "\n",
    "The first step will be to write a simple prediction function which the explainer can call in order to query our logistic regression model."
   ]
  },
  {
   "cell_type": "code",
   "execution_count": 45,
   "metadata": {},
   "outputs": [],
   "source": [
    "predict_fn = lambda x: lr.predict(x)"
   ]
  },
  {
   "cell_type": "markdown",
   "metadata": {},
   "source": [
    "Now, define and fit the AnchorTabular explainer. "
   ]
  },
  {
   "cell_type": "code",
   "execution_count": 46,
   "metadata": {},
   "outputs": [
    {
     "data": {
      "text/plain": [
       "AnchorTabular(meta={\n",
       "  'name': 'AnchorTabular',\n",
       "  'type': ['blackbox'],\n",
       "  'explanations': ['local'],\n",
       "  'params': {'disc_perc': (25, 50, 75), 'seed': None}}\n",
       ")"
      ]
     },
     "execution_count": 46,
     "metadata": {},
     "output_type": "execute_result"
    }
   ],
   "source": [
    "explainer = AnchorTabular(predict_fn, feature_names)\n",
    "explainer.fit(X_train, disc_perc=(25, 50, 75))"
   ]
  },
  {
   "cell_type": "markdown",
   "metadata": {},
   "source": [
    "Predicting the first instance within the test set, and consequently generating an explanation for that prediction."
   ]
  },
  {
   "cell_type": "code",
   "execution_count": 47,
   "metadata": {},
   "outputs": [
    {
     "name": "stdout",
     "output_type": "stream",
     "text": [
      "Prediction:  versicolor\n",
      "Anchor: 4.25 < petal length (cm) <= 5.10 AND petal width (cm) <= 1.30\n",
      "Precision: 0.97\n",
      "Coverage: 0.04\n"
     ]
    }
   ],
   "source": [
    "idx = 0\n",
    "print('Prediction: ', class_names[explainer.predictor(X_test[idx].reshape(1, -1))[0]])\n",
    "\n",
    "explanation = explainer.explain(X_test[idx], threshold=0.95)\n",
    "print('Anchor: %s' % (' AND '.join(explanation.anchor)))\n",
    "print('Precision: %.2f' % explanation.precision)\n",
    "print('Coverage: %.2f' % explanation.coverage)"
   ]
  },
  {
   "cell_type": "code",
   "execution_count": 58,
   "metadata": {},
   "outputs": [
    {
     "data": {
      "text/plain": [
       "array([6.1, 2.8, 4.7, 1.2])"
      ]
     },
     "execution_count": 58,
     "metadata": {},
     "output_type": "execute_result"
    }
   ],
   "source": [
    "X_test[0]"
   ]
  },
  {
   "cell_type": "markdown",
   "metadata": {},
   "source": [
    "Save the explainer. Your explainer must be saved as `explainer.dill` as once again Seldon Deploy will look for this artefact within a top level directory. \n",
    "\n",
    "NOTE: Dill is used to serialise the object instead of pickle as it offers a greater flexibilty in the object types which can be serialised. "
   ]
  },
  {
   "cell_type": "code",
   "execution_count": 48,
   "metadata": {},
   "outputs": [],
   "source": [
    "dill.dump(explainer, open( \"explainer.dill\", \"wb\"))"
   ]
  },
  {
   "cell_type": "markdown",
   "metadata": {},
   "source": [
    "Uploading the explainer to a Google Storage bucket. \n",
    "\n",
    "Make sure to replace `<YOUR NAME>` with your name to prevent overwriting others artefacts. "
   ]
  },
  {
   "cell_type": "code",
   "execution_count": 54,
   "metadata": {},
   "outputs": [
    {
     "name": "stdout",
     "output_type": "stream",
     "text": [
      "Copying file://explainer.dill [Content-Type=application/octet-stream]...\n",
      "/ [1 files][103.8 MiB/103.8 MiB]  960.9 KiB/s                                   \n",
      "Operation completed over 1 objects/103.8 MiB.                                    \n"
     ]
    }
   ],
   "source": [
    "!gsutil cp explainer.dill gs://tom-seldon-examples/ford-workshop/<YOUR NAME>/lr/explainer.dill"
   ]
  },
  {
   "cell_type": "markdown",
   "metadata": {},
   "source": [
    "Defining your explainer configuration."
   ]
  },
  {
   "cell_type": "code",
   "execution_count": 55,
   "metadata": {},
   "outputs": [],
   "source": [
    "EXPLAINER_TYPE = \"AnchorTabular\"\n",
    "EXPLAINER_URI = f\"gs://tom-seldon-examples/ford-workshop/{YOUR_NAME}/lr\"\n",
    "\n",
    "explainer_spec = {\n",
    "                    \"type\": EXPLAINER_TYPE,\n",
    "                    \"modelUri\": EXPLAINER_URI,\n",
    "                    \"containerSpec\": {\n",
    "                        \"name\": \"\",\n",
    "                        \"resources\": {}\n",
    "                    }\n",
    "                }"
   ]
  },
  {
   "cell_type": "markdown",
   "metadata": {},
   "source": [
    "Inserting your explainer configuration into the original `mldeployment`"
   ]
  },
  {
   "cell_type": "code",
   "execution_count": 56,
   "metadata": {},
   "outputs": [
    {
     "data": {
      "text/plain": [
       "{'kind': 'SeldonDeployment',\n",
       " 'metadata': {'name': 'tom-farrand-lr',\n",
       "  'namespace': 'test',\n",
       "  'labels': {'fluentd': 'true'}},\n",
       " 'apiVersion': 'machinelearning.seldon.io/v1alpha2',\n",
       " 'spec': {'name': 'tom-farrand-lr',\n",
       "  'annotations': {'seldon.io/engine-seldon-log-messages-externally': 'true'},\n",
       "  'protocol': 'seldon',\n",
       "  'transport': 'rest',\n",
       "  'predictors': [{'componentSpecs': [{'spec': {'containers': [{'name': 'tom-farrand-lr-container',\n",
       "         'resources': {'requests': {'cpu': '1', 'memory': '1Gi'},\n",
       "          'limits': {'cpu': '1', 'memory': '1Gi'}}}]}}],\n",
       "    'name': 'default',\n",
       "    'replicas': 1,\n",
       "    'traffic': 100,\n",
       "    'graph': {'implementation': 'SKLEARN_SERVER',\n",
       "     'modelUri': 'gs://tom-seldon-examples/ford-workshop/tom-farrand/lr',\n",
       "     'name': 'tom-farrand-lr-container',\n",
       "     'endpoint': {'type': 'REST'},\n",
       "     'parameters': [],\n",
       "     'children': [],\n",
       "     'logger': {'mode': 'all'}},\n",
       "    'explainer': {'type': 'AnchorTabular',\n",
       "     'modelUri': 'gs://tom-seldon-examples/ford-workshop/tom-farrand/lr',\n",
       "     'containerSpec': {'name': '', 'resources': {}}}}]},\n",
       " 'status': {}}"
      ]
     },
     "execution_count": 56,
     "metadata": {},
     "output_type": "execute_result"
    }
   ],
   "source": [
    "mldeployment['spec']['predictors'][0]['explainer'] = explainer_spec\n",
    "mldeployment"
   ]
  },
  {
   "cell_type": "markdown",
   "metadata": {},
   "source": [
    "Finally, creating our new deployment with the explainer added. "
   ]
  },
  {
   "cell_type": "code",
   "execution_count": 57,
   "metadata": {},
   "outputs": [
    {
     "data": {
      "text/plain": [
       "{'api_version': 'machinelearning.seldon.io/v1alpha2',\n",
       " 'kind': 'SeldonDeployment',\n",
       " 'metadata': {'annotations': None,\n",
       "              'cluster_name': None,\n",
       "              'creation_timestamp': None,\n",
       "              'deletion_grace_period_seconds': None,\n",
       "              'deletion_timestamp': None,\n",
       "              'finalizers': None,\n",
       "              'generate_name': None,\n",
       "              'generation': None,\n",
       "              'labels': {'fluentd': 'true'},\n",
       "              'managed_fields': None,\n",
       "              'name': 'tom-farrand-lr',\n",
       "              'namespace': 'test',\n",
       "              'owner_references': None,\n",
       "              'resource_version': None,\n",
       "              'self_link': None,\n",
       "              'uid': None},\n",
       " 'spec': {'annotations': {'seldon.io/engine-seldon-log-messages-externally': 'true'},\n",
       "          'name': 'tom-farrand-lr',\n",
       "          'oauth_key': None,\n",
       "          'oauth_secret': None,\n",
       "          'predictors': [{'annotations': None,\n",
       "                          'component_specs': [{'hpa_spec': None,\n",
       "                                               'keda_spec': None,\n",
       "                                               'metadata': {'annotations': None,\n",
       "                                                            'cluster_name': None,\n",
       "                                                            'creation_timestamp': '2021-05-17T11:03:32Z',\n",
       "                                                            'deletion_grace_period_seconds': None,\n",
       "                                                            'deletion_timestamp': None,\n",
       "                                                            'finalizers': None,\n",
       "                                                            'generate_name': None,\n",
       "                                                            'generation': None,\n",
       "                                                            'labels': None,\n",
       "                                                            'managed_fields': None,\n",
       "                                                            'name': None,\n",
       "                                                            'namespace': None,\n",
       "                                                            'owner_references': None,\n",
       "                                                            'resource_version': None,\n",
       "                                                            'self_link': None,\n",
       "                                                            'uid': None},\n",
       "                                               'pdb_spec': None,\n",
       "                                               'replicas': None,\n",
       "                                               'spec': {'active_deadline_seconds': None,\n",
       "                                                        'affinity': None,\n",
       "                                                        'automount_service_account_token': None,\n",
       "                                                        'containers': [{'args': None,\n",
       "                                                                        'command': None,\n",
       "                                                                        'env': None,\n",
       "                                                                        'env_from': None,\n",
       "                                                                        'image': None,\n",
       "                                                                        'image_pull_policy': None,\n",
       "                                                                        'lifecycle': None,\n",
       "                                                                        'liveness_probe': None,\n",
       "                                                                        'name': 'tom-farrand-lr-container',\n",
       "                                                                        'ports': None,\n",
       "                                                                        'readiness_probe': None,\n",
       "                                                                        'resources': {'limits': {'cpu': '1',\n",
       "                                                                                                 'memory': '1Gi'},\n",
       "                                                                                      'requests': {'cpu': '1',\n",
       "                                                                                                   'memory': '1Gi'}},\n",
       "                                                                        'security_context': None,\n",
       "                                                                        'startup_probe': None,\n",
       "                                                                        'stdin': None,\n",
       "                                                                        'stdin_once': None,\n",
       "                                                                        'termination_message_path': None,\n",
       "                                                                        'termination_message_policy': None,\n",
       "                                                                        'tty': None,\n",
       "                                                                        'volume_devices': None,\n",
       "                                                                        'volume_mounts': None,\n",
       "                                                                        'working_dir': None}],\n",
       "                                                        'dns_config': None,\n",
       "                                                        'dns_policy': None,\n",
       "                                                        'enable_service_links': None,\n",
       "                                                        'ephemeral_containers': None,\n",
       "                                                        'host_aliases': None,\n",
       "                                                        'host_ipc': None,\n",
       "                                                        'host_network': None,\n",
       "                                                        'host_pid': None,\n",
       "                                                        'hostname': None,\n",
       "                                                        'image_pull_secrets': None,\n",
       "                                                        'init_containers': None,\n",
       "                                                        'node_name': None,\n",
       "                                                        'node_selector': None,\n",
       "                                                        'overhead': None,\n",
       "                                                        'preemption_policy': None,\n",
       "                                                        'priority': None,\n",
       "                                                        'priority_class_name': None,\n",
       "                                                        'readiness_gates': None,\n",
       "                                                        'restart_policy': None,\n",
       "                                                        'runtime_class_name': None,\n",
       "                                                        'scheduler_name': None,\n",
       "                                                        'security_context': None,\n",
       "                                                        'service_account': None,\n",
       "                                                        'service_account_name': None,\n",
       "                                                        'set_hostname_as_fqdn': None,\n",
       "                                                        'share_process_namespace': None,\n",
       "                                                        'subdomain': None,\n",
       "                                                        'termination_grace_period_seconds': None,\n",
       "                                                        'tolerations': None,\n",
       "                                                        'topology_spread_constraints': None,\n",
       "                                                        'volumes': None}}],\n",
       "                          'engine_resources': {'limits': None,\n",
       "                                               'requests': None},\n",
       "                          'explainer': {'config': None,\n",
       "                                        'container_spec': {'args': None,\n",
       "                                                           'command': None,\n",
       "                                                           'env': None,\n",
       "                                                           'env_from': None,\n",
       "                                                           'image': None,\n",
       "                                                           'image_pull_policy': None,\n",
       "                                                           'lifecycle': None,\n",
       "                                                           'liveness_probe': None,\n",
       "                                                           'name': '',\n",
       "                                                           'ports': None,\n",
       "                                                           'readiness_probe': None,\n",
       "                                                           'resources': {'limits': None,\n",
       "                                                                         'requests': None},\n",
       "                                                           'security_context': None,\n",
       "                                                           'startup_probe': None,\n",
       "                                                           'stdin': None,\n",
       "                                                           'stdin_once': None,\n",
       "                                                           'termination_message_path': None,\n",
       "                                                           'termination_message_policy': None,\n",
       "                                                           'tty': None,\n",
       "                                                           'volume_devices': None,\n",
       "                                                           'volume_mounts': None,\n",
       "                                                           'working_dir': None},\n",
       "                                        'endpoint': None,\n",
       "                                        'env_secret_ref_name': None,\n",
       "                                        'model_uri': 'gs://tom-seldon-examples/ford-workshop/tom-farrand/lr',\n",
       "                                        'service_account_name': None,\n",
       "                                        'type': 'AnchorTabular'},\n",
       "                          'graph': {'children': None,\n",
       "                                    'endpoint': {'service_host': None,\n",
       "                                                 'service_port': None,\n",
       "                                                 'type': 'REST'},\n",
       "                                    'env_secret_ref_name': None,\n",
       "                                    'implementation': 'SKLEARN_SERVER',\n",
       "                                    'logger': {'mode': 'all', 'url': None},\n",
       "                                    'methods': None,\n",
       "                                    'model_uri': 'gs://tom-seldon-examples/ford-workshop/tom-farrand/lr',\n",
       "                                    'name': 'tom-farrand-lr-container',\n",
       "                                    'parameters': None,\n",
       "                                    'service_account_name': None,\n",
       "                                    'type': None},\n",
       "                          'labels': None,\n",
       "                          'name': 'default',\n",
       "                          'replicas': 1,\n",
       "                          'shadow': None,\n",
       "                          'ssl': None,\n",
       "                          'svc_orch_spec': {'env': None,\n",
       "                                            'replicas': None,\n",
       "                                            'resources': None},\n",
       "                          'traffic': 100}],\n",
       "          'protocol': 'seldon',\n",
       "          'replicas': None,\n",
       "          'server_type': None,\n",
       "          'transport': 'rest'},\n",
       " 'status': {'address': None,\n",
       "            'deployment_status': None,\n",
       "            'description': None,\n",
       "            'replicas': None,\n",
       "            'service_status': None,\n",
       "            'state': None}}"
      ]
     },
     "execution_count": 57,
     "metadata": {},
     "output_type": "execute_result"
    }
   ],
   "source": [
    "deployment_api = SeldonDeploymentsApi(auth())\n",
    "deployment_api.create_seldon_deployment(namespace=NAMESPACE, mldeployment=mldeployment)"
   ]
  },
  {
   "cell_type": "markdown",
   "metadata": {},
   "source": [
    "# Outlier Detection"
   ]
  },
  {
   "cell_type": "markdown",
   "metadata": {},
   "source": [
    "In this example you will make use of a Mahalanbois outlier detector. This algorithm calculates an outlier score, which is a measure of distance from the center of the features distribution (Mahalanobis distance). The Mahalanobis distance is focused on the idea of measuring how many standard deviations away your data point is from the mean of the distribution. \n",
    "\n",
    "The Mahalanobis outlier detector is an online detector, meaning that it has a running mean and covariance matrix with which it compares the new data points with to classify as outliers or not. It is online in the sense that each new data point contributes to this running mean and covariance matrix.\n",
    "\n",
    "The first step is to initialise your outlier detector. There are 4 parameters which will be critical to the performance of your outlier detector: \n",
    "* `threshold`: The distance threshold above which your data instance is flagged as an outlier. To begin with you can leave this blank and infer a given threshold later when fitting your detector to the dataset. \n",
    "* `n_components`: The number of components to use within the PCA. PCA is used to reduce the number of feature dimensions. This will make it easier to compute the Mahalanbois calculation especially on high feature datasets. \n",
    "* `std_clip`: Feature-wise standard deviation used to clip the observations before updating the mean and covariance matrix. \n",
    "* `start_clip`: Number of observations before clipping is applied.\n",
    "\n",
    "If your data has categorical features then these can be specified using the `cat_vars` parameter. "
   ]
  },
  {
   "cell_type": "markdown",
   "metadata": {},
   "source": [
    "Firstly, you will set the `n_components` value. The simplest way to set this value is using `n_components == min(n_samples, n_features)` and then scaling down if computational performance slows the computation of outliers.\n",
    "\n",
    "A more rigourous approach is demonstrated below. This essentially calculates the covariance matrix- how each feature varies with every other feature. This determines the eigenvalues and eigenvectors of the covariance matrix. \n",
    "\n",
    "The eigenvalues capture the variance of each component in the direction of the eigenvector. Therefore, you can use this to understand the contribution of each feature to the overall variance. From here you can make a determination of how many components to include in your PCA, as you now understand the contribution of each of the features. "
   ]
  },
  {
   "cell_type": "code",
   "execution_count": 59,
   "metadata": {},
   "outputs": [
    {
     "data": {
      "text/plain": [
       "array([[ 0.67865476, -0.03956162,  1.24462745,  0.49670868],\n",
       "       [-0.03956162,  0.20171148, -0.34006162, -0.12484594],\n",
       "       [ 1.24462745, -0.34006162,  3.07071148,  1.26893557],\n",
       "       [ 0.49670868, -0.12484594,  1.26893557,  0.56593838]])"
      ]
     },
     "execution_count": 59,
     "metadata": {},
     "output_type": "execute_result"
    }
   ],
   "source": [
    "mean, stdev = X_train.mean(axis=0), X_train.std(axis=0)\n",
    "cov_mat = np.cov((X_train - mean).T)\n",
    "cov_mat"
   ]
  },
  {
   "cell_type": "code",
   "execution_count": 60,
   "metadata": {},
   "outputs": [
    {
     "name": "stdout",
     "output_type": "stream",
     "text": [
      "Eigenvectors \n",
      " [[ 0.35922175 -0.66072216 -0.5781132   0.31652976]\n",
      " [-0.08867716 -0.72708635  0.60569412 -0.31083185]\n",
      " [ 0.85800365  0.16688652  0.08006791 -0.4791323 ]\n",
      " [ 0.35626652  0.08331002  0.54084091  0.75738016]]\n",
      "Eigenvectors \n",
      " [4.15384465 0.25811933 0.08303984 0.02201228]\n"
     ]
    }
   ],
   "source": [
    "eig_vals, eig_vecs = np.linalg.eig(cov_mat)\n",
    "print(f'Eigenvectors \\n {eig_vecs}')\n",
    "print(f'Eigenvectors \\n {eig_vals}')"
   ]
  },
  {
   "cell_type": "code",
   "execution_count": 61,
   "metadata": {},
   "outputs": [
    {
     "name": "stdout",
     "output_type": "stream",
     "text": [
      "Variance captured by each component:\n",
      "[91.95992565966301, 5.714377120220816, 1.8383782587915891, 0.48731896132459807]\n",
      "--------------------------------------------------------------------------------\n",
      "Cumulative variance captured as we travel each component:\n",
      "[ 91.95992566  97.67430278  99.51268104 100.        ]\n"
     ]
    }
   ],
   "source": [
    "total = sum(eig_vals)\n",
    "var_exp = [(i / total)*100 for i in sorted(eig_vals, reverse=True)]\n",
    "cum_var_exp = np.cumsum(var_exp)\n",
    "\n",
    "print(\"Variance captured by each component:\")\n",
    "print(var_exp)\n",
    "print(80 * \"-\")\n",
    "print(\"Cumulative variance captured as we travel each component:\")\n",
    "print(cum_var_exp)"
   ]
  },
  {
   "cell_type": "markdown",
   "metadata": {},
   "source": [
    "From the above you can see that 91.9% of the variance is captured by a single component, therefore you could reasonably set `n_components = 1`. However, you gain an additional 5% points by including a second one, and therefore:"
   ]
  },
  {
   "cell_type": "code",
   "execution_count": 62,
   "metadata": {},
   "outputs": [],
   "source": [
    "n_components = 2"
   ]
  },
  {
   "cell_type": "markdown",
   "metadata": {},
   "source": [
    "`std_clip` is used to ensure that outliers do not impact the typical operation of the detector. If many, many outliers (e.g. in a DDoS attack, or multiple broken parts in a assembly line) were sent to the detector then the weights (covariance matrix) would shift to include these outliers, therefore we set a `std_clip` whereby any data points above this clip level will have their `stdev` clipped to this maximal value. \n",
    "\n",
    "Setting the `std_clip` is case by case dependent, but you will use the following heuristic to set it. You will look at the `stdev` across the features, selecting the one which is the most widely distributed (the highest value). You will then set the `std_clip` to be 2 stdevs away from this maximal value. \n",
    "\n",
    "The code snippet below illustrates this."
   ]
  },
  {
   "cell_type": "code",
   "execution_count": 63,
   "metadata": {},
   "outputs": [
    {
     "data": {
      "text/plain": [
       "3.49"
      ]
     },
     "execution_count": 63,
     "metadata": {},
     "output_type": "execute_result"
    }
   ],
   "source": [
    "std_clip = (2 * stdev.max(axis=0)).round(decimals=2)\n",
    "std_clip"
   ]
  },
  {
   "cell_type": "markdown",
   "metadata": {},
   "source": [
    "Finally, the `start_clip` value is used to \"warm up\" the outlier detector. When the detector is first initialised it can be sensitive to new observations- which lead to large changes in the online mean and covariance matrix. During this period of time you do not want to show the outlier detector any outliers as it can greatly skew the accuracy of the running mean and covariance matrix.\n",
    "\n",
    "Thus during this \"warm up\" period you only show the outlier detector examples of normal data, and do not perform any clipping. The `start_clip` value determines after which point you should begin clipping data points and introducing outliers into the mix. \n",
    "\n",
    "Therefore `start_clip` in this case will be equal to the length of `X_train`, as you know that there are no outlying data points within the original Iris dataset. "
   ]
  },
  {
   "cell_type": "code",
   "execution_count": 64,
   "metadata": {},
   "outputs": [
    {
     "data": {
      "text/plain": [
       "120"
      ]
     },
     "execution_count": 64,
     "metadata": {},
     "output_type": "execute_result"
    }
   ],
   "source": [
    "start_clip = len(X_train)\n",
    "start_clip"
   ]
  },
  {
   "cell_type": "code",
   "execution_count": 65,
   "metadata": {},
   "outputs": [
    {
     "name": "stderr",
     "output_type": "stream",
     "text": [
      "No threshold level set. Need to infer threshold using `infer_threshold`.\n"
     ]
    }
   ],
   "source": [
    "threshold = None\n",
    "\n",
    "od = Mahalanobis(threshold,\n",
    "                 n_components=n_components,\n",
    "                 std_clip=std_clip,\n",
    "                 start_clip=start_clip)"
   ]
  },
  {
   "cell_type": "markdown",
   "metadata": {},
   "source": [
    "If you were dealing with categorical variables you would now run `od.fit(...)` however because the Iris dataset is solely continuous variables you do not need to perform this step. \n",
    "\n",
    "------\n",
    "\n",
    "You do however now need to set the threshold of Mahalanobis distance above which you consider a data instance an outlier. This can be done using the convenient `infer_threshold()` method. \n",
    "\n",
    "You first create a synthetic outlier batch using your training data and labels, with a certain percentage of the batch as outliers. Based upon this percentage of outliers you shall update the threshold value."
   ]
  },
  {
   "cell_type": "code",
   "execution_count": 66,
   "metadata": {},
   "outputs": [
    {
     "name": "stdout",
     "output_type": "stream",
     "text": [
      "5.0% outliers\n"
     ]
    }
   ],
   "source": [
    "np.random.seed(0)\n",
    "perc_outlier = 5\n",
    "\n",
    "threshold_batch = create_outlier_batch(X_train, y_train, n_samples=1000, perc_outlier=perc_outlier)\n",
    "X_threshold, y_threshold = threshold_batch.data.astype('float'), threshold_batch.target\n",
    "X_threshold = (X_threshold - mean) / stdev\n",
    "print('{}% outliers'.format(100 * y_threshold.mean()))"
   ]
  },
  {
   "cell_type": "markdown",
   "metadata": {},
   "source": [
    "Once you have created the synthetic data we can determine the threshold using `infer_threshold`:"
   ]
  },
  {
   "cell_type": "code",
   "execution_count": 67,
   "metadata": {},
   "outputs": [
    {
     "name": "stdout",
     "output_type": "stream",
     "text": [
      "New threshold: 8.10689543287148\n"
     ]
    }
   ],
   "source": [
    "od.infer_threshold(X_threshold, threshold_perc=100-perc_outlier)\n",
    "print('New threshold: {}'.format(od.threshold))\n",
    "threshold = od.threshold"
   ]
  },
  {
   "cell_type": "markdown",
   "metadata": {},
   "source": [
    "You can now test your threshold by generating a second batch of outlying data, this time with a higher proportion of outliers: "
   ]
  },
  {
   "cell_type": "code",
   "execution_count": 68,
   "metadata": {},
   "outputs": [
    {
     "name": "stdout",
     "output_type": "stream",
     "text": [
      "(1000, 4) (1000,)\n",
      "10.0% outliers\n"
     ]
    }
   ],
   "source": [
    "np.random.seed(1)\n",
    "outlier_batch = create_outlier_batch(X_train, y_train, n_samples=1000, perc_outlier=10)\n",
    "X_outlier, y_outlier = outlier_batch.data.astype('float'), outlier_batch.target\n",
    "X_outlier = (X_outlier - mean) / stdev\n",
    "print(X_outlier.shape, y_outlier.shape)\n",
    "print('{}% outliers'.format(100 * y_outlier.mean()))"
   ]
  },
  {
   "cell_type": "markdown",
   "metadata": {},
   "source": [
    "Generating outlier predictions from your new detector using the freshly created outlier batch:"
   ]
  },
  {
   "cell_type": "code",
   "execution_count": 69,
   "metadata": {},
   "outputs": [],
   "source": [
    "od_preds = od.predict(X_outlier, return_instance_score=True)"
   ]
  },
  {
   "cell_type": "code",
   "execution_count": 70,
   "metadata": {},
   "outputs": [
    {
     "name": "stdout",
     "output_type": "stream",
     "text": [
      "F1 score: 0.9743589743589743\n"
     ]
    },
    {
     "data": {
      "image/png": "[encoded data removed]",
      "text/plain": [
       "<Figure size 432x288 with 2 Axes>"
      ]
     },
     "metadata": {
      "needs_background": "light"
     },
     "output_type": "display_data"
    }
   ],
   "source": [
    "labels = outlier_batch.target_names\n",
    "y_pred = od_preds['data']['is_outlier']\n",
    "f1 = f1_score(y_outlier, y_pred)\n",
    "print('F1 score: {}'.format(f1))\n",
    "cm = confusion_matrix(y_outlier, y_pred)\n",
    "df_cm = pd.DataFrame(cm, index=labels, columns=labels)\n",
    "sns.heatmap(df_cm, annot=True, cbar=True, linewidths=.5)\n",
    "plt.show()"
   ]
  },
  {
   "cell_type": "code",
   "execution_count": 71,
   "metadata": {},
   "outputs": [
    {
     "data": {
      "image/png": "[encoded data removed]",
      "text/plain": [
       "<Figure size 432x288 with 1 Axes>"
      ]
     },
     "metadata": {
      "needs_background": "light"
     },
     "output_type": "display_data"
    }
   ],
   "source": [
    "plot_instance_score(od_preds, y_outlier, labels, od.threshold)"
   ]
  },
  {
   "cell_type": "markdown",
   "metadata": {},
   "source": [
    "Saving your handiwork is simple. "
   ]
  },
  {
   "cell_type": "code",
   "execution_count": 74,
   "metadata": {},
   "outputs": [],
   "source": [
    "save_detector(od, \"outlier_detector\")"
   ]
  },
  {
   "cell_type": "markdown",
   "metadata": {},
   "source": [
    "Uploading the outlier detector to a Google Storage bucket.\n",
    "\n",
    "Make sure to replace `<YOUR NAME>` with your name to prevent overwriting others artefacts."
   ]
  },
  {
   "cell_type": "code",
   "execution_count": 75,
   "metadata": {},
   "outputs": [
    {
     "name": "stdout",
     "output_type": "stream",
     "text": [
      "Copying file://outlier_detector/Mahalanobis.pickle [Content-Type=application/octet-stream]...\n",
      "Copying file://outlier_detector/meta.pickle [Content-Type=application/octet-stream]...\n",
      "- [2 files][  838.0 B/  838.0 B]                                                \n",
      "Operation completed over 2 objects/838.0 B.                                      \n"
     ]
    }
   ],
   "source": [
    "# Recursive copy this time as the OD is saved as a directory containing all the relevant binaries and parameters.\n",
    "!gsutil cp -r outlier_detector gs://tom-seldon-examples/ford-workshop/tom-farrand/"
   ]
  },
  {
   "cell_type": "code",
   "execution_count": 76,
   "metadata": {},
   "outputs": [],
   "source": [
    "OD_URI = f'gs://tom-seldon-examples/{YOUR_NAME}/outlier_detector/'\n",
    "OD_NAME = 'mahalobanis-od'\n",
    "\n",
    "od_config = {'deployment': DEPLOYMENT_NAME,\n",
    "             'deployment_namespace': None,\n",
    "             'namespace': 'seldon-logs',\n",
    "             'params': {'drift_batch_size': None,\n",
    "                        'env_secret_ref': None,\n",
    "                        'event_source': f'io.seldon.serving.dev-seldondeployment-{DEPLOYMENT_NAME}-outlier',\n",
    "                        'event_type': 'io.seldon.serving.inference.outlier',\n",
    "                        'http_port': '8080',\n",
    "                        'model_name': OD_NAME,\n",
    "                        'protocol': 'seldon.http',\n",
    "                        'reply_url': 'http://seldon-request-logger.seldon-logs',\n",
    "                        'storage_uri': OD_URI,\n",
    "                        'user_permission': None},\n",
    "             'prom_scraping': None,\n",
    "             'url': None}"
   ]
  },
  {
   "cell_type": "code",
   "execution_count": 77,
   "metadata": {
    "scrolled": true
   },
   "outputs": [
    {
     "data": {
      "text/plain": [
       "{'deployment': 'tom-farrand-lr',\n",
       " 'deployment_namespace': None,\n",
       " 'namespace': 'seldon-logs',\n",
       " 'params': {'drift_batch_size': None,\n",
       "            'env_secret_ref': None,\n",
       "            'event_source': 'io.seldon.serving.test-seldondeployment-tom-farrand-lr-outlier',\n",
       "            'event_type': 'io.seldon.serving.inference.outlier',\n",
       "            'http_port': '8080',\n",
       "            'model_name': 'mahalobanis-od',\n",
       "            'protocol': 'seldon.http',\n",
       "            'reply_url': 'http://seldon-request-logger.seldon-logs',\n",
       "            'storage_uri': 'gs://tom-seldon-examples/tom-farrand/outlier_detector/',\n",
       "            'user_permission': None},\n",
       " 'prom_scraping': None,\n",
       " 'url': None}"
      ]
     },
     "execution_count": 77,
     "metadata": {},
     "output_type": "execute_result"
    }
   ],
   "source": [
    "od_api = OutlierDetectorApi(auth())\n",
    "od_api.create_outlier_detector_seldon_deployment(name=DEPLOYMENT_NAME,\n",
    "                                                 namespace=NAMESPACE,\n",
    "                                                 outlier_detector=od_config)"
   ]
  },
  {
   "cell_type": "markdown",
   "metadata": {},
   "source": [
    "# Drift Detection\n",
    "The final component which you will train and deploy is a drift detector. You will make use of the Kolmogorov-Smirnov (KS) drift detector. \n",
    "\n",
    "The KS detector applies a KS test to each of the features and then aggregates them together using the provided `correction`. The KS test can be used to compare a sample with a reference probability distribution (one-sample K–S test), or to compare two samples (two-sample K–S test).\n",
    "\n",
    "`IMAGE OF KS TEST`\n",
    "Illustration of the Kolmogorov–Smirnov statistic. The red line is a model CDF, the blue line is an empirical CDF, and the black arrow is the K–S statistic.\n",
    "\n",
    "While the statistics behind this test are more complex, the application of it to your data is simple thanks to Alibi. "
   ]
  },
  {
   "cell_type": "code",
   "execution_count": 81,
   "metadata": {},
   "outputs": [],
   "source": [
    "from alibi_detect.cd import KSDrift\n",
    "\n",
    "dd = KSDrift(\n",
    "    p_val=0.05,\n",
    "    x_ref=X_train,\n",
    "    preprocess_x_ref=False, # As the dataset only has 4 features, no pre-processing is no necessary\n",
    "    alternative='two-sided',\n",
    "    correction='bonferroni'\n",
    ")"
   ]
  },
  {
   "cell_type": "markdown",
   "metadata": {},
   "source": [
    "Once the drift detector has been created, if can be fed batches of data and used to predict whether drift is occurring. "
   ]
  },
  {
   "cell_type": "code",
   "execution_count": 82,
   "metadata": {},
   "outputs": [
    {
     "data": {
      "text/plain": [
       "{'data': {'is_drift': 0,\n",
       "  'distance': array([0.11666667, 0.06666667, 0.11666667, 0.13333334], dtype=float32),\n",
       "  'p_val': array([0.8624313, 0.9996419, 0.8624313, 0.7382182], dtype=float32),\n",
       "  'threshold': 0.0125},\n",
       " 'meta': {'name': 'KSDrift', 'detector_type': 'offline', 'data_type': None}}"
      ]
     },
     "execution_count": 82,
     "metadata": {},
     "output_type": "execute_result"
    }
   ],
   "source": [
    "preds_drift = dd.predict(X_test, return_p_val=True, return_distance=True)\n",
    "preds_drift"
   ]
  },
  {
   "cell_type": "markdown",
   "metadata": {},
   "source": [
    "Similarly to the outlier detector, the drift detector can be saved using Alibi Detect's `save_detector` function. "
   ]
  },
  {
   "cell_type": "code",
   "execution_count": 83,
   "metadata": {},
   "outputs": [],
   "source": [
    "save_detector(dd, \"drift_detector\")"
   ]
  },
  {
   "cell_type": "code",
   "execution_count": 84,
   "metadata": {},
   "outputs": [
    {
     "name": "stdout",
     "output_type": "stream",
     "text": [
      "Copying file://drift_detector/meta.pickle [Content-Type=application/octet-stream]...\n",
      "Copying file://drift_detector/KSDrift.pickle [Content-Type=application/octet-stream]...\n",
      "/ [2 files][  4.3 KiB/  4.3 KiB]                                                \n",
      "Operation completed over 2 objects/4.3 KiB.                                      \n"
     ]
    }
   ],
   "source": [
    "# Recursive copy this time as the OD is saved as a directory containing all the relevant binaries and parameters.\n",
    "!gsutil cp -r drift_detector gs://tom-seldon-examples/ford-workshop/tom-farrand/"
   ]
  },
  {
   "cell_type": "code",
   "execution_count": 85,
   "metadata": {},
   "outputs": [],
   "source": [
    "DD_URI = f'gs://tom-seldon-examples/ford-workshop/{YOUR_NAME}/drift_detector/'\n",
    "DD_NAME = 'KSDrift-Detector'\n",
    "\n",
    "dd_config = {'deployment': DEPLOYMENT_NAME,\n",
    "             'deployment_namespace': None,\n",
    "             'namespace': 'seldon-logs',\n",
    "             'params': {'drift_batch_size': '10',\n",
    "                        'env_secret_ref': None,\n",
    "                        'event_source': f'io.seldon.serving.dev-seldondeployment-{DEPLOYMENT_NAME}-drift',\n",
    "                        'event_type': 'io.seldon.serving.inference.drift',\n",
    "                        'http_port': '8080',\n",
    "                        'model_name': DD_NAME,\n",
    "                        'protocol': 'seldon.http',\n",
    "                        'reply_url': 'http://seldon-request-logger.seldon-logs',\n",
    "                        'storage_uri': DD_URI,\n",
    "                        'user_permission': None},\n",
    "             'prom_scraping': None,\n",
    "             'url': None}"
   ]
  },
  {
   "cell_type": "code",
   "execution_count": 86,
   "metadata": {},
   "outputs": [
    {
     "data": {
      "text/plain": [
       "{'deployment': 'tom-farrand-lr',\n",
       " 'deployment_namespace': None,\n",
       " 'namespace': 'seldon-logs',\n",
       " 'params': {'drift_batch_size': '10',\n",
       "            'env_secret_ref': None,\n",
       "            'event_source': 'io.seldon.serving.test-seldondeployment-tom-farrand-lr-drift',\n",
       "            'event_type': 'io.seldon.serving.inference.drift',\n",
       "            'http_port': '8080',\n",
       "            'model_name': 'KSDrift-Detector',\n",
       "            'protocol': 'seldon.http',\n",
       "            'reply_url': 'http://seldon-request-logger.seldon-logs',\n",
       "            'storage_uri': 'gs://tom-seldon-examples/ford-workshop/tom-farrand/drift_detector/',\n",
       "            'user_permission': None},\n",
       " 'prom_scraping': None,\n",
       " 'url': None}"
      ]
     },
     "execution_count": 86,
     "metadata": {},
     "output_type": "execute_result"
    }
   ],
   "source": [
    "dd_api = DriftDetectorApi(auth())\n",
    "dd_api.create_drift_detector_seldon_deployment(name=DEPLOYMENT_NAME,\n",
    "                                               namespace=NAMESPACE,\n",
    "                                               drift_detector=dd_config)"
   ]
  },
  {
   "cell_type": "code",
   "execution_count": null,
   "metadata": {},
   "outputs": [],
   "source": []
  }
 ],
 "metadata": {
  "kernelspec": {
   "display_name": "Python 3",
   "language": "python",
   "name": "python3"
  },
  "language_info": {
   "codemirror_mode": {
    "name": "ipython",
    "version": 3
   },
   "file_extension": ".py",
   "mimetype": "text/x-python",
   "name": "python",
   "nbconvert_exporter": "python",
   "pygments_lexer": "ipython3",
   "version": "3.6.8"
  }
 },
 "nbformat": 4,
 "nbformat_minor": 4
}
