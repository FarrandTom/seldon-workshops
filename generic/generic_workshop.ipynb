{
  "nbformat": 4,
  "nbformat_minor": 0,
  "metadata": {
    "kernelspec": {
      "display_name": "Python 3",
      "language": "python",
      "name": "python3"
    },
    "language_info": {
      "codemirror_mode": {
        "name": "ipython",
        "version": 3
      },
      "file_extension": ".py",
      "mimetype": "text/x-python",
      "name": "python",
      "nbconvert_exporter": "python",
      "pygments_lexer": "ipython3",
      "version": "3.6.8"
    },
    "colab": {
      "name": "generic_workshop.ipynb",
      "provenance": [],
      "collapsed_sections": [],
      "toc_visible": true
    }
  },
  "cells": [
    {
      "cell_type": "markdown",
      "metadata": {
        "id": "RomFuTAqSW0Z"
      },
      "source": [
        "# Iris Classification\n",
        "This notebook gets you hands-on with Seldon Deploy, demonstrating how you can deploy, monitor, manage and explain machine learning models. \n",
        "\n",
        "In this notebook you will:\n",
        "\n",
        "* Explore the Iris dataset\n",
        "* Train several models on the dataset\n",
        "* Deploy trained models to Seldon\n",
        "* Train an anchor tabular explainer and update Seldon deployment with this explainer\n",
        "* Train an outlier detector (variational autoencoder) and update deployment\n",
        "\n",
        "\n",
        "For each of the machine learning components (the models themselves, explainer and outlier detector) the workflow is the same: \n",
        "1. Train algorithm\n",
        "2. Push trained artefact to Google Storage bucket\n",
        "3. Create deployment on Seldon Deploy via API"
      ]
    },
    {
      "cell_type": "markdown",
      "metadata": {
        "id": "01OHsBI6SW0e"
      },
      "source": [
        "### Import relevant packages"
      ]
    },
    {
      "cell_type": "code",
      "metadata": {
        "colab": {
          "base_uri": "https://localhost:8080/"
        },
        "id": "HfKXJ5t5SW0i",
        "outputId": "7e17866f-08ae-4b9c-e20c-21345c2f7dd9"
      },
      "source": [
        "!pip install seldon-deploy-sdk\n",
        "!pip install alibi\n",
        "!pip install alibi-detect\n",
        "!pip install fsspec\n",
        "!pip install gcsfs\n",
        "!pip install dill"
      ],
      "execution_count": 3,
      "outputs": [
        {
          "output_type": "stream",
          "text": [
            "Collecting seldon-deploy-sdk\n",
            "\u001b[?25l  Downloading https://files.pythonhosted.org/packages/06/26/521ccf40085be92abd72ce0d50f8229b239b9b872f5684d2b0d00729d5cc/seldon_deploy_sdk-1.2.0-py3-none-any.whl (667kB)\n",
            "\u001b[K     |████████████████████████████████| 675kB 13.9MB/s \n",
            "\u001b[?25hCollecting Authlib<=0.16.0\n",
            "\u001b[?25l  Downloading https://files.pythonhosted.org/packages/37/ee/038fdffd329825d5e026ee6e81b945938c10232794d08dcbacfbbd23dce0/Authlib-0.15.3-py2.py3-none-any.whl (203kB)\n",
            "\u001b[K     |████████████████████████████████| 204kB 29.5MB/s \n",
            "\u001b[?25hRequirement already satisfied: python-dateutil>=2.1 in /usr/local/lib/python3.7/dist-packages (from seldon-deploy-sdk) (2.8.1)\n",
            "Requirement already satisfied: certifi>=2017.4.17 in /usr/local/lib/python3.7/dist-packages (from seldon-deploy-sdk) (2020.12.5)\n",
            "Requirement already satisfied: urllib3>=1.23 in /usr/local/lib/python3.7/dist-packages (from seldon-deploy-sdk) (1.24.3)\n",
            "Requirement already satisfied: six>=1.10 in /usr/local/lib/python3.7/dist-packages (from seldon-deploy-sdk) (1.15.0)\n",
            "Collecting cryptography\n",
            "\u001b[?25l  Downloading https://files.pythonhosted.org/packages/b2/26/7af637e6a7e87258b963f1731c5982fb31cd507f0d90d91836e446955d02/cryptography-3.4.7-cp36-abi3-manylinux2014_x86_64.whl (3.2MB)\n",
            "\u001b[K     |████████████████████████████████| 3.2MB 22.9MB/s \n",
            "\u001b[?25hRequirement already satisfied: cffi>=1.12 in /usr/local/lib/python3.7/dist-packages (from cryptography->Authlib<=0.16.0->seldon-deploy-sdk) (1.14.5)\n",
            "Requirement already satisfied: pycparser in /usr/local/lib/python3.7/dist-packages (from cffi>=1.12->cryptography->Authlib<=0.16.0->seldon-deploy-sdk) (2.20)\n",
            "Installing collected packages: cryptography, Authlib, seldon-deploy-sdk\n",
            "Successfully installed Authlib-0.15.3 cryptography-3.4.7 seldon-deploy-sdk-1.2.0\n",
            "Collecting alibi\n",
            "\u001b[?25l  Downloading https://files.pythonhosted.org/packages/10/29/d971245c07646cb5b5ed7e9203a7f013573f9e90134d1b8f159cc57ea58d/alibi-0.5.8-py3-none-any.whl (312kB)\n",
            "\u001b[K     |████████████████████████████████| 317kB 14.7MB/s \n",
            "\u001b[?25hRequirement already satisfied: scikit-image!=0.17.1,<0.19,>=0.14.2 in /usr/local/lib/python3.7/dist-packages (from alibi) (0.16.2)\n",
            "Collecting attrs<21.0.0,>=19.2.0\n",
            "\u001b[?25l  Downloading https://files.pythonhosted.org/packages/c3/aa/cb45262569fcc047bf070b5de61813724d6726db83259222cd7b4c79821a/attrs-20.3.0-py2.py3-none-any.whl (49kB)\n",
            "\u001b[K     |████████████████████████████████| 51kB 6.8MB/s \n",
            "\u001b[?25hRequirement already satisfied: requests<3.0.0,>=2.21.0 in /usr/local/lib/python3.7/dist-packages (from alibi) (2.23.0)\n",
            "Requirement already satisfied: scipy<2.0.0,>=1.1.0 in /usr/local/lib/python3.7/dist-packages (from alibi) (1.4.1)\n",
            "Requirement already satisfied: dill<0.4.0,>=0.3.0 in /usr/local/lib/python3.7/dist-packages (from alibi) (0.3.3)\n",
            "Collecting tensorflow<2.5.0,>=2.0.0\n",
            "\u001b[?25l  Downloading https://files.pythonhosted.org/packages/70/dc/e8c5e7983866fa4ef3fd619faa35f660b95b01a2ab62b3884f038ccab542/tensorflow-2.4.1-cp37-cp37m-manylinux2010_x86_64.whl (394.3MB)\n",
            "\u001b[K     |████████████████████████████████| 394.3MB 35kB/s \n",
            "\u001b[?25hRequirement already satisfied: typing-extensions>=3.7.2; python_version < \"3.8\" in /usr/local/lib/python3.7/dist-packages (from alibi) (3.7.4.3)\n",
            "Requirement already satisfied: Pillow<9.0,>=5.4.1 in /usr/local/lib/python3.7/dist-packages (from alibi) (7.1.2)\n",
            "Requirement already satisfied: matplotlib<4.0.0,>=3.0.0 in /usr/local/lib/python3.7/dist-packages (from alibi) (3.2.2)\n",
            "Requirement already satisfied: numpy<2.0.0,>=1.16.2 in /usr/local/lib/python3.7/dist-packages (from alibi) (1.19.5)\n",
            "Requirement already satisfied: scikit-learn<0.25.0,>=0.20.2 in /usr/local/lib/python3.7/dist-packages (from alibi) (0.22.2.post1)\n",
            "Requirement already satisfied: pandas<2.0.0,>=0.23.3 in /usr/local/lib/python3.7/dist-packages (from alibi) (1.1.5)\n",
            "Requirement already satisfied: spacy[lookups]<4.0.0,>=2.0.0 in /usr/local/lib/python3.7/dist-packages (from alibi) (2.2.4)\n",
            "Requirement already satisfied: networkx>=2.0 in /usr/local/lib/python3.7/dist-packages (from scikit-image!=0.17.1,<0.19,>=0.14.2->alibi) (2.5.1)\n",
            "Requirement already satisfied: imageio>=2.3.0 in /usr/local/lib/python3.7/dist-packages (from scikit-image!=0.17.1,<0.19,>=0.14.2->alibi) (2.4.1)\n",
            "Requirement already satisfied: PyWavelets>=0.4.0 in /usr/local/lib/python3.7/dist-packages (from scikit-image!=0.17.1,<0.19,>=0.14.2->alibi) (1.1.1)\n",
            "Requirement already satisfied: idna<3,>=2.5 in /usr/local/lib/python3.7/dist-packages (from requests<3.0.0,>=2.21.0->alibi) (2.10)\n",
            "Requirement already satisfied: urllib3!=1.25.0,!=1.25.1,<1.26,>=1.21.1 in /usr/local/lib/python3.7/dist-packages (from requests<3.0.0,>=2.21.0->alibi) (1.24.3)\n",
            "Requirement already satisfied: certifi>=2017.4.17 in /usr/local/lib/python3.7/dist-packages (from requests<3.0.0,>=2.21.0->alibi) (2020.12.5)\n",
            "Requirement already satisfied: chardet<4,>=3.0.2 in /usr/local/lib/python3.7/dist-packages (from requests<3.0.0,>=2.21.0->alibi) (3.0.4)\n",
            "Collecting gast==0.3.3\n",
            "  Downloading https://files.pythonhosted.org/packages/d6/84/759f5dd23fec8ba71952d97bcc7e2c9d7d63bdc582421f3cd4be845f0c98/gast-0.3.3-py2.py3-none-any.whl\n",
            "Collecting tensorflow-estimator<2.5.0,>=2.4.0\n",
            "\u001b[?25l  Downloading https://files.pythonhosted.org/packages/74/7e/622d9849abf3afb81e482ffc170758742e392ee129ce1540611199a59237/tensorflow_estimator-2.4.0-py2.py3-none-any.whl (462kB)\n",
            "\u001b[K     |████████████████████████████████| 471kB 10.6MB/s \n",
            "\u001b[?25hRequirement already satisfied: absl-py~=0.10 in /usr/local/lib/python3.7/dist-packages (from tensorflow<2.5.0,>=2.0.0->alibi) (0.12.0)\n",
            "Requirement already satisfied: opt-einsum~=3.3.0 in /usr/local/lib/python3.7/dist-packages (from tensorflow<2.5.0,>=2.0.0->alibi) (3.3.0)\n",
            "Collecting grpcio~=1.32.0\n",
            "\u001b[?25l  Downloading https://files.pythonhosted.org/packages/06/54/1c8be62beafe7fb1548d2968e518ca040556b46b0275399d4f3186c56d79/grpcio-1.32.0-cp37-cp37m-manylinux2014_x86_64.whl (3.8MB)\n",
            "\u001b[K     |████████████████████████████████| 3.8MB 32.1MB/s \n",
            "\u001b[?25hCollecting h5py~=2.10.0\n",
            "\u001b[?25l  Downloading https://files.pythonhosted.org/packages/3f/c0/abde58b837e066bca19a3f7332d9d0493521d7dd6b48248451a9e3fe2214/h5py-2.10.0-cp37-cp37m-manylinux1_x86_64.whl (2.9MB)\n",
            "\u001b[K     |████████████████████████████████| 2.9MB 33.7MB/s \n",
            "\u001b[?25hRequirement already satisfied: google-pasta~=0.2 in /usr/local/lib/python3.7/dist-packages (from tensorflow<2.5.0,>=2.0.0->alibi) (0.2.0)\n",
            "Requirement already satisfied: keras-preprocessing~=1.1.2 in /usr/local/lib/python3.7/dist-packages (from tensorflow<2.5.0,>=2.0.0->alibi) (1.1.2)\n",
            "Requirement already satisfied: protobuf>=3.9.2 in /usr/local/lib/python3.7/dist-packages (from tensorflow<2.5.0,>=2.0.0->alibi) (3.12.4)\n",
            "Requirement already satisfied: six~=1.15.0 in /usr/local/lib/python3.7/dist-packages (from tensorflow<2.5.0,>=2.0.0->alibi) (1.15.0)\n",
            "Requirement already satisfied: termcolor~=1.1.0 in /usr/local/lib/python3.7/dist-packages (from tensorflow<2.5.0,>=2.0.0->alibi) (1.1.0)\n",
            "Requirement already satisfied: wheel~=0.35 in /usr/local/lib/python3.7/dist-packages (from tensorflow<2.5.0,>=2.0.0->alibi) (0.36.2)\n",
            "Requirement already satisfied: wrapt~=1.12.1 in /usr/local/lib/python3.7/dist-packages (from tensorflow<2.5.0,>=2.0.0->alibi) (1.12.1)\n",
            "Requirement already satisfied: astunparse~=1.6.3 in /usr/local/lib/python3.7/dist-packages (from tensorflow<2.5.0,>=2.0.0->alibi) (1.6.3)\n",
            "Requirement already satisfied: tensorboard~=2.4 in /usr/local/lib/python3.7/dist-packages (from tensorflow<2.5.0,>=2.0.0->alibi) (2.5.0)\n",
            "Requirement already satisfied: flatbuffers~=1.12.0 in /usr/local/lib/python3.7/dist-packages (from tensorflow<2.5.0,>=2.0.0->alibi) (1.12)\n",
            "Requirement already satisfied: python-dateutil>=2.1 in /usr/local/lib/python3.7/dist-packages (from matplotlib<4.0.0,>=3.0.0->alibi) (2.8.1)\n",
            "Requirement already satisfied: pyparsing!=2.0.4,!=2.1.2,!=2.1.6,>=2.0.1 in /usr/local/lib/python3.7/dist-packages (from matplotlib<4.0.0,>=3.0.0->alibi) (2.4.7)\n",
            "Requirement already satisfied: cycler>=0.10 in /usr/local/lib/python3.7/dist-packages (from matplotlib<4.0.0,>=3.0.0->alibi) (0.10.0)\n",
            "Requirement already satisfied: kiwisolver>=1.0.1 in /usr/local/lib/python3.7/dist-packages (from matplotlib<4.0.0,>=3.0.0->alibi) (1.3.1)\n",
            "Requirement already satisfied: joblib>=0.11 in /usr/local/lib/python3.7/dist-packages (from scikit-learn<0.25.0,>=0.20.2->alibi) (1.0.1)\n",
            "Requirement already satisfied: pytz>=2017.2 in /usr/local/lib/python3.7/dist-packages (from pandas<2.0.0,>=0.23.3->alibi) (2018.9)\n",
            "Requirement already satisfied: srsly<1.1.0,>=1.0.2 in /usr/local/lib/python3.7/dist-packages (from spacy[lookups]<4.0.0,>=2.0.0->alibi) (1.0.5)\n",
            "Requirement already satisfied: setuptools in /usr/local/lib/python3.7/dist-packages (from spacy[lookups]<4.0.0,>=2.0.0->alibi) (56.1.0)\n",
            "Requirement already satisfied: catalogue<1.1.0,>=0.0.7 in /usr/local/lib/python3.7/dist-packages (from spacy[lookups]<4.0.0,>=2.0.0->alibi) (1.0.0)\n",
            "Requirement already satisfied: cymem<2.1.0,>=2.0.2 in /usr/local/lib/python3.7/dist-packages (from spacy[lookups]<4.0.0,>=2.0.0->alibi) (2.0.5)\n",
            "Requirement already satisfied: preshed<3.1.0,>=3.0.2 in /usr/local/lib/python3.7/dist-packages (from spacy[lookups]<4.0.0,>=2.0.0->alibi) (3.0.5)\n",
            "Requirement already satisfied: tqdm<5.0.0,>=4.38.0 in /usr/local/lib/python3.7/dist-packages (from spacy[lookups]<4.0.0,>=2.0.0->alibi) (4.41.1)\n",
            "Requirement already satisfied: blis<0.5.0,>=0.4.0 in /usr/local/lib/python3.7/dist-packages (from spacy[lookups]<4.0.0,>=2.0.0->alibi) (0.4.1)\n",
            "Requirement already satisfied: wasabi<1.1.0,>=0.4.0 in /usr/local/lib/python3.7/dist-packages (from spacy[lookups]<4.0.0,>=2.0.0->alibi) (0.8.2)\n",
            "Requirement already satisfied: thinc==7.4.0 in /usr/local/lib/python3.7/dist-packages (from spacy[lookups]<4.0.0,>=2.0.0->alibi) (7.4.0)\n",
            "Requirement already satisfied: murmurhash<1.1.0,>=0.28.0 in /usr/local/lib/python3.7/dist-packages (from spacy[lookups]<4.0.0,>=2.0.0->alibi) (1.0.5)\n",
            "Requirement already satisfied: plac<1.2.0,>=0.9.6 in /usr/local/lib/python3.7/dist-packages (from spacy[lookups]<4.0.0,>=2.0.0->alibi) (1.1.3)\n",
            "Collecting spacy-lookups-data<0.2.0,>=0.0.5; extra == \"lookups\"\n",
            "\u001b[?25l  Downloading https://files.pythonhosted.org/packages/27/3c/4a37ca7d0c21dc2287a8bb5d249f5f3211cdf3d598acf742bf5bb8c87169/spacy_lookups_data-0.1.0.tar.gz (28.0MB)\n",
            "\u001b[K     |████████████████████████████████| 28.0MB 144kB/s \n",
            "\u001b[?25hRequirement already satisfied: decorator<5,>=4.3 in /usr/local/lib/python3.7/dist-packages (from networkx>=2.0->scikit-image!=0.17.1,<0.19,>=0.14.2->alibi) (4.4.2)\n",
            "Requirement already satisfied: google-auth-oauthlib<0.5,>=0.4.1 in /usr/local/lib/python3.7/dist-packages (from tensorboard~=2.4->tensorflow<2.5.0,>=2.0.0->alibi) (0.4.4)\n",
            "Requirement already satisfied: markdown>=2.6.8 in /usr/local/lib/python3.7/dist-packages (from tensorboard~=2.4->tensorflow<2.5.0,>=2.0.0->alibi) (3.3.4)\n",
            "Requirement already satisfied: tensorboard-data-server<0.7.0,>=0.6.0 in /usr/local/lib/python3.7/dist-packages (from tensorboard~=2.4->tensorflow<2.5.0,>=2.0.0->alibi) (0.6.1)\n",
            "Requirement already satisfied: google-auth<2,>=1.6.3 in /usr/local/lib/python3.7/dist-packages (from tensorboard~=2.4->tensorflow<2.5.0,>=2.0.0->alibi) (1.30.0)\n",
            "Requirement already satisfied: tensorboard-plugin-wit>=1.6.0 in /usr/local/lib/python3.7/dist-packages (from tensorboard~=2.4->tensorflow<2.5.0,>=2.0.0->alibi) (1.8.0)\n",
            "Requirement already satisfied: werkzeug>=0.11.15 in /usr/local/lib/python3.7/dist-packages (from tensorboard~=2.4->tensorflow<2.5.0,>=2.0.0->alibi) (1.0.1)\n",
            "Requirement already satisfied: importlib-metadata>=0.20; python_version < \"3.8\" in /usr/local/lib/python3.7/dist-packages (from catalogue<1.1.0,>=0.0.7->spacy[lookups]<4.0.0,>=2.0.0->alibi) (4.0.1)\n",
            "Requirement already satisfied: requests-oauthlib>=0.7.0 in /usr/local/lib/python3.7/dist-packages (from google-auth-oauthlib<0.5,>=0.4.1->tensorboard~=2.4->tensorflow<2.5.0,>=2.0.0->alibi) (1.3.0)\n",
            "Requirement already satisfied: pyasn1-modules>=0.2.1 in /usr/local/lib/python3.7/dist-packages (from google-auth<2,>=1.6.3->tensorboard~=2.4->tensorflow<2.5.0,>=2.0.0->alibi) (0.2.8)\n",
            "Requirement already satisfied: cachetools<5.0,>=2.0.0 in /usr/local/lib/python3.7/dist-packages (from google-auth<2,>=1.6.3->tensorboard~=2.4->tensorflow<2.5.0,>=2.0.0->alibi) (4.2.2)\n",
            "Requirement already satisfied: rsa<5,>=3.1.4; python_version >= \"3.6\" in /usr/local/lib/python3.7/dist-packages (from google-auth<2,>=1.6.3->tensorboard~=2.4->tensorflow<2.5.0,>=2.0.0->alibi) (4.7.2)\n",
            "Requirement already satisfied: zipp>=0.5 in /usr/local/lib/python3.7/dist-packages (from importlib-metadata>=0.20; python_version < \"3.8\"->catalogue<1.1.0,>=0.0.7->spacy[lookups]<4.0.0,>=2.0.0->alibi) (3.4.1)\n",
            "Requirement already satisfied: oauthlib>=3.0.0 in /usr/local/lib/python3.7/dist-packages (from requests-oauthlib>=0.7.0->google-auth-oauthlib<0.5,>=0.4.1->tensorboard~=2.4->tensorflow<2.5.0,>=2.0.0->alibi) (3.1.0)\n",
            "Requirement already satisfied: pyasn1<0.5.0,>=0.4.6 in /usr/local/lib/python3.7/dist-packages (from pyasn1-modules>=0.2.1->google-auth<2,>=1.6.3->tensorboard~=2.4->tensorflow<2.5.0,>=2.0.0->alibi) (0.4.8)\n",
            "Building wheels for collected packages: spacy-lookups-data\n",
            "  Building wheel for spacy-lookups-data (setup.py) ... \u001b[?25l\u001b[?25hdone\n",
            "  Created wheel for spacy-lookups-data: filename=spacy_lookups_data-0.1.0-py2.py3-none-any.whl size=28052145 sha256=3c326120e1d2210f7fc18390bb6e124c4e1362a6bf28cc1794c14accbef4989c\n",
            "  Stored in directory: /root/.cache/pip/wheels/2a/2b/0a/d6fb6235c56d014d224bca760d15d7cbdd820813085ffcd35d\n",
            "Successfully built spacy-lookups-data\n",
            "\u001b[31mERROR: datascience 0.10.6 has requirement folium==0.2.1, but you'll have folium 0.8.3 which is incompatible.\u001b[0m\n",
            "Installing collected packages: attrs, gast, tensorflow-estimator, grpcio, h5py, tensorflow, alibi, spacy-lookups-data\n",
            "  Found existing installation: attrs 21.2.0\n",
            "    Uninstalling attrs-21.2.0:\n",
            "      Successfully uninstalled attrs-21.2.0\n",
            "  Found existing installation: gast 0.4.0\n",
            "    Uninstalling gast-0.4.0:\n",
            "      Successfully uninstalled gast-0.4.0\n",
            "  Found existing installation: tensorflow-estimator 2.5.0\n",
            "    Uninstalling tensorflow-estimator-2.5.0:\n",
            "      Successfully uninstalled tensorflow-estimator-2.5.0\n",
            "  Found existing installation: grpcio 1.34.1\n",
            "    Uninstalling grpcio-1.34.1:\n",
            "      Successfully uninstalled grpcio-1.34.1\n",
            "  Found existing installation: h5py 3.1.0\n",
            "    Uninstalling h5py-3.1.0:\n",
            "      Successfully uninstalled h5py-3.1.0\n",
            "  Found existing installation: tensorflow 2.5.0\n",
            "    Uninstalling tensorflow-2.5.0:\n",
            "      Successfully uninstalled tensorflow-2.5.0\n",
            "Successfully installed alibi-0.5.8 attrs-20.3.0 gast-0.3.3 grpcio-1.32.0 h5py-2.10.0 spacy-lookups-data-0.1.0 tensorflow-2.4.1 tensorflow-estimator-2.4.0\n",
            "Collecting alibi-detect\n",
            "\u001b[?25l  Downloading https://files.pythonhosted.org/packages/41/0b/6b718aad31a0bc8da46a258a893f3e4d525fbfee64c094a5da79290ca8d1/alibi_detect-0.6.2-py3-none-any.whl (150kB)\n",
            "\u001b[K     |████████████████████████████████| 153kB 13.0MB/s \n",
            "\u001b[?25hRequirement already satisfied: matplotlib<4.0.0,>=3.0.0 in /usr/local/lib/python3.7/dist-packages (from alibi-detect) (3.2.2)\n",
            "Requirement already satisfied: scikit-image!=0.17.1,<0.19,>=0.14.2 in /usr/local/lib/python3.7/dist-packages (from alibi-detect) (0.16.2)\n",
            "Requirement already satisfied: numpy<2.0.0,>=1.16.2 in /usr/local/lib/python3.7/dist-packages (from alibi-detect) (1.19.5)\n",
            "Requirement already satisfied: scikit-learn<0.25.0,>=0.20.2 in /usr/local/lib/python3.7/dist-packages (from alibi-detect) (0.22.2.post1)\n",
            "Requirement already satisfied: Pillow<9.0.0,>=5.4.1 in /usr/local/lib/python3.7/dist-packages (from alibi-detect) (7.1.2)\n",
            "Requirement already satisfied: opencv-python<5.0.0,>=3.2.0 in /usr/local/lib/python3.7/dist-packages (from alibi-detect) (4.1.2.30)\n",
            "Collecting transformers<5.0.0,>=4.0.0\n",
            "\u001b[?25l  Downloading https://files.pythonhosted.org/packages/d5/43/cfe4ee779bbd6a678ac6a97c5a5cdeb03c35f9eaebbb9720b036680f9a2d/transformers-4.6.1-py3-none-any.whl (2.2MB)\n",
            "\u001b[K     |████████████████████████████████| 2.3MB 21.9MB/s \n",
            "\u001b[?25hRequirement already satisfied: scipy<2.0.0,>=1.3.0 in /usr/local/lib/python3.7/dist-packages (from alibi-detect) (1.4.1)\n",
            "Requirement already satisfied: pandas<2.0.0,>=0.23.3 in /usr/local/lib/python3.7/dist-packages (from alibi-detect) (1.1.5)\n",
            "Requirement already satisfied: tensorflow<2.5.0,>=2.0.0 in /usr/local/lib/python3.7/dist-packages (from alibi-detect) (2.4.1)\n",
            "Requirement already satisfied: tensorflow-probability<0.13.0,>=0.8.0 in /usr/local/lib/python3.7/dist-packages (from alibi-detect) (0.12.1)\n",
            "Requirement already satisfied: pyparsing!=2.0.4,!=2.1.2,!=2.1.6,>=2.0.1 in /usr/local/lib/python3.7/dist-packages (from matplotlib<4.0.0,>=3.0.0->alibi-detect) (2.4.7)\n",
            "Requirement already satisfied: kiwisolver>=1.0.1 in /usr/local/lib/python3.7/dist-packages (from matplotlib<4.0.0,>=3.0.0->alibi-detect) (1.3.1)\n",
            "Requirement already satisfied: cycler>=0.10 in /usr/local/lib/python3.7/dist-packages (from matplotlib<4.0.0,>=3.0.0->alibi-detect) (0.10.0)\n",
            "Requirement already satisfied: python-dateutil>=2.1 in /usr/local/lib/python3.7/dist-packages (from matplotlib<4.0.0,>=3.0.0->alibi-detect) (2.8.1)\n",
            "Requirement already satisfied: PyWavelets>=0.4.0 in /usr/local/lib/python3.7/dist-packages (from scikit-image!=0.17.1,<0.19,>=0.14.2->alibi-detect) (1.1.1)\n",
            "Requirement already satisfied: networkx>=2.0 in /usr/local/lib/python3.7/dist-packages (from scikit-image!=0.17.1,<0.19,>=0.14.2->alibi-detect) (2.5.1)\n",
            "Requirement already satisfied: imageio>=2.3.0 in /usr/local/lib/python3.7/dist-packages (from scikit-image!=0.17.1,<0.19,>=0.14.2->alibi-detect) (2.4.1)\n",
            "Requirement already satisfied: joblib>=0.11 in /usr/local/lib/python3.7/dist-packages (from scikit-learn<0.25.0,>=0.20.2->alibi-detect) (1.0.1)\n",
            "Requirement already satisfied: tqdm>=4.27 in /usr/local/lib/python3.7/dist-packages (from transformers<5.0.0,>=4.0.0->alibi-detect) (4.41.1)\n",
            "Requirement already satisfied: regex!=2019.12.17 in /usr/local/lib/python3.7/dist-packages (from transformers<5.0.0,>=4.0.0->alibi-detect) (2019.12.20)\n",
            "Requirement already satisfied: requests in /usr/local/lib/python3.7/dist-packages (from transformers<5.0.0,>=4.0.0->alibi-detect) (2.23.0)\n",
            "Requirement already satisfied: filelock in /usr/local/lib/python3.7/dist-packages (from transformers<5.0.0,>=4.0.0->alibi-detect) (3.0.12)\n",
            "Collecting sacremoses\n",
            "\u001b[?25l  Downloading https://files.pythonhosted.org/packages/75/ee/67241dc87f266093c533a2d4d3d69438e57d7a90abb216fa076e7d475d4a/sacremoses-0.0.45-py3-none-any.whl (895kB)\n",
            "\u001b[K     |████████████████████████████████| 901kB 31.6MB/s \n",
            "\u001b[?25hCollecting tokenizers<0.11,>=0.10.1\n",
            "\u001b[?25l  Downloading https://files.pythonhosted.org/packages/d4/e2/df3543e8ffdab68f5acc73f613de9c2b155ac47f162e725dcac87c521c11/tokenizers-0.10.3-cp37-cp37m-manylinux_2_5_x86_64.manylinux1_x86_64.manylinux_2_12_x86_64.manylinux2010_x86_64.whl (3.3MB)\n",
            "\u001b[K     |████████████████████████████████| 3.3MB 43.0MB/s \n",
            "\u001b[?25hRequirement already satisfied: packaging in /usr/local/lib/python3.7/dist-packages (from transformers<5.0.0,>=4.0.0->alibi-detect) (20.9)\n",
            "Collecting huggingface-hub==0.0.8\n",
            "  Downloading https://files.pythonhosted.org/packages/a1/88/7b1e45720ecf59c6c6737ff332f41c955963090a18e72acbcbeac6b25e86/huggingface_hub-0.0.8-py3-none-any.whl\n",
            "Requirement already satisfied: importlib-metadata; python_version < \"3.8\" in /usr/local/lib/python3.7/dist-packages (from transformers<5.0.0,>=4.0.0->alibi-detect) (4.0.1)\n",
            "Requirement already satisfied: pytz>=2017.2 in /usr/local/lib/python3.7/dist-packages (from pandas<2.0.0,>=0.23.3->alibi-detect) (2018.9)\n",
            "Requirement already satisfied: absl-py~=0.10 in /usr/local/lib/python3.7/dist-packages (from tensorflow<2.5.0,>=2.0.0->alibi-detect) (0.12.0)\n",
            "Requirement already satisfied: google-pasta~=0.2 in /usr/local/lib/python3.7/dist-packages (from tensorflow<2.5.0,>=2.0.0->alibi-detect) (0.2.0)\n",
            "Requirement already satisfied: six~=1.15.0 in /usr/local/lib/python3.7/dist-packages (from tensorflow<2.5.0,>=2.0.0->alibi-detect) (1.15.0)\n",
            "Requirement already satisfied: protobuf>=3.9.2 in /usr/local/lib/python3.7/dist-packages (from tensorflow<2.5.0,>=2.0.0->alibi-detect) (3.12.4)\n",
            "Requirement already satisfied: flatbuffers~=1.12.0 in /usr/local/lib/python3.7/dist-packages (from tensorflow<2.5.0,>=2.0.0->alibi-detect) (1.12)\n",
            "Requirement already satisfied: typing-extensions~=3.7.4 in /usr/local/lib/python3.7/dist-packages (from tensorflow<2.5.0,>=2.0.0->alibi-detect) (3.7.4.3)\n",
            "Requirement already satisfied: termcolor~=1.1.0 in /usr/local/lib/python3.7/dist-packages (from tensorflow<2.5.0,>=2.0.0->alibi-detect) (1.1.0)\n",
            "Requirement already satisfied: opt-einsum~=3.3.0 in /usr/local/lib/python3.7/dist-packages (from tensorflow<2.5.0,>=2.0.0->alibi-detect) (3.3.0)\n",
            "Requirement already satisfied: gast==0.3.3 in /usr/local/lib/python3.7/dist-packages (from tensorflow<2.5.0,>=2.0.0->alibi-detect) (0.3.3)\n",
            "Requirement already satisfied: wheel~=0.35 in /usr/local/lib/python3.7/dist-packages (from tensorflow<2.5.0,>=2.0.0->alibi-detect) (0.36.2)\n",
            "Requirement already satisfied: tensorboard~=2.4 in /usr/local/lib/python3.7/dist-packages (from tensorflow<2.5.0,>=2.0.0->alibi-detect) (2.5.0)\n",
            "Requirement already satisfied: keras-preprocessing~=1.1.2 in /usr/local/lib/python3.7/dist-packages (from tensorflow<2.5.0,>=2.0.0->alibi-detect) (1.1.2)\n",
            "Requirement already satisfied: grpcio~=1.32.0 in /usr/local/lib/python3.7/dist-packages (from tensorflow<2.5.0,>=2.0.0->alibi-detect) (1.32.0)\n",
            "Requirement already satisfied: wrapt~=1.12.1 in /usr/local/lib/python3.7/dist-packages (from tensorflow<2.5.0,>=2.0.0->alibi-detect) (1.12.1)\n",
            "Requirement already satisfied: tensorflow-estimator<2.5.0,>=2.4.0 in /usr/local/lib/python3.7/dist-packages (from tensorflow<2.5.0,>=2.0.0->alibi-detect) (2.4.0)\n",
            "Requirement already satisfied: astunparse~=1.6.3 in /usr/local/lib/python3.7/dist-packages (from tensorflow<2.5.0,>=2.0.0->alibi-detect) (1.6.3)\n",
            "Requirement already satisfied: h5py~=2.10.0 in /usr/local/lib/python3.7/dist-packages (from tensorflow<2.5.0,>=2.0.0->alibi-detect) (2.10.0)\n",
            "Requirement already satisfied: decorator in /usr/local/lib/python3.7/dist-packages (from tensorflow-probability<0.13.0,>=0.8.0->alibi-detect) (4.4.2)\n",
            "Requirement already satisfied: cloudpickle>=1.3 in /usr/local/lib/python3.7/dist-packages (from tensorflow-probability<0.13.0,>=0.8.0->alibi-detect) (1.3.0)\n",
            "Requirement already satisfied: dm-tree in /usr/local/lib/python3.7/dist-packages (from tensorflow-probability<0.13.0,>=0.8.0->alibi-detect) (0.1.6)\n",
            "Requirement already satisfied: certifi>=2017.4.17 in /usr/local/lib/python3.7/dist-packages (from requests->transformers<5.0.0,>=4.0.0->alibi-detect) (2020.12.5)\n",
            "Requirement already satisfied: idna<3,>=2.5 in /usr/local/lib/python3.7/dist-packages (from requests->transformers<5.0.0,>=4.0.0->alibi-detect) (2.10)\n",
            "Requirement already satisfied: urllib3!=1.25.0,!=1.25.1,<1.26,>=1.21.1 in /usr/local/lib/python3.7/dist-packages (from requests->transformers<5.0.0,>=4.0.0->alibi-detect) (1.24.3)\n",
            "Requirement already satisfied: chardet<4,>=3.0.2 in /usr/local/lib/python3.7/dist-packages (from requests->transformers<5.0.0,>=4.0.0->alibi-detect) (3.0.4)\n",
            "Requirement already satisfied: click in /usr/local/lib/python3.7/dist-packages (from sacremoses->transformers<5.0.0,>=4.0.0->alibi-detect) (7.1.2)\n",
            "Requirement already satisfied: zipp>=0.5 in /usr/local/lib/python3.7/dist-packages (from importlib-metadata; python_version < \"3.8\"->transformers<5.0.0,>=4.0.0->alibi-detect) (3.4.1)\n",
            "Requirement already satisfied: setuptools in /usr/local/lib/python3.7/dist-packages (from protobuf>=3.9.2->tensorflow<2.5.0,>=2.0.0->alibi-detect) (56.1.0)\n",
            "Requirement already satisfied: werkzeug>=0.11.15 in /usr/local/lib/python3.7/dist-packages (from tensorboard~=2.4->tensorflow<2.5.0,>=2.0.0->alibi-detect) (1.0.1)\n",
            "Requirement already satisfied: google-auth<2,>=1.6.3 in /usr/local/lib/python3.7/dist-packages (from tensorboard~=2.4->tensorflow<2.5.0,>=2.0.0->alibi-detect) (1.30.0)\n",
            "Requirement already satisfied: tensorboard-data-server<0.7.0,>=0.6.0 in /usr/local/lib/python3.7/dist-packages (from tensorboard~=2.4->tensorflow<2.5.0,>=2.0.0->alibi-detect) (0.6.1)\n",
            "Requirement already satisfied: google-auth-oauthlib<0.5,>=0.4.1 in /usr/local/lib/python3.7/dist-packages (from tensorboard~=2.4->tensorflow<2.5.0,>=2.0.0->alibi-detect) (0.4.4)\n",
            "Requirement already satisfied: tensorboard-plugin-wit>=1.6.0 in /usr/local/lib/python3.7/dist-packages (from tensorboard~=2.4->tensorflow<2.5.0,>=2.0.0->alibi-detect) (1.8.0)\n",
            "Requirement already satisfied: markdown>=2.6.8 in /usr/local/lib/python3.7/dist-packages (from tensorboard~=2.4->tensorflow<2.5.0,>=2.0.0->alibi-detect) (3.3.4)\n",
            "Requirement already satisfied: cachetools<5.0,>=2.0.0 in /usr/local/lib/python3.7/dist-packages (from google-auth<2,>=1.6.3->tensorboard~=2.4->tensorflow<2.5.0,>=2.0.0->alibi-detect) (4.2.2)\n",
            "Requirement already satisfied: pyasn1-modules>=0.2.1 in /usr/local/lib/python3.7/dist-packages (from google-auth<2,>=1.6.3->tensorboard~=2.4->tensorflow<2.5.0,>=2.0.0->alibi-detect) (0.2.8)\n",
            "Requirement already satisfied: rsa<5,>=3.1.4; python_version >= \"3.6\" in /usr/local/lib/python3.7/dist-packages (from google-auth<2,>=1.6.3->tensorboard~=2.4->tensorflow<2.5.0,>=2.0.0->alibi-detect) (4.7.2)\n",
            "Requirement already satisfied: requests-oauthlib>=0.7.0 in /usr/local/lib/python3.7/dist-packages (from google-auth-oauthlib<0.5,>=0.4.1->tensorboard~=2.4->tensorflow<2.5.0,>=2.0.0->alibi-detect) (1.3.0)\n",
            "Requirement already satisfied: pyasn1<0.5.0,>=0.4.6 in /usr/local/lib/python3.7/dist-packages (from pyasn1-modules>=0.2.1->google-auth<2,>=1.6.3->tensorboard~=2.4->tensorflow<2.5.0,>=2.0.0->alibi-detect) (0.4.8)\n",
            "Requirement already satisfied: oauthlib>=3.0.0 in /usr/local/lib/python3.7/dist-packages (from requests-oauthlib>=0.7.0->google-auth-oauthlib<0.5,>=0.4.1->tensorboard~=2.4->tensorflow<2.5.0,>=2.0.0->alibi-detect) (3.1.0)\n",
            "Installing collected packages: sacremoses, tokenizers, huggingface-hub, transformers, alibi-detect\n",
            "Successfully installed alibi-detect-0.6.2 huggingface-hub-0.0.8 sacremoses-0.0.45 tokenizers-0.10.3 transformers-4.6.1\n",
            "Collecting fsspec\n",
            "\u001b[?25l  Downloading https://files.pythonhosted.org/packages/bc/52/816d1a3a599176057bf29dfacb1f8fadb61d35fbd96cb1bab4aaa7df83c0/fsspec-2021.5.0-py3-none-any.whl (111kB)\n",
            "\u001b[K     |████████████████████████████████| 112kB 13.8MB/s \n",
            "\u001b[?25hInstalling collected packages: fsspec\n",
            "Successfully installed fsspec-2021.5.0\n",
            "Collecting gcsfs\n",
            "  Downloading https://files.pythonhosted.org/packages/65/72/630fa61d0588542931d4d8af1d3c27cc1a6386bf883437ea1d7a56ff6187/gcsfs-2021.5.0-py2.py3-none-any.whl\n",
            "Requirement already satisfied: google-auth>=1.2 in /usr/local/lib/python3.7/dist-packages (from gcsfs) (1.30.0)\n",
            "Requirement already satisfied: google-auth-oauthlib in /usr/local/lib/python3.7/dist-packages (from gcsfs) (0.4.4)\n",
            "Requirement already satisfied: decorator in /usr/local/lib/python3.7/dist-packages (from gcsfs) (4.4.2)\n",
            "Collecting aiohttp\n",
            "\u001b[?25l  Downloading https://files.pythonhosted.org/packages/88/c0/5890b4c8b04a79b7360e8fe4490feb0bb3ab179743f199f0e6220cebd568/aiohttp-3.7.4.post0-cp37-cp37m-manylinux2014_x86_64.whl (1.3MB)\n",
            "\u001b[K     |████████████████████████████████| 1.3MB 15.3MB/s \n",
            "\u001b[?25hRequirement already satisfied: requests in /usr/local/lib/python3.7/dist-packages (from gcsfs) (2.23.0)\n",
            "Requirement already satisfied: fsspec==2021.05.0 in /usr/local/lib/python3.7/dist-packages (from gcsfs) (2021.5.0)\n",
            "Requirement already satisfied: six>=1.9.0 in /usr/local/lib/python3.7/dist-packages (from google-auth>=1.2->gcsfs) (1.15.0)\n",
            "Requirement already satisfied: cachetools<5.0,>=2.0.0 in /usr/local/lib/python3.7/dist-packages (from google-auth>=1.2->gcsfs) (4.2.2)\n",
            "Requirement already satisfied: setuptools>=40.3.0 in /usr/local/lib/python3.7/dist-packages (from google-auth>=1.2->gcsfs) (56.1.0)\n",
            "Requirement already satisfied: rsa<5,>=3.1.4; python_version >= \"3.6\" in /usr/local/lib/python3.7/dist-packages (from google-auth>=1.2->gcsfs) (4.7.2)\n",
            "Requirement already satisfied: pyasn1-modules>=0.2.1 in /usr/local/lib/python3.7/dist-packages (from google-auth>=1.2->gcsfs) (0.2.8)\n",
            "Requirement already satisfied: requests-oauthlib>=0.7.0 in /usr/local/lib/python3.7/dist-packages (from google-auth-oauthlib->gcsfs) (1.3.0)\n",
            "Collecting yarl<2.0,>=1.0\n",
            "\u001b[?25l  Downloading https://files.pythonhosted.org/packages/f1/62/046834c5fc998c88ab2ef722f5d42122230a632212c8afa76418324f53ff/yarl-1.6.3-cp37-cp37m-manylinux2014_x86_64.whl (294kB)\n",
            "\u001b[K     |████████████████████████████████| 296kB 50.8MB/s \n",
            "\u001b[?25hCollecting async-timeout<4.0,>=3.0\n",
            "  Downloading https://files.pythonhosted.org/packages/e1/1e/5a4441be21b0726c4464f3f23c8b19628372f606755a9d2e46c187e65ec4/async_timeout-3.0.1-py3-none-any.whl\n",
            "Collecting multidict<7.0,>=4.5\n",
            "\u001b[?25l  Downloading https://files.pythonhosted.org/packages/7c/a6/4123b8165acbe773d1a8dc8e3f0d1edea16d29f7de018eda769abb56bd30/multidict-5.1.0-cp37-cp37m-manylinux2014_x86_64.whl (142kB)\n",
            "\u001b[K     |████████████████████████████████| 143kB 47.8MB/s \n",
            "\u001b[?25hRequirement already satisfied: typing-extensions>=3.6.5 in /usr/local/lib/python3.7/dist-packages (from aiohttp->gcsfs) (3.7.4.3)\n",
            "Requirement already satisfied: attrs>=17.3.0 in /usr/local/lib/python3.7/dist-packages (from aiohttp->gcsfs) (20.3.0)\n",
            "Requirement already satisfied: chardet<5.0,>=2.0 in /usr/local/lib/python3.7/dist-packages (from aiohttp->gcsfs) (3.0.4)\n",
            "Requirement already satisfied: idna<3,>=2.5 in /usr/local/lib/python3.7/dist-packages (from requests->gcsfs) (2.10)\n",
            "Requirement already satisfied: urllib3!=1.25.0,!=1.25.1,<1.26,>=1.21.1 in /usr/local/lib/python3.7/dist-packages (from requests->gcsfs) (1.24.3)\n",
            "Requirement already satisfied: certifi>=2017.4.17 in /usr/local/lib/python3.7/dist-packages (from requests->gcsfs) (2020.12.5)\n",
            "Requirement already satisfied: pyasn1>=0.1.3 in /usr/local/lib/python3.7/dist-packages (from rsa<5,>=3.1.4; python_version >= \"3.6\"->google-auth>=1.2->gcsfs) (0.4.8)\n",
            "Requirement already satisfied: oauthlib>=3.0.0 in /usr/local/lib/python3.7/dist-packages (from requests-oauthlib>=0.7.0->google-auth-oauthlib->gcsfs) (3.1.0)\n",
            "Installing collected packages: multidict, yarl, async-timeout, aiohttp, gcsfs\n",
            "Successfully installed aiohttp-3.7.4.post0 async-timeout-3.0.1 gcsfs-2021.5.0 multidict-5.1.0 yarl-1.6.3\n",
            "Requirement already satisfied: dill in /usr/local/lib/python3.7/dist-packages (0.3.3)\n"
          ],
          "name": "stdout"
        }
      ]
    },
    {
      "cell_type": "code",
      "metadata": {
        "id": "5WGfR_7vSW0m"
      },
      "source": [
        "from seldon_deploy_sdk import Configuration, ApiClient, SeldonDeploymentsApi, OutlierDetectorApi\n",
        "from seldon_deploy_sdk.auth import OIDCAuthenticator\n",
        "\n",
        "from sklearn.linear_model import LogisticRegression\n",
        "from sklearn.datasets import load_iris\n",
        "from sklearn.model_selection import train_test_split\n",
        "from sklearn.metrics import precision_score, recall_score, accuracy_score, f1_score, confusion_matrix\n",
        "\n",
        "import numpy as np\n",
        "import pandas as pd\n",
        "\n",
        "import xgboost as xgb\n",
        "\n",
        "from alibi.explainers import AnchorTabular\n",
        "\n",
        "from alibi_detect.od import Mahalanobis\n",
        "from alibi_detect.datasets import fetch_kdd\n",
        "from alibi_detect.utils.data import create_outlier_batch\n",
        "from alibi_detect.utils.mapping import ord2ohe\n",
        "from alibi_detect.utils.saving import save_detector, load_detector\n",
        "from alibi_detect.utils.visualize import plot_instance_score, plot_roc\n",
        "\n",
        "import dill\n",
        "import os\n",
        "import joblib\n",
        "\n",
        "import matplotlib.pyplot as plt\n",
        "import seaborn as sns"
      ],
      "execution_count": 4,
      "outputs": []
    },
    {
      "cell_type": "markdown",
      "metadata": {
        "id": "dMwu2Rk4SW0r"
      },
      "source": [
        "### Loading the data\n",
        "Once you have all of the relevant packages you can now explore the dataset. "
      ]
    },
    {
      "cell_type": "code",
      "metadata": {
        "id": "MgWkzF1dSW0t"
      },
      "source": [
        "dataset = load_iris()\n",
        "feature_names = dataset.feature_names\n",
        "class_names = list(dataset.target_names)\n",
        "\n",
        "X = dataset.data\n",
        "y = dataset.target"
      ],
      "execution_count": 5,
      "outputs": []
    },
    {
      "cell_type": "markdown",
      "metadata": {
        "id": "SRia7-RuSW0v"
      },
      "source": [
        "Creating a train/test split of the data to ensure you have an unseen subset of the dataset with which to validate your model's performance. "
      ]
    },
    {
      "cell_type": "code",
      "metadata": {
        "id": "4qIxSW-nSW0y"
      },
      "source": [
        "X_train, X_test, y_train, y_test = train_test_split(X, y, test_size=0.2, random_state=42)"
      ],
      "execution_count": 6,
      "outputs": []
    },
    {
      "cell_type": "code",
      "metadata": {
        "colab": {
          "base_uri": "https://localhost:8080/"
        },
        "id": "F2b5qbHkSW00",
        "outputId": "56d4a750-689e-4312-fbb8-35d792f67bfa"
      },
      "source": [
        "X_train[0]"
      ],
      "execution_count": 7,
      "outputs": [
        {
          "output_type": "execute_result",
          "data": {
            "text/plain": [
              "array([4.6, 3.6, 1. , 0.2])"
            ]
          },
          "metadata": {
            "tags": []
          },
          "execution_count": 7
        }
      ]
    },
    {
      "cell_type": "markdown",
      "metadata": {
        "id": "JBAzFRZySW02"
      },
      "source": [
        "Inspecting a single instance (row) of your data, you can see that it is made up of four different numerical features:\n",
        "1. Sepal length\n",
        "2. Sepal width\n",
        "3. Petal length\n",
        "4. Petal width"
      ]
    },
    {
      "cell_type": "code",
      "metadata": {
        "colab": {
          "base_uri": "https://localhost:8080/"
        },
        "id": "nW3GSuqcSW04",
        "outputId": "02d3b846-87a6-4324-fd02-19db47ca291e"
      },
      "source": [
        "np.unique(y_train)"
      ],
      "execution_count": 8,
      "outputs": [
        {
          "output_type": "execute_result",
          "data": {
            "text/plain": [
              "array([0, 1, 2])"
            ]
          },
          "metadata": {
            "tags": []
          },
          "execution_count": 8
        }
      ]
    },
    {
      "cell_type": "markdown",
      "metadata": {
        "id": "dHfasBPrSW05"
      },
      "source": [
        "Meanwhile, the labels (your y data) have three separate classes- each representing a different species of Iris:\n",
        "\n",
        "0. Iris setosa\n",
        "1. Iris virginica\n",
        "2. Iris versicolor\n",
        "\n",
        "I wouldn't worry about remembering those names..."
      ]
    },
    {
      "cell_type": "markdown",
      "metadata": {
        "id": "wtm3VdPUSW06"
      },
      "source": [
        "### Model training\n",
        "Next you will train two separate machine learning models on your dataset. This is representative of the iterative process of algorithm creation which Data Scientists go through during the experimentation process. \n",
        "\n",
        "The first model is a logistic regressor which we train using the `.fit()` method, and then evaluate using the `accuracy_score()` function. "
      ]
    },
    {
      "cell_type": "code",
      "metadata": {
        "colab": {
          "base_uri": "https://localhost:8080/"
        },
        "id": "WOiGalUqSW07",
        "outputId": "2c9c3de2-b47a-4bec-f093-eef05158f416"
      },
      "source": [
        "lr = LogisticRegression(max_iter=4000)\n",
        "lr.fit(X_train, y_train)\n",
        "\n",
        "print(precision_score(y_test, lr.predict(X_test), average=\"macro\"))\n",
        "print(recall_score(y_test, lr.predict(X_test), average=\"macro\"))\n",
        "print(accuracy_score(y_test, lr.predict(X_test)))"
      ],
      "execution_count": 9,
      "outputs": [
        {
          "output_type": "stream",
          "text": [
            "1.0\n",
            "1.0\n",
            "1.0\n"
          ],
          "name": "stdout"
        }
      ]
    },
    {
      "cell_type": "markdown",
      "metadata": {
        "id": "1MxWp8CGSW08"
      },
      "source": [
        "You'll notice that your model has perfect evaluation scores, this implies that the model is overfitted on the dataset. For the purposes of this workshop, you're not going to worry about this.\n",
        "\n",
        "----\n",
        "\n",
        "You can now train your second machine learning model- an XGBoost classifier. The first step is to convert the dataset into XGBoost's expected DMatrix data format. "
      ]
    },
    {
      "cell_type": "code",
      "metadata": {
        "id": "U2n7Rs61SW09"
      },
      "source": [
        "dtrain = xgb.DMatrix(X_train, label=y_train)\n",
        "dtest = xgb.DMatrix(X_test, label=y_test)"
      ],
      "execution_count": 10,
      "outputs": []
    },
    {
      "cell_type": "markdown",
      "metadata": {
        "id": "S6dCVcUJSW09"
      },
      "source": [
        "Next, you will set the hyperparameters associated with the XGBoost algorithim. This is essentially telling the model how large to be (`max_depth`), how quickly to learn (`eta`), information about the task (`objective`) and  the number of classes (`num_class`). \n",
        "\n",
        "Finally, you set the `num_round` which tells XGBoost how many iterations over the dataset to perform. "
      ]
    },
    {
      "cell_type": "code",
      "metadata": {
        "id": "zCxOKjK1SW0-"
      },
      "source": [
        "param = {\n",
        "    'max_depth': 3,\n",
        "    'eta': 0.3,\n",
        "    'objective': 'multi:softprob',\n",
        "    'num_class': 3} \n",
        "\n",
        "num_round = 20"
      ],
      "execution_count": 11,
      "outputs": []
    },
    {
      "cell_type": "markdown",
      "metadata": {
        "id": "EHPU7o8HSW0-"
      },
      "source": [
        "You can then train and score the classifier. "
      ]
    },
    {
      "cell_type": "code",
      "metadata": {
        "colab": {
          "base_uri": "https://localhost:8080/"
        },
        "id": "CPH0kxIiSW0-",
        "outputId": "eb992b87-8039-46a0-fe0b-fe1f8cd0fe66"
      },
      "source": [
        "bst = xgb.train(param, dtrain, num_round)\n",
        "preds = np.asarray([np.argmax(line) for line in bst.predict(dtest)])\n",
        "print(precision_score(y_test, preds, average=\"macro\"))\n",
        "print(recall_score(y_test, preds, average=\"macro\"))\n",
        "print(accuracy_score(y_test, preds))"
      ],
      "execution_count": 12,
      "outputs": [
        {
          "output_type": "stream",
          "text": [
            "1.0\n",
            "1.0\n",
            "1.0\n"
          ],
          "name": "stdout"
        }
      ]
    },
    {
      "cell_type": "markdown",
      "metadata": {
        "id": "Iml5FehYSW0_"
      },
      "source": [
        "Again, you can see that the model has overfit on the dataset. However, you will now save both of the models ready for them to be deployed. \n",
        "\n",
        "The Scikit-Learn pre-packaged server expects the saved model artefact to be called `model.joblib`. Meanwhile, the XGBoost pre-packaged server expects your model to be called `model.bst` when it is uploaded to our storage bucket."
      ]
    },
    {
      "cell_type": "code",
      "metadata": {
        "id": "QA5ExihMSW0_"
      },
      "source": [
        "# Saving the logistic regressor\n",
        "joblib.dump(lr, 'model.joblib')\n",
        "\n",
        "# Saving the XGBoost classifier\n",
        "bst.save_model('model.bst')"
      ],
      "execution_count": 13,
      "outputs": []
    },
    {
      "cell_type": "markdown",
      "metadata": {
        "id": "fJI4NA4cSW1A"
      },
      "source": [
        "### Push model artefacts to GCP\n",
        "\n",
        "You will now push the saved model binaries to a GCP bucket, where they can be picked up by Seldon and deployed onto Kubernetes. \n",
        "\n",
        "You will need to create a unique name for your model artefact. It's easiest to just use your own name. Be careful not to use any upper-case letters or other characters like \"_\". Dashes are fine, so for example: YOUR_NAME = \"john-smith\""
      ]
    },
    {
      "cell_type": "code",
      "metadata": {
        "id": "pY01jI5KHlwU"
      },
      "source": [
        "YOUR_NAME = \"john-smith\""
      ],
      "execution_count": 16,
      "outputs": []
    },
    {
      "cell_type": "code",
      "metadata": {
        "colab": {
          "base_uri": "https://localhost:8080/"
        },
        "id": "Y_V5lgCkSW1A",
        "outputId": "db93b51e-ed00-44f4-c605-650dd7ad82ca"
      },
      "source": [
        "!gsutil cp model.joblib gs://tom-seldon-examples/deploy-workshop/\"{YOUR_NAME}\"/lr/model.joblib\n",
        "!gsutil cp model.bst gs://tom-seldon-examples/deploy-workshop/\"{YOUR_NAME}\"/xgb/model.bst"
      ],
      "execution_count": 17,
      "outputs": [
        {
          "output_type": "stream",
          "text": [
            "Copying file://model.joblib [Content-Type=application/octet-stream]...\n",
            "/ [0 files][    0.0 B/   1000 B]                                                \r/ [1 files][   1000 B/   1000 B]                                                \r\n",
            "Operation completed over 1 objects/1000.0 B.                                     \n",
            "Copying file://model.bst [Content-Type=application/octet-stream]...\n",
            "/ [1 files][ 23.4 KiB/ 23.4 KiB]                                                \n",
            "Operation completed over 1 objects/23.4 KiB.                                     \n"
          ],
          "name": "stdout"
        }
      ]
    },
    {
      "cell_type": "markdown",
      "metadata": {
        "id": "qDRBvVzRSW1B"
      },
      "source": [
        "### Model Deployment\n",
        "\n",
        "Deploying the model to a Seldon Deploy trial instance using the `seldon-deploy-sdk`. \n",
        "\n",
        "First, setting up the configuration and authentication required to access the cluster. "
      ]
    },
    {
      "cell_type": "code",
      "metadata": {
        "id": "Lf1mxpQmSW1B"
      },
      "source": [
        "SD_IP = \"139.59.203.129\"\n",
        "\n",
        "config = Configuration()\n",
        "config.host = f\"http://{SD_IP}/seldon-deploy/api/v1alpha1\"\n",
        "config.oidc_client_id = \"sd-api\"\n",
        "config.oidc_server = f\"http://{SD_IP}/auth/realms/deploy-realm\"\n",
        "\n",
        "def auth():\n",
        "    auth = OIDCAuthenticator(config)\n",
        "    config.access_token = auth.authenticate(\"admin@seldon.io\", \"12341234\")\n",
        "    api_client = ApiClient(config)\n",
        "    return api_client"
      ],
      "execution_count": 18,
      "outputs": []
    },
    {
      "cell_type": "markdown",
      "metadata": {
        "id": "tM7MBe3FSW1C"
      },
      "source": [
        "Now we have configured the IP correctly as well as setup our authentication function we can describe the deployment we would like to create.\n",
        "\n",
        "You will need to fill in the DEPLOYMENT_NAME, NAMESPACE, and the MODEL_LOCATION, the rest of the deployment description has been templated for you.\n",
        "\n",
        "We fill first deploy the logistic regression model:"
      ]
    },
    {
      "cell_type": "code",
      "metadata": {
        "id": "iMC5dC7xSW1D"
      },
      "source": [
        "MODEL_NAME = \"lr\"\n",
        "\n",
        "DEPLOYMENT_NAME = f\"{YOUR_NAME}-{MODEL_NAME}\"\n",
        "MODEL_LOCATION = f\"gs://tom-seldon-examples/deploy-workshop/{YOUR_NAME}/{MODEL_NAME}\""
      ],
      "execution_count": 19,
      "outputs": []
    },
    {
      "cell_type": "code",
      "metadata": {
        "id": "oSib6ZcZSW1D"
      },
      "source": [
        "NAMESPACE = \"test\"\n",
        "PREPACKAGED_SERVER = \"SKLEARN_SERVER\"\n",
        "\n",
        "CPU_REQUESTS = \"1\"\n",
        "MEMORY_REQUESTS = \"1Gi\"\n",
        "\n",
        "CPU_LIMITS = \"1\"\n",
        "MEMORY_LIMITS = \"1Gi\"\n",
        "\n",
        "mldeployment = {\n",
        "    \"kind\": \"SeldonDeployment\",\n",
        "    \"metadata\": {\n",
        "        \"name\": DEPLOYMENT_NAME,\n",
        "        \"namespace\": NAMESPACE,\n",
        "        \"labels\": {\n",
        "            \"fluentd\": \"true\"\n",
        "        }\n",
        "    },\n",
        "    \"apiVersion\": \"machinelearning.seldon.io/v1alpha2\",\n",
        "    \"spec\": {\n",
        "        \"name\": DEPLOYMENT_NAME,\n",
        "        \"annotations\": {\n",
        "            \"seldon.io/engine-seldon-log-messages-externally\": \"true\"\n",
        "        },\n",
        "        \"protocol\": \"seldon\",\n",
        "        \"transport\": \"rest\",\n",
        "        \"predictors\": [\n",
        "            {\n",
        "                \"componentSpecs\": [\n",
        "                    {\n",
        "                        \"spec\": {\n",
        "                            \"containers\": [\n",
        "                                {\n",
        "                                    \"name\": f\"{DEPLOYMENT_NAME}-container\",\n",
        "                                    \"resources\": {\n",
        "                                        \"requests\": {\n",
        "                                            \"cpu\": CPU_REQUESTS,\n",
        "                                            \"memory\": MEMORY_REQUESTS\n",
        "                                        },\n",
        "                                        \"limits\": {\n",
        "                                            \"cpu\": CPU_LIMITS,\n",
        "                                            \"memory\": MEMORY_LIMITS\n",
        "                                        }\n",
        "                                    }\n",
        "                                }\n",
        "                            ]\n",
        "                        }\n",
        "                    }\n",
        "                ],\n",
        "                \"name\": \"default\",\n",
        "                \"replicas\": 1,\n",
        "                \"traffic\": 100,\n",
        "                \"graph\": {\n",
        "                    \"implementation\": PREPACKAGED_SERVER,\n",
        "                    \"modelUri\": MODEL_LOCATION,\n",
        "                    \"name\": f\"{DEPLOYMENT_NAME}-container\",\n",
        "                    \"endpoint\": {\n",
        "                        \"type\": \"REST\"\n",
        "                    },\n",
        "                    \"parameters\": [],\n",
        "                    \"children\": [],\n",
        "                    \"logger\": {\n",
        "                        \"mode\": \"all\"\n",
        "                    }\n",
        "                }\n",
        "            }\n",
        "        ]\n",
        "    },\n",
        "    \"status\": {}\n",
        "}"
      ],
      "execution_count": 20,
      "outputs": []
    },
    {
      "cell_type": "code",
      "metadata": {
        "scrolled": true,
        "colab": {
          "base_uri": "https://localhost:8080/"
        },
        "id": "U60-n9u1SW1E",
        "outputId": "202324fb-23e4-4565-d085-df3565bdb8d6"
      },
      "source": [
        "deployment_api = SeldonDeploymentsApi(auth())\n",
        "deployment_api.create_seldon_deployment(namespace=NAMESPACE, mldeployment=mldeployment)"
      ],
      "execution_count": 21,
      "outputs": [
        {
          "output_type": "execute_result",
          "data": {
            "text/plain": [
              "{'api_version': 'machinelearning.seldon.io/v1alpha2',\n",
              " 'kind': 'SeldonDeployment',\n",
              " 'metadata': {'annotations': None,\n",
              "              'cluster_name': None,\n",
              "              'creation_timestamp': None,\n",
              "              'deletion_grace_period_seconds': None,\n",
              "              'deletion_timestamp': None,\n",
              "              'finalizers': None,\n",
              "              'generate_name': None,\n",
              "              'generation': None,\n",
              "              'labels': {'fluentd': 'true'},\n",
              "              'managed_fields': None,\n",
              "              'name': 'sean-greaves-lr',\n",
              "              'namespace': 'test',\n",
              "              'owner_references': None,\n",
              "              'resource_version': None,\n",
              "              'self_link': None,\n",
              "              'uid': None},\n",
              " 'spec': {'annotations': {'seldon.io/engine-seldon-log-messages-externally': 'true'},\n",
              "          'name': 'sean-greaves-lr',\n",
              "          'oauth_key': None,\n",
              "          'oauth_secret': None,\n",
              "          'predictors': [{'annotations': None,\n",
              "                          'component_specs': [{'hpa_spec': None,\n",
              "                                               'keda_spec': None,\n",
              "                                               'metadata': {'annotations': None,\n",
              "                                                            'cluster_name': None,\n",
              "                                                            'creation_timestamp': '2021-06-01T18:40:04Z',\n",
              "                                                            'deletion_grace_period_seconds': None,\n",
              "                                                            'deletion_timestamp': None,\n",
              "                                                            'finalizers': None,\n",
              "                                                            'generate_name': None,\n",
              "                                                            'generation': None,\n",
              "                                                            'labels': None,\n",
              "                                                            'managed_fields': None,\n",
              "                                                            'name': None,\n",
              "                                                            'namespace': None,\n",
              "                                                            'owner_references': None,\n",
              "                                                            'resource_version': None,\n",
              "                                                            'self_link': None,\n",
              "                                                            'uid': None},\n",
              "                                               'pdb_spec': None,\n",
              "                                               'replicas': None,\n",
              "                                               'spec': {'active_deadline_seconds': None,\n",
              "                                                        'affinity': None,\n",
              "                                                        'automount_service_account_token': None,\n",
              "                                                        'containers': [{'args': None,\n",
              "                                                                        'command': None,\n",
              "                                                                        'env': None,\n",
              "                                                                        'env_from': None,\n",
              "                                                                        'image': None,\n",
              "                                                                        'image_pull_policy': None,\n",
              "                                                                        'lifecycle': None,\n",
              "                                                                        'liveness_probe': None,\n",
              "                                                                        'name': 'sean-greaves-lr-container',\n",
              "                                                                        'ports': None,\n",
              "                                                                        'readiness_probe': None,\n",
              "                                                                        'resources': {'limits': {'cpu': '1',\n",
              "                                                                                                 'memory': '1Gi'},\n",
              "                                                                                      'requests': {'cpu': '1',\n",
              "                                                                                                   'memory': '1Gi'}},\n",
              "                                                                        'security_context': None,\n",
              "                                                                        'startup_probe': None,\n",
              "                                                                        'stdin': None,\n",
              "                                                                        'stdin_once': None,\n",
              "                                                                        'termination_message_path': None,\n",
              "                                                                        'termination_message_policy': None,\n",
              "                                                                        'tty': None,\n",
              "                                                                        'volume_devices': None,\n",
              "                                                                        'volume_mounts': None,\n",
              "                                                                        'working_dir': None}],\n",
              "                                                        'dns_config': None,\n",
              "                                                        'dns_policy': None,\n",
              "                                                        'enable_service_links': None,\n",
              "                                                        'ephemeral_containers': None,\n",
              "                                                        'host_aliases': None,\n",
              "                                                        'host_ipc': None,\n",
              "                                                        'host_network': None,\n",
              "                                                        'host_pid': None,\n",
              "                                                        'hostname': None,\n",
              "                                                        'image_pull_secrets': None,\n",
              "                                                        'init_containers': None,\n",
              "                                                        'node_name': None,\n",
              "                                                        'node_selector': None,\n",
              "                                                        'overhead': None,\n",
              "                                                        'preemption_policy': None,\n",
              "                                                        'priority': None,\n",
              "                                                        'priority_class_name': None,\n",
              "                                                        'readiness_gates': None,\n",
              "                                                        'restart_policy': None,\n",
              "                                                        'runtime_class_name': None,\n",
              "                                                        'scheduler_name': None,\n",
              "                                                        'security_context': None,\n",
              "                                                        'service_account': None,\n",
              "                                                        'service_account_name': None,\n",
              "                                                        'set_hostname_as_fqdn': None,\n",
              "                                                        'share_process_namespace': None,\n",
              "                                                        'subdomain': None,\n",
              "                                                        'termination_grace_period_seconds': None,\n",
              "                                                        'tolerations': None,\n",
              "                                                        'topology_spread_constraints': None,\n",
              "                                                        'volumes': None}}],\n",
              "                          'engine_resources': {'limits': None,\n",
              "                                               'requests': None},\n",
              "                          'explainer': None,\n",
              "                          'graph': {'children': None,\n",
              "                                    'endpoint': {'service_host': None,\n",
              "                                                 'service_port': None,\n",
              "                                                 'type': 'REST'},\n",
              "                                    'env_secret_ref_name': None,\n",
              "                                    'implementation': 'SKLEARN_SERVER',\n",
              "                                    'logger': {'mode': 'all', 'url': None},\n",
              "                                    'methods': None,\n",
              "                                    'model_uri': 'gs://tom-seldon-examples/deploy-workshop/sean-greaves/lr',\n",
              "                                    'name': 'sean-greaves-lr-container',\n",
              "                                    'parameters': None,\n",
              "                                    'service_account_name': None,\n",
              "                                    'type': None},\n",
              "                          'labels': None,\n",
              "                          'name': 'default',\n",
              "                          'replicas': 1,\n",
              "                          'shadow': None,\n",
              "                          'ssl': None,\n",
              "                          'svc_orch_spec': {'env': None,\n",
              "                                            'replicas': None,\n",
              "                                            'resources': None},\n",
              "                          'traffic': 100}],\n",
              "          'protocol': 'seldon',\n",
              "          'replicas': None,\n",
              "          'server_type': None,\n",
              "          'transport': 'rest'},\n",
              " 'status': {'address': None,\n",
              "            'deployment_status': None,\n",
              "            'description': None,\n",
              "            'replicas': None,\n",
              "            'service_status': None,\n",
              "            'state': None}}"
            ]
          },
          "metadata": {
            "tags": []
          },
          "execution_count": 21
        }
      ]
    },
    {
      "cell_type": "markdown",
      "metadata": {
        "id": "KvF85kJmSW1F"
      },
      "source": [
        "Our model should now be running as a fully fledged microservice. You can now log into Seldon Deploy and test your deployment:\n",
        "\n",
        "* URL: http://139.59.203.129/seldon-deploy/\n",
        "* Username: admin@seldon.io\n",
        "* Password: 12341234\n",
        "\n",
        "You can now test your model with this request.\n",
        "```\n",
        "{\n",
        "    \"data\": {\n",
        "    \"names\": [\"Sepal length\",\"Sepal width\",\"Petal length\", \"Petal Width\"],\n",
        "    \"ndarray\": [\n",
        "        [6.8,  2.8,  4.8,  1.4]\n",
        "    ]\n",
        "    }\n",
        "}\n",
        "```\n",
        "\n",
        "Next, you will add a your XGBoost model as a canary and promote that to be the main predictor. "
      ]
    },
    {
      "cell_type": "code",
      "metadata": {
        "id": "VYONRtC_MDyz"
      },
      "source": [
        "MODEL_NAME = \"xgb\"\n",
        "\n",
        "DEPLOYMENT_NAME = f\"{YOUR_NAME}\"\n",
        "MODEL_LOCATION = f\"gs://tom-seldon-examples/deploy-workshop/{YOUR_NAME}/{MODEL_NAME}\"\n",
        "PREPACKAGED_SERVER = \"XGBOOST_SERVER\"\n",
        "canary_spec = \t\t\t{\n",
        "\t\t\t\t\"componentSpecs\": [\n",
        "\t\t\t\t\t{\n",
        "\t\t\t\t\t\t\"spec\": {\n",
        "\t\t\t\t\t\t\t\"containers\": [\n",
        "\t\t\t\t\t\t\t\t{\n",
        "\t\t\t\t\t\t\t\t\t\"name\": \"sean-greaves-lr-container\",\n",
        "\t\t\t\t\t\t\t\t}\n",
        "\t\t\t\t\t\t\t]\n",
        "\t\t\t\t\t\t},\n",
        "\t\t\t\t\t}\n",
        "\t\t\t\t],\n",
        "\t\t\t\t\"name\": \"canary\",\n",
        "\t\t\t\t\"replicas\": 1,\n",
        "\t\t\t\t\"traffic\": 10,\n",
        "\t\t\t\t\"shadow\": \"false\",\n",
        "\t\t\t\t\"annotations\": {\n",
        "\t\t\t\t\t\"seldon.io/canary\": \"true\"\n",
        "\t\t\t\t},\n",
        "\t\t\t\t\"graph\": {\n",
        "\t\t\t\t\t\"implementation\": PREPACKAGED_SERVER,\n",
        "\t\t\t\t\t\"modelUri\": MODEL_LOCATION,\n",
        "\t\t\t\t\t\"name\": \"sean-greaves-lr-container\",\n",
        "\t\t\t\t\t\"parameters\": [],\n",
        "\t\t\t\t\t\"children\": [],\n",
        "\t\t\t\t\t\"logger\": {\n",
        "\t\t\t\t\t\t\"mode\": \"all\"\n",
        "\t\t\t\t\t}\n",
        "\t\t\t\t}\n",
        "\t\t\t}"
      ],
      "execution_count": 62,
      "outputs": []
    },
    {
      "cell_type": "code",
      "metadata": {
        "colab": {
          "base_uri": "https://localhost:8080/",
          "height": 167
        },
        "id": "Gxvi55k3dLJO",
        "outputId": "1298ff9d-bf6e-4e95-9acf-a7baa1d32d60"
      },
      "source": [
        "# insert yaml \n",
        "mldeployment['spec']['predictors'] = canary_spec"
      ],
      "execution_count": 63,
      "outputs": [
        {
          "output_type": "error",
          "ename": "IndexError",
          "evalue": "ignored",
          "traceback": [
            "\u001b[0;31m---------------------------------------------------------------------------\u001b[0m",
            "\u001b[0;31mIndexError\u001b[0m                                Traceback (most recent call last)",
            "\u001b[0;32m<ipython-input-63-817cc1961484>\u001b[0m in \u001b[0;36m<module>\u001b[0;34m()\u001b[0m\n\u001b[0;32m----> 1\u001b[0;31m \u001b[0mmldeployment\u001b[0m\u001b[0;34m[\u001b[0m\u001b[0;34m'spec'\u001b[0m\u001b[0;34m]\u001b[0m\u001b[0;34m[\u001b[0m\u001b[0;34m'predictors'\u001b[0m\u001b[0;34m]\u001b[0m\u001b[0;34m[\u001b[0m\u001b[0;36m1\u001b[0m\u001b[0;34m]\u001b[0m \u001b[0;34m=\u001b[0m \u001b[0mcanary_spec\u001b[0m\u001b[0;34m\u001b[0m\u001b[0;34m\u001b[0m\u001b[0m\n\u001b[0m",
            "\u001b[0;31mIndexError\u001b[0m: list assignment index out of range"
          ]
        }
      ]
    },
    {
      "cell_type": "markdown",
      "metadata": {
        "id": "ExvflvoPSW1F"
      },
      "source": [
        "# Adding a Model Explainer\n",
        "\n",
        "Next, we shall train an explainer to glean deeper insights into the decisions being made by our model. We will make use of the [Anchors algorithm](https://docs.seldon.io/projects/alibi/en/stable/methods/Anchors.html), which has a production grade implementation available using the Seldon Alibi Explain library.\n",
        "\n",
        "The algorithm provides model-agnostic (black box) and human interpretable explanations suitable for classification models applied to images, text and tabular data. The idea behind anchors is to explain the behaviour of complex models with high-precision rules called anchors. These anchors are locally sufficient conditions to ensure a certain prediction with a high degree of confidence. Anchor algorithms incorporate coverage, which is the region the explanation applies within and are optimised to maximize coverage.\n",
        "\n",
        "As an example of anchors for tabular data, if we want to predict whether a person makes less or more than £50,000 per year based on the person’s characteristics including age (continuous variable) and marital status (categorical variable), then the following would be a potential anchor: Hugo makes more than £50,000 because he is married and his age is between 35 and 45 years.\n",
        "\n",
        "The first step will be to write a simple prediction function which the explainer can call in order to query our logistic regression model."
      ]
    },
    {
      "cell_type": "code",
      "metadata": {
        "id": "oycUUgaiSW1G"
      },
      "source": [
        "predict_fn = lambda x: lr.predict(x)"
      ],
      "execution_count": 22,
      "outputs": []
    },
    {
      "cell_type": "markdown",
      "metadata": {
        "id": "DZcKCtnwSW1G"
      },
      "source": [
        "Now, define and fit the AnchorTabular explainer. "
      ]
    },
    {
      "cell_type": "code",
      "metadata": {
        "id": "Zp81TwebSW1G",
        "colab": {
          "base_uri": "https://localhost:8080/"
        },
        "outputId": "cc79ef19-8e23-46f6-954f-869bdb2fcdde"
      },
      "source": [
        "explainer = AnchorTabular(predict_fn, feature_names)\n",
        "explainer.fit(X_train, disc_perc=(25, 50, 75))"
      ],
      "execution_count": 23,
      "outputs": [
        {
          "output_type": "execute_result",
          "data": {
            "text/plain": [
              "AnchorTabular(meta={\n",
              "  'name': 'AnchorTabular',\n",
              "  'type': ['blackbox'],\n",
              "  'explanations': ['local'],\n",
              "  'params': {'disc_perc': (25, 50, 75), 'seed': None}}\n",
              ")"
            ]
          },
          "metadata": {
            "tags": []
          },
          "execution_count": 23
        }
      ]
    },
    {
      "cell_type": "markdown",
      "metadata": {
        "id": "3FrHaIVCSW1H"
      },
      "source": [
        "Predicting the first instance within the test set, and consequently generating an explanation for that prediction."
      ]
    },
    {
      "cell_type": "code",
      "metadata": {
        "id": "fscujWkSSW1H",
        "colab": {
          "base_uri": "https://localhost:8080/"
        },
        "outputId": "f0ccb312-721f-449d-d8d9-c4e55a59a488"
      },
      "source": [
        "idx = 0\n",
        "print('Prediction: ', class_names[explainer.predictor(X_test[idx].reshape(1, -1))[0]])\n",
        "\n",
        "explanation = explainer.explain(X_test[idx], threshold=0.95)\n",
        "print('Anchor: %s' % (' AND '.join(explanation.anchor)))\n",
        "print('Precision: %.2f' % explanation.precision)\n",
        "print('Coverage: %.2f' % explanation.coverage)"
      ],
      "execution_count": 24,
      "outputs": [
        {
          "output_type": "stream",
          "text": [
            "Prediction:  versicolor\n",
            "Anchor: petal width (cm) <= 1.30 AND sepal width (cm) <= 2.80 AND petal length (cm) <= 5.10\n",
            "Precision: 0.96\n",
            "Coverage: 0.15\n"
          ],
          "name": "stdout"
        }
      ]
    },
    {
      "cell_type": "code",
      "metadata": {
        "id": "ztnYkhmLSW1H",
        "colab": {
          "base_uri": "https://localhost:8080/"
        },
        "outputId": "9ce86c0e-71d4-4c52-a70c-9b6e78e9c4e2"
      },
      "source": [
        "X_test[0]"
      ],
      "execution_count": 25,
      "outputs": [
        {
          "output_type": "execute_result",
          "data": {
            "text/plain": [
              "array([6.1, 2.8, 4.7, 1.2])"
            ]
          },
          "metadata": {
            "tags": []
          },
          "execution_count": 25
        }
      ]
    },
    {
      "cell_type": "markdown",
      "metadata": {
        "id": "laqX0JxrSW1I"
      },
      "source": [
        "Save the explainer. Your explainer must be saved as `explainer.dill` as once again Seldon Deploy will look for this artefact within a top level directory. \n",
        "\n",
        "NOTE: Dill is used to serialise the object instead of pickle as it offers a greater flexibilty in the object types which can be serialised. "
      ]
    },
    {
      "cell_type": "code",
      "metadata": {
        "id": "HDDra_eISW1I"
      },
      "source": [
        "dill.dump(explainer, open( \"explainer.dill\", \"wb\"))"
      ],
      "execution_count": 26,
      "outputs": []
    },
    {
      "cell_type": "markdown",
      "metadata": {
        "id": "TUkaupCOSW1I"
      },
      "source": [
        "Uploading the explainer to a Google Storage bucket. "
      ]
    },
    {
      "cell_type": "code",
      "metadata": {
        "id": "1LAeqUV5SW1J",
        "colab": {
          "base_uri": "https://localhost:8080/"
        },
        "outputId": "da539114-7061-471e-f540-89e11ec2616e"
      },
      "source": [
        "!gsutil cp explainer.dill gs://tom-seldon-examples/deploy-workshop/{YOUR_NAME}/lr/explainer.dill"
      ],
      "execution_count": 27,
      "outputs": [
        {
          "output_type": "stream",
          "text": [
            "Copying file://explainer.dill [Content-Type=application/octet-stream]...\n",
            "- [1 files][103.4 MiB/103.4 MiB]                                                \n",
            "Operation completed over 1 objects/103.4 MiB.                                    \n"
          ],
          "name": "stdout"
        }
      ]
    },
    {
      "cell_type": "markdown",
      "metadata": {
        "id": "_UJCBp41SW1J"
      },
      "source": [
        "Defining your explainer configuration."
      ]
    },
    {
      "cell_type": "code",
      "metadata": {
        "id": "O9Mm-zCRSW1J"
      },
      "source": [
        "EXPLAINER_TYPE = \"AnchorTabular\"\n",
        "EXPLAINER_URI = f\"gs://tom-seldon-examples/deploy-workshop/{YOUR_NAME}/lr\"\n",
        "\n",
        "explainer_spec = {\n",
        "                    \"type\": EXPLAINER_TYPE,\n",
        "                    \"modelUri\": EXPLAINER_URI,\n",
        "                    \"containerSpec\": {\n",
        "                        \"name\": \"\",\n",
        "                        \"resources\": {}\n",
        "                    }\n",
        "                }"
      ],
      "execution_count": 28,
      "outputs": []
    },
    {
      "cell_type": "markdown",
      "metadata": {
        "id": "lo14ob_mSW1J"
      },
      "source": [
        "Inserting your explainer configuration into the original `mldeployment`"
      ]
    },
    {
      "cell_type": "code",
      "metadata": {
        "id": "bQQC-xFQSW1K",
        "colab": {
          "base_uri": "https://localhost:8080/"
        },
        "collapsed": true,
        "outputId": "a1081ade-75a0-489a-dbe4-1a6b6d72f356"
      },
      "source": [
        "mldeployment['spec']['predictors'][0]['explainer'] = explainer_spec\n",
        "mldeployment"
      ],
      "execution_count": 29,
      "outputs": [
        {
          "output_type": "execute_result",
          "data": {
            "text/plain": [
              "{'apiVersion': 'machinelearning.seldon.io/v1alpha2',\n",
              " 'kind': 'SeldonDeployment',\n",
              " 'metadata': {'labels': {'fluentd': 'true'},\n",
              "  'name': 'sean-greaves-lr',\n",
              "  'namespace': 'test'},\n",
              " 'spec': {'annotations': {'seldon.io/engine-seldon-log-messages-externally': 'true'},\n",
              "  'name': 'sean-greaves-lr',\n",
              "  'predictors': [{'componentSpecs': [{'spec': {'containers': [{'name': 'sean-greaves-lr-container',\n",
              "         'resources': {'limits': {'cpu': '1', 'memory': '1Gi'},\n",
              "          'requests': {'cpu': '1', 'memory': '1Gi'}}}]}}],\n",
              "    'explainer': {'containerSpec': {'name': '', 'resources': {}},\n",
              "     'modelUri': 'gs://tom-seldon-examples/deploy-workshop/sean-greaves/lr',\n",
              "     'type': 'AnchorTabular'},\n",
              "    'graph': {'children': [],\n",
              "     'endpoint': {'type': 'REST'},\n",
              "     'implementation': 'SKLEARN_SERVER',\n",
              "     'logger': {'mode': 'all'},\n",
              "     'modelUri': 'gs://tom-seldon-examples/deploy-workshop/sean-greaves/lr',\n",
              "     'name': 'sean-greaves-lr-container',\n",
              "     'parameters': []},\n",
              "    'name': 'default',\n",
              "    'replicas': 1,\n",
              "    'traffic': 100}],\n",
              "  'protocol': 'seldon',\n",
              "  'transport': 'rest'},\n",
              " 'status': {}}"
            ]
          },
          "metadata": {
            "tags": []
          },
          "execution_count": 29
        }
      ]
    },
    {
      "cell_type": "markdown",
      "metadata": {
        "id": "XKgtLMr3SW1K"
      },
      "source": [
        "Finally, creating our new deployment with the explainer added. "
      ]
    },
    {
      "cell_type": "code",
      "metadata": {
        "id": "jISzlnLsSW1K",
        "colab": {
          "base_uri": "https://localhost:8080/"
        },
        "outputId": "2ea80f08-d362-4597-d7cb-a08dfe69cd7f"
      },
      "source": [
        "deployment_api = SeldonDeploymentsApi(auth())\n",
        "deployment_api.create_seldon_deployment(namespace=NAMESPACE, mldeployment=mldeployment)"
      ],
      "execution_count": 30,
      "outputs": [
        {
          "output_type": "execute_result",
          "data": {
            "text/plain": [
              "{'api_version': 'machinelearning.seldon.io/v1alpha2',\n",
              " 'kind': 'SeldonDeployment',\n",
              " 'metadata': {'annotations': None,\n",
              "              'cluster_name': None,\n",
              "              'creation_timestamp': None,\n",
              "              'deletion_grace_period_seconds': None,\n",
              "              'deletion_timestamp': None,\n",
              "              'finalizers': None,\n",
              "              'generate_name': None,\n",
              "              'generation': None,\n",
              "              'labels': {'fluentd': 'true'},\n",
              "              'managed_fields': None,\n",
              "              'name': 'sean-greaves-lr',\n",
              "              'namespace': 'test',\n",
              "              'owner_references': None,\n",
              "              'resource_version': None,\n",
              "              'self_link': None,\n",
              "              'uid': None},\n",
              " 'spec': {'annotations': {'seldon.io/engine-seldon-log-messages-externally': 'true'},\n",
              "          'name': 'sean-greaves-lr',\n",
              "          'oauth_key': None,\n",
              "          'oauth_secret': None,\n",
              "          'predictors': [{'annotations': None,\n",
              "                          'component_specs': [{'hpa_spec': None,\n",
              "                                               'keda_spec': None,\n",
              "                                               'metadata': {'annotations': None,\n",
              "                                                            'cluster_name': None,\n",
              "                                                            'creation_timestamp': '2021-06-01T18:41:29Z',\n",
              "                                                            'deletion_grace_period_seconds': None,\n",
              "                                                            'deletion_timestamp': None,\n",
              "                                                            'finalizers': None,\n",
              "                                                            'generate_name': None,\n",
              "                                                            'generation': None,\n",
              "                                                            'labels': None,\n",
              "                                                            'managed_fields': None,\n",
              "                                                            'name': None,\n",
              "                                                            'namespace': None,\n",
              "                                                            'owner_references': None,\n",
              "                                                            'resource_version': None,\n",
              "                                                            'self_link': None,\n",
              "                                                            'uid': None},\n",
              "                                               'pdb_spec': None,\n",
              "                                               'replicas': None,\n",
              "                                               'spec': {'active_deadline_seconds': None,\n",
              "                                                        'affinity': None,\n",
              "                                                        'automount_service_account_token': None,\n",
              "                                                        'containers': [{'args': None,\n",
              "                                                                        'command': None,\n",
              "                                                                        'env': None,\n",
              "                                                                        'env_from': None,\n",
              "                                                                        'image': None,\n",
              "                                                                        'image_pull_policy': None,\n",
              "                                                                        'lifecycle': None,\n",
              "                                                                        'liveness_probe': None,\n",
              "                                                                        'name': 'sean-greaves-lr-container',\n",
              "                                                                        'ports': None,\n",
              "                                                                        'readiness_probe': None,\n",
              "                                                                        'resources': {'limits': {'cpu': '1',\n",
              "                                                                                                 'memory': '1Gi'},\n",
              "                                                                                      'requests': {'cpu': '1',\n",
              "                                                                                                   'memory': '1Gi'}},\n",
              "                                                                        'security_context': None,\n",
              "                                                                        'startup_probe': None,\n",
              "                                                                        'stdin': None,\n",
              "                                                                        'stdin_once': None,\n",
              "                                                                        'termination_message_path': None,\n",
              "                                                                        'termination_message_policy': None,\n",
              "                                                                        'tty': None,\n",
              "                                                                        'volume_devices': None,\n",
              "                                                                        'volume_mounts': None,\n",
              "                                                                        'working_dir': None}],\n",
              "                                                        'dns_config': None,\n",
              "                                                        'dns_policy': None,\n",
              "                                                        'enable_service_links': None,\n",
              "                                                        'ephemeral_containers': None,\n",
              "                                                        'host_aliases': None,\n",
              "                                                        'host_ipc': None,\n",
              "                                                        'host_network': None,\n",
              "                                                        'host_pid': None,\n",
              "                                                        'hostname': None,\n",
              "                                                        'image_pull_secrets': None,\n",
              "                                                        'init_containers': None,\n",
              "                                                        'node_name': None,\n",
              "                                                        'node_selector': None,\n",
              "                                                        'overhead': None,\n",
              "                                                        'preemption_policy': None,\n",
              "                                                        'priority': None,\n",
              "                                                        'priority_class_name': None,\n",
              "                                                        'readiness_gates': None,\n",
              "                                                        'restart_policy': None,\n",
              "                                                        'runtime_class_name': None,\n",
              "                                                        'scheduler_name': None,\n",
              "                                                        'security_context': None,\n",
              "                                                        'service_account': None,\n",
              "                                                        'service_account_name': None,\n",
              "                                                        'set_hostname_as_fqdn': None,\n",
              "                                                        'share_process_namespace': None,\n",
              "                                                        'subdomain': None,\n",
              "                                                        'termination_grace_period_seconds': None,\n",
              "                                                        'tolerations': None,\n",
              "                                                        'topology_spread_constraints': None,\n",
              "                                                        'volumes': None}}],\n",
              "                          'engine_resources': {'limits': None,\n",
              "                                               'requests': None},\n",
              "                          'explainer': {'config': None,\n",
              "                                        'container_spec': {'args': None,\n",
              "                                                           'command': None,\n",
              "                                                           'env': None,\n",
              "                                                           'env_from': None,\n",
              "                                                           'image': None,\n",
              "                                                           'image_pull_policy': None,\n",
              "                                                           'lifecycle': None,\n",
              "                                                           'liveness_probe': None,\n",
              "                                                           'name': '',\n",
              "                                                           'ports': None,\n",
              "                                                           'readiness_probe': None,\n",
              "                                                           'resources': {'limits': None,\n",
              "                                                                         'requests': None},\n",
              "                                                           'security_context': None,\n",
              "                                                           'startup_probe': None,\n",
              "                                                           'stdin': None,\n",
              "                                                           'stdin_once': None,\n",
              "                                                           'termination_message_path': None,\n",
              "                                                           'termination_message_policy': None,\n",
              "                                                           'tty': None,\n",
              "                                                           'volume_devices': None,\n",
              "                                                           'volume_mounts': None,\n",
              "                                                           'working_dir': None},\n",
              "                                        'endpoint': None,\n",
              "                                        'env_secret_ref_name': None,\n",
              "                                        'model_uri': 'gs://tom-seldon-examples/deploy-workshop/sean-greaves/lr',\n",
              "                                        'service_account_name': None,\n",
              "                                        'type': 'AnchorTabular'},\n",
              "                          'graph': {'children': None,\n",
              "                                    'endpoint': {'service_host': None,\n",
              "                                                 'service_port': None,\n",
              "                                                 'type': 'REST'},\n",
              "                                    'env_secret_ref_name': None,\n",
              "                                    'implementation': 'SKLEARN_SERVER',\n",
              "                                    'logger': {'mode': 'all', 'url': None},\n",
              "                                    'methods': None,\n",
              "                                    'model_uri': 'gs://tom-seldon-examples/deploy-workshop/sean-greaves/lr',\n",
              "                                    'name': 'sean-greaves-lr-container',\n",
              "                                    'parameters': None,\n",
              "                                    'service_account_name': None,\n",
              "                                    'type': None},\n",
              "                          'labels': None,\n",
              "                          'name': 'default',\n",
              "                          'replicas': 1,\n",
              "                          'shadow': None,\n",
              "                          'ssl': None,\n",
              "                          'svc_orch_spec': {'env': None,\n",
              "                                            'replicas': None,\n",
              "                                            'resources': None},\n",
              "                          'traffic': 100}],\n",
              "          'protocol': 'seldon',\n",
              "          'replicas': None,\n",
              "          'server_type': None,\n",
              "          'transport': 'rest'},\n",
              " 'status': {'address': None,\n",
              "            'deployment_status': None,\n",
              "            'description': None,\n",
              "            'replicas': None,\n",
              "            'service_status': None,\n",
              "            'state': None}}"
            ]
          },
          "metadata": {
            "tags": []
          },
          "execution_count": 30
        }
      ]
    },
    {
      "cell_type": "markdown",
      "metadata": {
        "id": "Q2ASDo87SW1L"
      },
      "source": [
        "# Outlier Detection"
      ]
    },
    {
      "cell_type": "markdown",
      "metadata": {
        "id": "Mz8abHEmSW1L"
      },
      "source": [
        "In this example you will make use of a Mahalanbois outlier detector. This algorithm calculates an outlier score, which is a measure of distance from the center of the features distribution (Mahalanobis distance). The Mahalanobis distance is focused on the idea of measuring how many standard deviations away your data point is from the mean of the distribution. \n",
        "\n",
        "The Mahalanobis outlier detector is an online detector, meaning that it has a running mean and covariance matrix with which it compares the new data points with to classify as outliers or not. It is online in the sense that each new data point contributes to this running mean and covariance matrix.\n",
        "\n",
        "The first step is to initialise your outlier detector. There are 4 parameters which will be critical to the performance of your outlier detector: \n",
        "* `threshold`: The distance threshold above which your data instance is flagged as an outlier. To begin with you can leave this blank and infer a given threshold later when fitting your detector to the dataset. \n",
        "* `n_components`: The number of components to use within the PCA. PCA is used to reduce the number of feature dimensions. This will make it easier to compute the Mahalanbois calculation especially on high feature datasets. \n",
        "* `std_clip`: Feature-wise standard deviation used to clip the observations before updating the mean and covariance matrix. \n",
        "* `start_clip`: Number of observations before clipping is applied.\n",
        "\n",
        "If your data has categorical features then these can be specified using the `cat_vars` parameter. "
      ]
    },
    {
      "cell_type": "markdown",
      "metadata": {
        "id": "LIhpaPnHSW1L"
      },
      "source": [
        "Firstly, you will set the `n_components` value. The simplest way to set this value is using `n_components == min(n_samples, n_features)` and then scaling down if computational performance slows the computation of outliers.\n",
        "\n",
        "A more rigourous approach is demonstrated below. This essentially calculates the covariance matrix- how each feature varies with every other feature. This determines the eigenvalues and eigenvectors of the covariance matrix. \n",
        "\n",
        "The eigenvalues capture the variance of each component in the direction of the eigenvector. Therefore, you can use this to understand the contribution of each feature to the overall variance. From here you can make a determination of how many components to include in your PCA, as you now understand the contribution of each of the features. "
      ]
    },
    {
      "cell_type": "code",
      "metadata": {
        "id": "fx2qyaINSW1M",
        "colab": {
          "base_uri": "https://localhost:8080/"
        },
        "outputId": "1b79816b-1c1a-4a82-96b7-a7d28ca840dd"
      },
      "source": [
        "mean, stdev = X_train.mean(axis=0), X_train.std(axis=0)\n",
        "cov_mat = np.cov((X_train - mean).T)\n",
        "cov_mat"
      ],
      "execution_count": 31,
      "outputs": [
        {
          "output_type": "execute_result",
          "data": {
            "text/plain": [
              "array([[ 0.67865476, -0.03956162,  1.24462745,  0.49670868],\n",
              "       [-0.03956162,  0.20171148, -0.34006162, -0.12484594],\n",
              "       [ 1.24462745, -0.34006162,  3.07071148,  1.26893557],\n",
              "       [ 0.49670868, -0.12484594,  1.26893557,  0.56593838]])"
            ]
          },
          "metadata": {
            "tags": []
          },
          "execution_count": 31
        }
      ]
    },
    {
      "cell_type": "code",
      "metadata": {
        "id": "h7zJKD58SW1O",
        "colab": {
          "base_uri": "https://localhost:8080/"
        },
        "outputId": "125cc67a-71bd-466a-8185-c51c152d9523"
      },
      "source": [
        "eig_vals, eig_vecs = np.linalg.eig(cov_mat)\n",
        "print(f'Eigenvectors \\n {eig_vecs}')\n",
        "print(f'Eigenvectors \\n {eig_vals}')"
      ],
      "execution_count": 32,
      "outputs": [
        {
          "output_type": "stream",
          "text": [
            "Eigenvectors \n",
            " [[ 0.35922175 -0.66072216 -0.5781132   0.31652976]\n",
            " [-0.08867716 -0.72708635  0.60569412 -0.31083185]\n",
            " [ 0.85800365  0.16688652  0.08006791 -0.4791323 ]\n",
            " [ 0.35626652  0.08331002  0.54084091  0.75738016]]\n",
            "Eigenvectors \n",
            " [4.15384465 0.25811933 0.08303984 0.02201228]\n"
          ],
          "name": "stdout"
        }
      ]
    },
    {
      "cell_type": "code",
      "metadata": {
        "id": "Rivk1Y4ESW1P",
        "colab": {
          "base_uri": "https://localhost:8080/"
        },
        "outputId": "ba8dfb42-6005-41da-9621-841668537b77"
      },
      "source": [
        "total = sum(eig_vals)\n",
        "var_exp = [(i / total)*100 for i in sorted(eig_vals, reverse=True)]\n",
        "cum_var_exp = np.cumsum(var_exp)\n",
        "\n",
        "print(\"Variance captured by each component:\")\n",
        "print(var_exp)\n",
        "print(80 * \"-\")\n",
        "print(\"Cumulative variance captured as we travel each component:\")\n",
        "print(cum_var_exp)"
      ],
      "execution_count": 33,
      "outputs": [
        {
          "output_type": "stream",
          "text": [
            "Variance captured by each component:\n",
            "[91.95992565966301, 5.714377120220816, 1.8383782587915891, 0.48731896132459807]\n",
            "--------------------------------------------------------------------------------\n",
            "Cumulative variance captured as we travel each component:\n",
            "[ 91.95992566  97.67430278  99.51268104 100.        ]\n"
          ],
          "name": "stdout"
        }
      ]
    },
    {
      "cell_type": "markdown",
      "metadata": {
        "id": "uE7nd26_SW1S"
      },
      "source": [
        "From the above you can see that 91.9% of the variance is captured by a single component, therefore you could reasonably set `n_components = 1`. However, you gain an additional 5% points by including a second one, and therefore:"
      ]
    },
    {
      "cell_type": "code",
      "metadata": {
        "id": "99vAd8prSW1S"
      },
      "source": [
        "n_components = 2"
      ],
      "execution_count": 34,
      "outputs": []
    },
    {
      "cell_type": "markdown",
      "metadata": {
        "id": "D7pUn1QTSW1T"
      },
      "source": [
        "`std_clip` is used to ensure that outliers do not impact the typical operation of the detector. If many, many outliers (e.g. in a DDoS attack, or multiple broken parts in a assembly line) were sent to the detector then the weights (covariance matrix) would shift to include these outliers, therefore we set a `std_clip` whereby any data points above this clip level will have their `stdev` clipped to this maximal value. \n",
        "\n",
        "Setting the `std_clip` is case by case dependent, but you will use the following heuristic to set it. You will look at the `stdev` across the features, selecting the one which is the most widely distributed (the highest value). You will then set the `std_clip` to be 2 stdevs away from this maximal value. \n",
        "\n",
        "The code snippet below illustrates this."
      ]
    },
    {
      "cell_type": "code",
      "metadata": {
        "id": "0-V_rRnISW1U",
        "colab": {
          "base_uri": "https://localhost:8080/"
        },
        "outputId": "c9989d4a-eae6-419d-eba6-d8dc589c736f"
      },
      "source": [
        "std_clip = (2 * stdev.max(axis=0)).round(decimals=2)\n",
        "std_clip"
      ],
      "execution_count": 35,
      "outputs": [
        {
          "output_type": "execute_result",
          "data": {
            "text/plain": [
              "3.49"
            ]
          },
          "metadata": {
            "tags": []
          },
          "execution_count": 35
        }
      ]
    },
    {
      "cell_type": "markdown",
      "metadata": {
        "id": "uQRD5flhSW1V"
      },
      "source": [
        "Finally, the `start_clip` value is used to \"warm up\" the outlier detector. When the detector is first initialised it can be sensitive to new observations- which lead to large changes in the online mean and covariance matrix. During this period of time you do not want to show the outlier detector any outliers as it can greatly skew the accuracy of the running mean and covariance matrix.\n",
        "\n",
        "Thus during this \"warm up\" period you only show the outlier detector examples of normal data, and do not perform any clipping. The `start_clip` value determines after which point you should begin clipping data points and introducing outliers into the mix. \n",
        "\n",
        "Therefore `start_clip` in this case will be equal to the length of `X_train`, as you know that there are no outlying data points within the original Iris dataset. "
      ]
    },
    {
      "cell_type": "code",
      "metadata": {
        "id": "qKhAbTsoSW1W",
        "colab": {
          "base_uri": "https://localhost:8080/"
        },
        "outputId": "472dabab-b0ee-4dcc-d2fe-85f151938d1f"
      },
      "source": [
        "start_clip = len(X_train)\n",
        "start_clip"
      ],
      "execution_count": 36,
      "outputs": [
        {
          "output_type": "execute_result",
          "data": {
            "text/plain": [
              "120"
            ]
          },
          "metadata": {
            "tags": []
          },
          "execution_count": 36
        }
      ]
    },
    {
      "cell_type": "code",
      "metadata": {
        "id": "ErgHKxKBSW1W",
        "colab": {
          "base_uri": "https://localhost:8080/"
        },
        "outputId": "7da71478-08bc-4c60-dcf5-36316cdfe94a"
      },
      "source": [
        "threshold = None\n",
        "\n",
        "od = Mahalanobis(threshold,\n",
        "                 n_components=n_components,\n",
        "                 std_clip=std_clip,\n",
        "                 start_clip=start_clip)"
      ],
      "execution_count": 37,
      "outputs": [
        {
          "output_type": "stream",
          "text": [
            "No threshold level set. Need to infer threshold using `infer_threshold`.\n"
          ],
          "name": "stderr"
        }
      ]
    },
    {
      "cell_type": "markdown",
      "metadata": {
        "id": "KlmnPM7VSW1X"
      },
      "source": [
        "If you were dealing with categorical variables you would now run `od.fit(...)` however because the Iris dataset is solely continuous variables you do not need to perform this step. \n",
        "\n",
        "------\n",
        "\n",
        "You do however now need to set the threshold of Mahalanobis distance above which you consider a data instance an outlier. This can be done using the convenient `infer_threshold()` method. \n",
        "\n",
        "You first create a synthetic outlier batch using your training data and labels, with a certain percentage of the batch as outliers. Based upon this percentage of outliers you shall update the threshold value."
      ]
    },
    {
      "cell_type": "code",
      "metadata": {
        "id": "RjJ572aASW1X",
        "colab": {
          "base_uri": "https://localhost:8080/"
        },
        "outputId": "ecf16a2a-8ec4-4d73-f2b7-4c2729aab6d6"
      },
      "source": [
        "np.random.seed(0)\n",
        "perc_outlier = 5\n",
        "\n",
        "threshold_batch = create_outlier_batch(X_train, y_train, n_samples=1000, perc_outlier=perc_outlier)\n",
        "X_threshold, y_threshold = threshold_batch.data.astype('float'), threshold_batch.target\n",
        "X_threshold = (X_threshold - mean) / stdev\n",
        "print('{}% outliers'.format(100 * y_threshold.mean()))"
      ],
      "execution_count": 38,
      "outputs": [
        {
          "output_type": "stream",
          "text": [
            "5.0% outliers\n"
          ],
          "name": "stdout"
        }
      ]
    },
    {
      "cell_type": "markdown",
      "metadata": {
        "id": "oIQvHu46SW1Y"
      },
      "source": [
        "Once you have created the synthetic data we can determine the threshold using `infer_threshold`:"
      ]
    },
    {
      "cell_type": "code",
      "metadata": {
        "id": "G6HwtZIpSW1Y",
        "colab": {
          "base_uri": "https://localhost:8080/"
        },
        "outputId": "dff3443b-4a8c-4ab8-bfb5-1cdfacbd7839"
      },
      "source": [
        "od.infer_threshold(X_threshold, threshold_perc=100-perc_outlier)\n",
        "print('New threshold: {}'.format(od.threshold))\n",
        "threshold = od.threshold"
      ],
      "execution_count": 39,
      "outputs": [
        {
          "output_type": "stream",
          "text": [
            "New threshold: 8.10689543287148\n"
          ],
          "name": "stdout"
        }
      ]
    },
    {
      "cell_type": "markdown",
      "metadata": {
        "id": "rdKx3-6ySW1Z"
      },
      "source": [
        "You can now test your threshold by generating a second batch of outlying data, this time with a higher proportion of outliers: "
      ]
    },
    {
      "cell_type": "code",
      "metadata": {
        "id": "aOTdqj1kSW1a",
        "colab": {
          "base_uri": "https://localhost:8080/"
        },
        "outputId": "6e99fb14-eb03-4434-8520-31c8fd881b4e"
      },
      "source": [
        "np.random.seed(1)\n",
        "outlier_batch = create_outlier_batch(X_train, y_train, n_samples=1000, perc_outlier=10)\n",
        "X_outlier, y_outlier = outlier_batch.data.astype('float'), outlier_batch.target\n",
        "X_outlier = (X_outlier - mean) / stdev\n",
        "print(X_outlier.shape, y_outlier.shape)\n",
        "print('{}% outliers'.format(100 * y_outlier.mean()))"
      ],
      "execution_count": 40,
      "outputs": [
        {
          "output_type": "stream",
          "text": [
            "(1000, 4) (1000,)\n",
            "10.0% outliers\n"
          ],
          "name": "stdout"
        }
      ]
    },
    {
      "cell_type": "markdown",
      "metadata": {
        "id": "MZl7Z3xOSW1a"
      },
      "source": [
        "Generating outlier predictions from your new detector using the freshly created outlier batch:"
      ]
    },
    {
      "cell_type": "code",
      "metadata": {
        "id": "wX2WglxTSW1a"
      },
      "source": [
        "od_preds = od.predict(X_outlier, return_instance_score=True)"
      ],
      "execution_count": 42,
      "outputs": []
    },
    {
      "cell_type": "code",
      "metadata": {
        "id": "Bt24SjTESW1b",
        "colab": {
          "base_uri": "https://localhost:8080/",
          "height": 287
        },
        "outputId": "e68f56f6-1166-492b-c285-75bafd686a16"
      },
      "source": [
        "labels = outlier_batch.target_names\n",
        "y_pred = od_preds['data']['is_outlier']\n",
        "f1 = f1_score(y_outlier, y_pred)\n",
        "print('F1 score: {}'.format(f1))\n",
        "cm = confusion_matrix(y_outlier, y_pred)\n",
        "df_cm = pd.DataFrame(cm, index=labels, columns=labels)\n",
        "sns.heatmap(df_cm, annot=True, cbar=True, linewidths=.5)\n",
        "plt.show()"
      ],
      "execution_count": 43,
      "outputs": [
        {
          "output_type": "stream",
          "text": [
            "F1 score: 0.9304812834224598\n"
          ],
          "name": "stdout"
        },
        {
          "output_type": "display_data",
          "data": {
            "image/png": "[encoded data removed]",
            "text/plain": [
              "<Figure size 432x288 with 2 Axes>"
            ]
          },
          "metadata": {
            "tags": [],
            "needs_background": "light"
          }
        }
      ]
    },
    {
      "cell_type": "code",
      "metadata": {
        "id": "mflIqH2mSW1b",
        "colab": {
          "base_uri": "https://localhost:8080/",
          "height": 279
        },
        "outputId": "66c6c4a6-9202-4044-9757-42f53fc5d62a"
      },
      "source": [
        "plot_instance_score(od_preds, y_outlier, labels, od.threshold)"
      ],
      "execution_count": 44,
      "outputs": [
        {
          "output_type": "display_data",
          "data": {
            "image/png": "[encoded data removed]",
            "text/plain": [
              "<Figure size 432x288 with 1 Axes>"
            ]
          },
          "metadata": {
            "tags": [],
            "needs_background": "light"
          }
        }
      ]
    },
    {
      "cell_type": "markdown",
      "metadata": {
        "id": "_85cO5sNSW1b"
      },
      "source": [
        "Saving your handiwork is simple. "
      ]
    },
    {
      "cell_type": "code",
      "metadata": {
        "id": "dkS4_y_wSW1c",
        "colab": {
          "base_uri": "https://localhost:8080/"
        },
        "outputId": "02cac7e8-54bb-447f-d0f5-5835dbd4cb8e"
      },
      "source": [
        "save_detector(od, \"outlier_detector\")"
      ],
      "execution_count": 45,
      "outputs": [
        {
          "output_type": "stream",
          "text": [
            "Directory outlier_detector does not exist and is now created.\n"
          ],
          "name": "stderr"
        }
      ]
    },
    {
      "cell_type": "markdown",
      "metadata": {
        "id": "nVlycFf_SW1c"
      },
      "source": [
        "Uploading the outlier detector to a Google Storage bucket.\n",
        "\n",
        "Make sure to replace `<YOUR NAME>` with your name to prevent overwriting others artefacts."
      ]
    },
    {
      "cell_type": "code",
      "metadata": {
        "id": "Biv60APDSW1e",
        "colab": {
          "base_uri": "https://localhost:8080/"
        },
        "outputId": "3c4595be-f51d-4bc2-a5bb-273990701b3c"
      },
      "source": [
        "# Recursive copy this time as the OD is saved as a directory containing all the relevant binaries and parameters.\n",
        "!gsutil cp -r outlier_detector gs://tom-seldon-examples/deploy-workshop/{YOUR_NAME}/lr/"
      ],
      "execution_count": 47,
      "outputs": [
        {
          "output_type": "stream",
          "text": [
            "Copying file://outlier_detector/Mahalanobis.pickle [Content-Type=application/octet-stream]...\n",
            "/ [0 files][    0.0 B/  738.0 B]                                                \r/ [1 files][  738.0 B/  738.0 B]                                                \rCopying file://outlier_detector/meta.pickle [Content-Type=application/octet-stream]...\n",
            "/ [1 files][  738.0 B/  838.0 B]                                                \r/ [2 files][  838.0 B/  838.0 B]                                                \r\n",
            "Operation completed over 2 objects/838.0 B.                                      \n"
          ],
          "name": "stdout"
        }
      ]
    },
    {
      "cell_type": "code",
      "metadata": {
        "id": "IEodBjJ6SW1i"
      },
      "source": [
        "OD_URI = f'gs://tom-seldon-examples/deploy-workshop/{YOUR_NAME}/lr/outlier_detector/'\n",
        "OD_NAME = 'mahalobanis-od'\n",
        "\n",
        "od_config = {'deployment': DEPLOYMENT_NAME,\n",
        "             'deployment_namespace': NAMESPACE,\n",
        "             'namespace': 'seldon-logs',\n",
        "             'params': {'drift_batch_size': None,\n",
        "                        'env_secret_ref': None,\n",
        "                        'event_source': f'io.seldon.serving.dev-seldondeployment-{DEPLOYMENT_NAME}-outlier',\n",
        "                        'event_type': 'io.seldon.serving.inference.outlier',\n",
        "                        'http_port': '8080',\n",
        "                        'model_name': OD_NAME,\n",
        "                        'protocol': 'seldon.http',\n",
        "                        'reply_url': 'http://seldon-request-logger.seldon-logs',\n",
        "                        'storage_uri': OD_URI,\n",
        "                        'user_permission': None},\n",
        "             'prom_scraping': None,\n",
        "             'url': None}"
      ],
      "execution_count": 52,
      "outputs": []
    },
    {
      "cell_type": "code",
      "metadata": {
        "scrolled": true,
        "id": "3H4uXxdOSW1l",
        "colab": {
          "base_uri": "https://localhost:8080/"
        },
        "outputId": "c6d477b1-9ddf-4e72-8a72-a9b6dcc59362"
      },
      "source": [
        "od_api = OutlierDetectorApi(auth())\n",
        "od_api.create_outlier_detector_seldon_deployment(name=DEPLOYMENT_NAME,\n",
        "                                                 namespace=NAMESPACE,\n",
        "                                                 outlier_detector=od_config)"
      ],
      "execution_count": 53,
      "outputs": [
        {
          "output_type": "execute_result",
          "data": {
            "text/plain": [
              "{'deployment': 'sean-greaves-lr',\n",
              " 'deployment_namespace': None,\n",
              " 'namespace': 'seldon-logs',\n",
              " 'params': {'drift_batch_size': None,\n",
              "            'env_secret_ref': None,\n",
              "            'event_source': 'io.seldon.serving.test-seldondeployment-sean-greaves-lr-outlier',\n",
              "            'event_type': 'io.seldon.serving.inference.outlier',\n",
              "            'http_port': '8080',\n",
              "            'model_name': 'mahalobanis-od',\n",
              "            'protocol': 'seldon.http',\n",
              "            'reply_url': 'http://seldon-request-logger.seldon-logs',\n",
              "            'storage_uri': 'gs://tom-seldon-examples/deploy-workshop/sean-greaves/lr/outlier_detector/',\n",
              "            'user_permission': None},\n",
              " 'prom_scraping': None,\n",
              " 'url': None}"
            ]
          },
          "metadata": {
            "tags": []
          },
          "execution_count": 53
        }
      ]
    }
  ]
}