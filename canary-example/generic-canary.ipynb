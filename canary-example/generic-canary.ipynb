{
 "cells": [
  {
   "cell_type": "markdown",
   "metadata": {
    "id": "RomFuTAqSW0Z"
   },
   "source": [
    "# Iris Classification Canary Deployment\n",
    "This notebook gets you hands-on with Seldon Deploy, demonstrating how you can create canary deployments. "
   ]
  },
  {
   "cell_type": "markdown",
   "metadata": {
    "id": "01OHsBI6SW0e"
   },
   "source": [
    "### Import relevant packages"
   ]
  },
  {
   "cell_type": "code",
   "execution_count": null,
   "metadata": {
    "colab": {
     "base_uri": "https://localhost:8080/"
    },
    "id": "HfKXJ5t5SW0i",
    "outputId": "f74fcf25-2dd9-4b68-a0b1-4316a6094b30"
   },
   "outputs": [],
   "source": [
    "!pip install seldon-deploy-sdk"
   ]
  },
  {
   "cell_type": "code",
   "execution_count": null,
   "metadata": {
    "id": "5WGfR_7vSW0m"
   },
   "outputs": [],
   "source": [
    "from seldon_deploy_sdk import Configuration, ApiClient, SeldonDeploymentsApi\n",
    "from seldon_deploy_sdk.auth import OIDCAuthenticator\n",
    "\n",
    "from sklearn.linear_model import LogisticRegression\n",
    "from sklearn.datasets import load_iris\n",
    "from sklearn.model_selection import train_test_split\n",
    "from sklearn.metrics import precision_score, recall_score, accuracy_score, f1_score, confusion_matrix\n",
    "\n",
    "import numpy as np\n",
    "import pandas as pd\n",
    "\n",
    "import xgboost as xgb\n",
    "\n",
    "import os\n",
    "import joblib"
   ]
  },
  {
   "cell_type": "markdown",
   "metadata": {
    "id": "dMwu2Rk4SW0r"
   },
   "source": [
    "### Loading the data\n",
    "Once you have all of the relevant packages you can now explore the dataset. "
   ]
  },
  {
   "cell_type": "code",
   "execution_count": null,
   "metadata": {
    "id": "MgWkzF1dSW0t"
   },
   "outputs": [],
   "source": [
    "dataset = load_iris()\n",
    "feature_names = dataset.feature_names\n",
    "class_names = list(dataset.target_names)\n",
    "\n",
    "X = dataset.data\n",
    "y = dataset.target"
   ]
  },
  {
   "cell_type": "markdown",
   "metadata": {
    "id": "SRia7-RuSW0v"
   },
   "source": [
    "Creating a train/test split of the data to ensure you have an unseen subset of the dataset with which to validate your model's performance. "
   ]
  },
  {
   "cell_type": "code",
   "execution_count": null,
   "metadata": {
    "id": "4qIxSW-nSW0y"
   },
   "outputs": [],
   "source": [
    "X_train, X_test, y_train, y_test = train_test_split(X, y, test_size=0.2, random_state=42)"
   ]
  },
  {
   "cell_type": "code",
   "execution_count": null,
   "metadata": {
    "colab": {
     "base_uri": "https://localhost:8080/"
    },
    "id": "nW3GSuqcSW04",
    "outputId": "bf0d067c-7817-4dec-b575-7f971446c530"
   },
   "outputs": [],
   "source": [
    "np.unique(y_train)"
   ]
  },
  {
   "cell_type": "markdown",
   "metadata": {
    "id": "dHfasBPrSW05"
   },
   "source": [
    "Meanwhile, the labels (your y data) have three separate classes- each representing a different species of Iris:\n",
    "\n",
    "0. Iris setosa\n",
    "1. Iris virginica\n",
    "2. Iris versicolor"
   ]
  },
  {
   "cell_type": "markdown",
   "metadata": {
    "id": "wtm3VdPUSW06"
   },
   "source": [
    "### Model training\n",
    "Next you will train two separate machine learning models on your dataset."
   ]
  },
  {
   "cell_type": "code",
   "execution_count": null,
   "metadata": {
    "colab": {
     "base_uri": "https://localhost:8080/"
    },
    "id": "WOiGalUqSW07",
    "outputId": "371b843d-7fe1-4fc0-e1f3-5b51510f9987"
   },
   "outputs": [],
   "source": [
    "lr = LogisticRegression(max_iter=4000)\n",
    "lr.fit(X_train, y_train)\n",
    "\n",
    "print(precision_score(y_test, lr.predict(X_test), average=\"macro\"))\n",
    "print(recall_score(y_test, lr.predict(X_test), average=\"macro\"))\n",
    "print(accuracy_score(y_test, lr.predict(X_test)))"
   ]
  },
  {
   "cell_type": "markdown",
   "metadata": {
    "id": "1MxWp8CGSW08"
   },
   "source": [
    "You'll notice that your model has perfect evaluation scores, this implies that the model is overfitted on the dataset. For the purposes of this workshop, you're not going to worry about this.\n",
    "\n",
    "----\n",
    "\n",
    "You can now train your second machine learning model- an XGBoost classifier. The first step is to convert the dataset into XGBoost's expected DMatrix data format. "
   ]
  },
  {
   "cell_type": "code",
   "execution_count": null,
   "metadata": {
    "id": "U2n7Rs61SW09"
   },
   "outputs": [],
   "source": [
    "dtrain = xgb.DMatrix(X_train, label=y_train)\n",
    "dtest = xgb.DMatrix(X_test, label=y_test)"
   ]
  },
  {
   "cell_type": "markdown",
   "metadata": {
    "id": "S6dCVcUJSW09"
   },
   "source": [
    "Next, you will set the hyperparameters associated with the XGBoost algorithim. This is essentially telling the model how large to be (`max_depth`), how quickly to learn (`eta`), information about the task (`objective`) and  the number of classes (`num_class`). \n",
    "\n",
    "Finally, you set the `num_round` which tells XGBoost how many iterations over the dataset to perform. "
   ]
  },
  {
   "cell_type": "code",
   "execution_count": null,
   "metadata": {
    "id": "zCxOKjK1SW0-"
   },
   "outputs": [],
   "source": [
    "param = {\n",
    "    'max_depth': 3,\n",
    "    'eta': 0.3,\n",
    "    'objective': 'multi:softprob',\n",
    "    'num_class': 3} \n",
    "\n",
    "num_round = 20"
   ]
  },
  {
   "cell_type": "markdown",
   "metadata": {
    "id": "EHPU7o8HSW0-"
   },
   "source": [
    "You can then train and score the classifier. "
   ]
  },
  {
   "cell_type": "code",
   "execution_count": null,
   "metadata": {
    "colab": {
     "base_uri": "https://localhost:8080/"
    },
    "id": "CPH0kxIiSW0-",
    "outputId": "a72b8b36-1639-4e71-e91f-5150da71a632"
   },
   "outputs": [],
   "source": [
    "bst = xgb.train(param, dtrain, num_round)\n",
    "preds = np.asarray([np.argmax(line) for line in bst.predict(dtest)])\n",
    "print(precision_score(y_test, preds, average=\"macro\"))\n",
    "print(recall_score(y_test, preds, average=\"macro\"))\n",
    "print(accuracy_score(y_test, preds))"
   ]
  },
  {
   "cell_type": "markdown",
   "metadata": {
    "id": "Iml5FehYSW0_"
   },
   "source": [
    "Again, you can see that the model has overfit on the dataset. However, you will now save both of the models ready for them to be deployed. \n",
    "\n",
    "The Scikit-Learn pre-packaged server expects the saved model artefact to be called `model.joblib`. Meanwhile, the XGBoost pre-packaged server expects your model to be called `model.bst` when it is uploaded to our storage bucket."
   ]
  },
  {
   "cell_type": "code",
   "execution_count": null,
   "metadata": {
    "id": "QA5ExihMSW0_"
   },
   "outputs": [],
   "source": [
    "# Saving the logistic regressor\n",
    "joblib.dump(lr, 'model.joblib')\n",
    "\n",
    "# Saving the XGBoost classifier\n",
    "bst.save_model('model.bst')"
   ]
  },
  {
   "cell_type": "markdown",
   "metadata": {
    "id": "fJI4NA4cSW1A"
   },
   "source": [
    "### Push model artefacts to GCP\n",
    "\n",
    "You will now push the saved model binaries to a GCP bucket, where they can be picked up by Seldon and deployed onto Kubernetes. \n",
    "\n",
    "You will need to create a unique name for your model artefact. It's easiest to just use your own name. Be careful not to use any upper-case letters or other characters like \"_\". Dashes are fine, so for example: YOUR_NAME = \"john-smith\""
   ]
  },
  {
   "cell_type": "code",
   "execution_count": null,
   "metadata": {
    "id": "pY01jI5KHlwU"
   },
   "outputs": [],
   "source": [
    "YOUR_NAME = \"john-smith\""
   ]
  },
  {
   "cell_type": "code",
   "execution_count": null,
   "metadata": {
    "colab": {
     "base_uri": "https://localhost:8080/"
    },
    "id": "Y_V5lgCkSW1A",
    "outputId": "a4ca542e-a7a2-4514-93a2-0a0ba4b2df79"
   },
   "outputs": [],
   "source": [
    "!gsutil cp model.joblib gs://tom-seldon-examples/deploy-workshop/\"{YOUR_NAME}\"/lr/model.joblib\n",
    "!gsutil cp model.bst gs://tom-seldon-examples/deploy-workshop/\"{YOUR_NAME}\"/xgb/model.bst"
   ]
  },
  {
   "cell_type": "markdown",
   "metadata": {
    "id": "qDRBvVzRSW1B"
   },
   "source": [
    "### Model Deployment\n",
    "\n",
    "Deploying the model to a Seldon Deploy trial instance using the `seldon-deploy-sdk`. \n",
    "\n",
    "First, setting up the configuration and authentication required to access the cluster. "
   ]
  },
  {
   "cell_type": "code",
   "execution_count": null,
   "metadata": {
    "id": "Lf1mxpQmSW1B"
   },
   "outputs": [],
   "source": [
    "SD_IP = \"139.59.203.129\"\n",
    "\n",
    "config = Configuration()\n",
    "config.host = f\"http://{SD_IP}/seldon-deploy/api/v1alpha1\"\n",
    "config.oidc_client_id = \"sd-api\"\n",
    "config.oidc_server = f\"http://{SD_IP}/auth/realms/deploy-realm\"\n",
    "username = \"admin@seldon.io\"\n",
    "password = \"12341234\"\n",
    "\n",
    "def auth():\n",
    "    auth = OIDCAuthenticator(config)\n",
    "    config.access_token = auth.authenticate(username, password)\n",
    "    api_client = ApiClient(config)\n",
    "    return api_client"
   ]
  },
  {
   "cell_type": "markdown",
   "metadata": {
    "id": "4Cu9NAjhzjq0"
   },
   "source": [
    "### Canary Deployment\n"
   ]
  },
  {
   "cell_type": "markdown",
   "metadata": {
    "id": "tM7MBe3FSW1C"
   },
   "source": [
    "Now we have configured the IP correctly as well as setup our authentication function we can describe the deployment we would like to create.\n",
    "\n",
    "You will need to fill in the model name, deployment name, model location, prepackaged server and traffic split for both models in the canary deployment:"
   ]
  },
  {
   "cell_type": "code",
   "execution_count": null,
   "metadata": {
    "id": "iMC5dC7xSW1D"
   },
   "outputs": [],
   "source": [
    "NAMESPACE = \"test\"\n",
    "\n",
    "MODEL_NAME = \"lr\"\n",
    "DEPLOYMENT_NAME = f\"{YOUR_NAME}-{MODEL_NAME}\"\n",
    "MODEL_LOCATION = f\"gs://tom-seldon-examples/deploy-workshop/{YOUR_NAME}/{MODEL_NAME}\"\n",
    "PREPACKAGED_SERVER = \"SKLEARN_SERVER\"\n",
    "DEFAULT_TRAFFIC = 60\n",
    "CPU_REQUESTS = \"1\"\n",
    "MEMORY_REQUESTS = \"1Gi\"\n",
    "CPU_LIMITS = \"1\"\n",
    "MEMORY_LIMITS = \"1Gi\"\n",
    "\n",
    "CANARY_MODEL_NAME = 'xgb'\n",
    "CANARY_DEPLOYMENT_NAME = f\"{YOUR_NAME}-{CANARY_MODEL_NAME}\"\n",
    "CANARY_MODEL_LOCATION = f\"gs://tom-seldon-examples/deploy-workshop/{YOUR_NAME}/{CANARY_MODEL_NAME}\"\n",
    "CANARY_PREPACKAGED_SERVER = \"XGBOOST_SERVER\"\n",
    "CANARY_TRAFFIC = 40"
   ]
  },
  {
   "cell_type": "code",
   "execution_count": null,
   "metadata": {
    "id": "oSib6ZcZSW1D"
   },
   "outputs": [],
   "source": [
    "mldeployment = {\n",
    "    \"kind\": \"SeldonDeployment\",\n",
    "    \"metadata\": {\n",
    "        \"name\": DEPLOYMENT_NAME,\n",
    "        \"namespace\": NAMESPACE,\n",
    "        \"labels\": {\n",
    "            \"fluentd\": \"true\"\n",
    "        }\n",
    "    },\n",
    "    \"apiVersion\": \"machinelearning.seldon.io/v1alpha2\",\n",
    "    \"spec\": {\n",
    "        \"name\": DEPLOYMENT_NAME,\n",
    "        \"annotations\": {\n",
    "            \"seldon.io/engine-seldon-log-messages-externally\": \"true\"\n",
    "        },\n",
    "        \"protocol\": \"seldon\",\n",
    "        \"transport\": \"rest\",\n",
    "        \"predictors\": [\n",
    "            {\n",
    "                \"componentSpecs\": [\n",
    "                    {\n",
    "                        \"spec\": {\n",
    "                            \"containers\": [\n",
    "                                {\n",
    "                                    \"name\": f\"{DEPLOYMENT_NAME}-container\",\n",
    "                                    \"resources\": {\n",
    "                                        \"requests\": {\n",
    "                                            \"cpu\": CPU_REQUESTS,\n",
    "                                            \"memory\": MEMORY_REQUESTS\n",
    "                                        },\n",
    "                                        \"limits\": {\n",
    "                                            \"cpu\": CPU_LIMITS,\n",
    "                                            \"memory\": MEMORY_LIMITS\n",
    "                                        }\n",
    "                                    }\n",
    "                                }\n",
    "                            ]\n",
    "                        }\n",
    "                    }\n",
    "                ],\n",
    "                \"name\": \"default\",\n",
    "                \"replicas\": 1,\n",
    "                \"traffic\": DEFAULT_TRAFFIC,\n",
    "                \"graph\": {\n",
    "                    \"implementation\": PREPACKAGED_SERVER,\n",
    "                    \"modelUri\": MODEL_LOCATION,\n",
    "                    \"name\": f\"{DEPLOYMENT_NAME}-container\",\n",
    "                    \"endpoint\": {\n",
    "                        \"type\": \"REST\"\n",
    "                    },\n",
    "                    \"parameters\": [],\n",
    "                    \"children\": [],\n",
    "                    \"logger\": {\n",
    "                        \"mode\": \"all\"\n",
    "                    }\n",
    "                }\n",
    "            },{\n",
    "                \"componentSpecs\": [\n",
    "                    {\n",
    "                        \"spec\": {\n",
    "                            \"containers\": [\n",
    "                                {\n",
    "                                    \"name\": f\"{CANARY_DEPLOYMENT_NAME}-container\",\n",
    "                                    \"resources\": {}\n",
    "                                }\n",
    "                            ]\n",
    "                        }\n",
    "                    }\n",
    "                ],\n",
    "                \"name\": \"canary\",\n",
    "                \"replicas\": 1,\n",
    "                \"traffic\": CANARY_TRAFFIC,\n",
    "                \"graph\": {\n",
    "                    \"implementation\": CANARY_PREPACKAGED_SERVER,\n",
    "                    \"modelUri\": CANARY_MODEL_LOCATION,\n",
    "                    \"name\": f\"{CANARY_DEPLOYMENT_NAME}-container\"\n",
    "                }\n",
    "            }\n",
    "        ]\n",
    "    },\n",
    "    \"status\": {}\n",
    "}"
   ]
  },
  {
   "cell_type": "code",
   "execution_count": null,
   "metadata": {
    "colab": {
     "base_uri": "https://localhost:8080/"
    },
    "id": "U60-n9u1SW1E",
    "outputId": "aa1273da-0598-4066-ab70-5ecde0ba4965",
    "scrolled": true
   },
   "outputs": [],
   "source": [
    "deployment_api = SeldonDeploymentsApi(auth())\n",
    "deployment_api.update_seldon_deployment(namespace=NAMESPACE, name=DEPLOYMENT_NAME, mldeployment=mldeployment)"
   ]
  },
  {
   "cell_type": "markdown",
   "metadata": {
    "id": "KvF85kJmSW1F"
   },
   "source": [
    "Our canary deployment should now be running as a fully fledged microservice. You can now log into Seldon Deploy and test your deployment:\n",
    "\n",
    "* URL: http://139.59.203.129/seldon-deploy/\n",
    "* Username: admin@seldon.io\n",
    "* Password: 12341234\n",
    "\n",
    "You can now test your models with this request.\n",
    "```\n",
    "{\n",
    "    \"data\": {\n",
    "    \"names\": [\"Sepal length\",\"Sepal width\",\"Petal length\", \"Petal Width\"],\n",
    "    \"ndarray\": [\n",
    "        [6.8,  2.8,  4.8,  1.4]\n",
    "    ]\n",
    "    }\n",
    "}\n",
    "```\n",
    "  "
   ]
  },
  {
   "cell_type": "markdown",
   "metadata": {
    "id": "iakJC-QiRW4W"
   },
   "source": [
    "### Get current deployments\n",
    "\n"
   ]
  },
  {
   "cell_type": "code",
   "execution_count": null,
   "metadata": {
    "colab": {
     "base_uri": "https://localhost:8080/"
    },
    "id": "qbtZjwbsPR4G",
    "outputId": "ca467dc5-3b85-46ef-ea0a-2ec91c27d5d1"
   },
   "outputs": [],
   "source": [
    "deployment_api = SeldonDeploymentsApi(auth())\n",
    "deployment_api.list_seldon_deployments(namespace=NAMESPACE)"
   ]
  },
  {
   "cell_type": "markdown",
   "metadata": {
    "id": "-w7dkyYJRbKK"
   },
   "source": [
    "### Promote XGBoost\n",
    "\n",
    "To promote the XGBoost classifier we can adjust our ```mldeployment``` dictionary by replacing our default scikit-learn model with the xgboost model, adjusting the traffic to 100% and removing the canary:"
   ]
  },
  {
   "cell_type": "code",
   "execution_count": null,
   "metadata": {
    "id": "AzkD-jIpztps"
   },
   "outputs": [],
   "source": [
    "mldeployment['spec']['predictors'][0] = mldeployment['spec']['predictors'][1]\n",
    "mldeployment['spec']['predictors'][0]['traffic'] = 100\n",
    "del mldeployment['spec']['predictors'][1]"
   ]
  },
  {
   "cell_type": "code",
   "execution_count": null,
   "metadata": {
    "colab": {
     "base_uri": "https://localhost:8080/"
    },
    "id": "uERv5NwP4NuW",
    "outputId": "aa041d6d-6b2b-48ff-a969-50f6721f8967"
   },
   "outputs": [],
   "source": [
    "deployment_api = SeldonDeploymentsApi(auth())\n",
    "deployment_api.create_seldon_deployment(namespace=NAMESPACE, mldeployment=mldeployment)"
   ]
  }
 ],
 "metadata": {
  "colab": {
   "collapsed_sections": [],
   "name": "generic_workshop.ipynb",
   "provenance": []
  },
  "kernelspec": {
   "display_name": "Python 3",
   "language": "python",
   "name": "python3"
  },
  "language_info": {
   "codemirror_mode": {
    "name": "ipython",
    "version": 3
   },
   "file_extension": ".py",
   "mimetype": "text/x-python",
   "name": "python",
   "nbconvert_exporter": "python",
   "pygments_lexer": "ipython3",
   "version": "3.9.2"
  }
 },
 "nbformat": 4,
 "nbformat_minor": 1
}
